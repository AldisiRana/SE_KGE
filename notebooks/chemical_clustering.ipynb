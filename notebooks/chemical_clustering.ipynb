{
 "cells": [
  {
   "cell_type": "markdown",
   "metadata": {},
   "source": [
    "# Create chemical clusters based on their similarities\n",
    "Note: to run this code you need to have RDkit package and environment"
   ]
  },
  {
   "cell_type": "code",
   "execution_count": 11,
   "metadata": {},
   "outputs": [],
   "source": [
    "import os\n",
    "import pandas as pd\n",
    "from rdkit.Chem.Fingerprints import ClusterMols\n",
    "from rdkit.Chem.Fingerprints import FingerprintMols\n",
    "from rdkit.Chem import PandasTools\n",
    "from rdkit.Chem import rdFingerprintGenerator\n",
    "from rdkit import Chem, DataStructs\n",
    "from rdkit.Chem import Draw\n",
    "from rdkit.Chem.Draw import IPythonConsole\n",
    "from rdkit.Chem import MACCSkeys\n",
    "from rdkit.Chem import rdmolops\n",
    "from rdkit.Chem.Fingerprints import FingerprintMols\n",
    "import numpy as np\n",
    "from tqdm import tqdm_notebook as tqdm\n",
    "from rdkit import DataStructs\n",
    "from rdkit.ML.Cluster import Butina"
   ]
  },
  {
   "cell_type": "markdown",
   "metadata": {},
   "source": [
    "# Get chemicals mapping file"
   ]
  },
  {
   "cell_type": "code",
   "execution_count": 14,
   "metadata": {},
   "outputs": [],
   "source": [
    "mapping_file = pd.read_csv(os.path.join(os.pardir, \"resources\", \"drugbank_pubchem_mapping.tsv\"))"
   ]
  },
  {
   "cell_type": "code",
   "execution_count": 15,
   "metadata": {},
   "outputs": [
    {
     "data": {
      "text/html": [
       "<div>\n",
       "<style scoped>\n",
       "    .dataframe tbody tr th:only-of-type {\n",
       "        vertical-align: middle;\n",
       "    }\n",
       "\n",
       "    .dataframe tbody tr th {\n",
       "        vertical-align: top;\n",
       "    }\n",
       "\n",
       "    .dataframe thead th {\n",
       "        text-align: right;\n",
       "    }\n",
       "</style>\n",
       "<table border=\"1\" class=\"dataframe\">\n",
       "  <thead>\n",
       "    <tr style=\"text-align: right;\">\n",
       "      <th></th>\n",
       "      <th>PubchemID</th>\n",
       "      <th>Smiles</th>\n",
       "      <th>DrugbankName</th>\n",
       "    </tr>\n",
       "  </thead>\n",
       "  <tbody>\n",
       "    <tr>\n",
       "      <th>0</th>\n",
       "      <td>5311128</td>\n",
       "      <td>CC(C)C[C@H](NC(=O)[C@@H](COC(C)(C)C)NC(=O)[C@H...</td>\n",
       "      <td>Goserelin</td>\n",
       "    </tr>\n",
       "    <tr>\n",
       "      <th>1</th>\n",
       "      <td>16051933</td>\n",
       "      <td>NC(=O)CC[C@@H]1NC(=O)[C@H](CC2=CC=CC=C2)NC(=O)...</td>\n",
       "      <td>Desmopressin</td>\n",
       "    </tr>\n",
       "    <tr>\n",
       "      <th>2</th>\n",
       "      <td>25074887</td>\n",
       "      <td>CC(C)C[C@H](NC(=O)[C@@H](CCCNC(N)=O)NC(=O)[C@H...</td>\n",
       "      <td>Cetrorelix</td>\n",
       "    </tr>\n",
       "    <tr>\n",
       "      <th>3</th>\n",
       "      <td>5280754</td>\n",
       "      <td>CCC1NC(=O)C(C(O)C(C)C\\C=C\\C)N(C)C(=O)C(C(C)C)N...</td>\n",
       "      <td>Cyclosporine</td>\n",
       "    </tr>\n",
       "    <tr>\n",
       "      <th>4</th>\n",
       "      <td>14257662</td>\n",
       "      <td>NCCCC[C@H](NC(=O)[C@@H]1CCCN1C(=O)[C@@H]1CSSC[...</td>\n",
       "      <td>Felypressin</td>\n",
       "    </tr>\n",
       "  </tbody>\n",
       "</table>\n",
       "</div>"
      ],
      "text/plain": [
       "   PubchemID                                             Smiles  DrugbankName\n",
       "0    5311128  CC(C)C[C@H](NC(=O)[C@@H](COC(C)(C)C)NC(=O)[C@H...     Goserelin\n",
       "1   16051933  NC(=O)CC[C@@H]1NC(=O)[C@H](CC2=CC=CC=C2)NC(=O)...  Desmopressin\n",
       "2   25074887  CC(C)C[C@H](NC(=O)[C@@H](CCCNC(N)=O)NC(=O)[C@H...    Cetrorelix\n",
       "3    5280754  CCC1NC(=O)C(C(O)C(C)C\\C=C\\C)N(C)C(=O)C(C(C)C)N...  Cyclosporine\n",
       "4   14257662  NCCCC[C@H](NC(=O)[C@@H]1CCCN1C(=O)[C@@H]1CSSC[...   Felypressin"
      ]
     },
     "execution_count": 15,
     "metadata": {},
     "output_type": "execute_result"
    }
   ],
   "source": [
    "mapping_file.head()"
   ]
  },
  {
   "cell_type": "code",
   "execution_count": 16,
   "metadata": {},
   "outputs": [],
   "source": [
    "mapping_file = mapping_file.dropna()"
   ]
  },
  {
   "cell_type": "code",
   "execution_count": 38,
   "metadata": {},
   "outputs": [],
   "source": [
    "full_graph = pybel.from_pickle(os.path.join(os.pardir, \"resources\", \"fullgraph_without_sim.pickle\"))"
   ]
  },
  {
   "cell_type": "code",
   "execution_count": 47,
   "metadata": {},
   "outputs": [],
   "source": [
    "chem_list = []\n",
    "for node in full_graph.nodes():\n",
    "    if node.namespace != 'pubchem':\n",
    "        continue\n",
    "    chem_list.append(node.identifier)"
   ]
  },
  {
   "cell_type": "code",
   "execution_count": 48,
   "metadata": {},
   "outputs": [],
   "source": [
    "mols_dict = {}\n",
    "for index, row in mapping_file.iterrows():\n",
    "    if str(row['PubchemID']) not in chem_list:\n",
    "        continue\n",
    "    mols_dict[row['PubchemID']] = Chem.MolFromSmiles(row['Smiles'])"
   ]
  },
  {
   "cell_type": "markdown",
   "metadata": {},
   "source": [
    "# Using distance matrix for clustering"
   ]
  },
  {
   "cell_type": "markdown",
   "metadata": {},
   "source": [
    "# Clustering using Butina"
   ]
  },
  {
   "cell_type": "code",
   "execution_count": 50,
   "metadata": {},
   "outputs": [
    {
     "data": {
      "application/vnd.jupyter.widget-view+json": {
       "model_id": "eb1d8b2ceec541928923c3052631cc85",
       "version_major": 2,
       "version_minor": 0
      },
      "text/plain": [
       "HBox(children=(IntProgress(value=0, max=3759), HTML(value='')))"
      ]
     },
     "metadata": {},
     "output_type": "display_data"
    }
   ],
   "source": [
    "fps_drug = {}\n",
    "fps = []\n",
    "drugs = []\n",
    "for drug, mol in tqdm(mols_dict.items()):\n",
    "    if mol is None:\n",
    "        continue\n",
    "    fp = MACCSkeys.GenMACCSKeys(mol)\n",
    "    fps.append(fp)\n",
    "    drugs.append(drug)\n",
    "    fps_drug[drug] = fp"
   ]
  },
  {
   "cell_type": "code",
   "execution_count": 55,
   "metadata": {},
   "outputs": [
    {
     "data": {
      "application/vnd.jupyter.widget-view+json": {
       "model_id": "38c17f0da3da4165856a3c7354d2ef40",
       "version_major": 2,
       "version_minor": 0
      },
      "text/plain": [
       "HBox(children=(IntProgress(value=0, max=3709), HTML(value='')))"
      ]
     },
     "metadata": {},
     "output_type": "display_data"
    }
   ],
   "source": [
    "dists = []\n",
    "nfps = len(fps)\n",
    "for i in tqdm(range(1,nfps)):\n",
    "    sims = DataStructs.BulkTanimotoSimilarity(fps[i],fps[:i])\n",
    "    dists.extend([1-x for x in sims])"
   ]
  },
  {
   "cell_type": "code",
   "execution_count": 56,
   "metadata": {},
   "outputs": [],
   "source": [
    "cs = Butina.ClusterData(dists,nfps,0.3,isDistData=True)"
   ]
  },
  {
   "cell_type": "code",
   "execution_count": 57,
   "metadata": {},
   "outputs": [],
   "source": [
    "df = pd.DataFrame(columns = ['PubchemID', 'Cluster'])"
   ]
  },
  {
   "cell_type": "code",
   "execution_count": 58,
   "metadata": {},
   "outputs": [],
   "source": [
    "i=1\n",
    "j=1\n",
    "clusters = {}\n",
    "for cluster in cs:\n",
    "    for drug in cluster:\n",
    "        df.loc[i] = [drugs[drug-1]] + [j]\n",
    "        i+=1\n",
    "    j+=1"
   ]
  },
  {
   "cell_type": "code",
   "execution_count": 59,
   "metadata": {},
   "outputs": [],
   "source": [
    "df.to_csv(os.path.join(os.pardir, \"resources\", 'Clustered_chemicals.csv'), index=False)"
   ]
  }
 ],
 "metadata": {
  "kernelspec": {
   "display_name": "Python 3",
   "language": "python",
   "name": "python3"
  },
  "language_info": {
   "codemirror_mode": {
    "name": "ipython",
    "version": 3
   },
   "file_extension": ".py",
   "mimetype": "text/x-python",
   "name": "python",
   "nbconvert_exporter": "python",
   "pygments_lexer": "ipython3",
   "version": "3.6.7"
  }
 },
 "nbformat": 4,
 "nbformat_minor": 2
}
