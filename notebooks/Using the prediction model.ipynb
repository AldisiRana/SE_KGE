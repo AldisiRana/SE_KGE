{
 "cells": [
  {
   "cell_type": "code",
   "execution_count": 4,
   "metadata": {},
   "outputs": [],
   "source": [
    "import pandas as pd\n",
    "import os"
   ]
  },
  {
   "cell_type": "markdown",
   "metadata": {},
   "source": [
    "# Loading the data"
   ]
  },
  {
   "cell_type": "code",
   "execution_count": 5,
   "metadata": {},
   "outputs": [],
   "source": [
    "from se_kge.default_predictor import predictor, embeddings_path, graph_path, model_path, mapping_path"
   ]
  },
  {
   "cell_type": "code",
   "execution_count": 6,
   "metadata": {},
   "outputs": [
    {
     "name": "stdout",
     "output_type": "stream",
     "text": [
      "Loaded default predictor using paths:\n",
      "\n",
      "embeddings: C:\\Users\\Rana Aldisi\\Documents\\GitHub\\SE_KGE\\resources\\predictive_model\\070819_node2vec_embeddings_complete01.embeddings\n",
      "graph: C:\\Users\\Rana Aldisi\\Documents\\GitHub\\SE_KGE\\resources\\chemsim_50_graphs\\fullgraph_with_chemsim_50.edgelist\n",
      "model: C:\\Users\\Rana Aldisi\\Documents\\GitHub\\SE_KGE\\resources\\predictive_model\\070819_node2vec_model_complete01.pkl\n",
      "mapping: C:\\Users\\Rana Aldisi\\Documents\\GitHub\\SE_KGE\\resources\\mapping\\fullgraph_nodes_mapping.tsv\n",
      "\n",
      "\n"
     ]
    }
   ],
   "source": [
    "print(f\"\"\"Loaded default predictor using paths:\n",
    "\n",
    "embeddings: {embeddings_path}\n",
    "graph: {graph_path}\n",
    "model: {model_path}\n",
    "mapping: {mapping_path}\n",
    "\n",
    "\"\"\")"
   ]
  },
  {
   "cell_type": "markdown",
   "metadata": {},
   "source": [
    "# Examples of different kinds of predictions with literature evidence"
   ]
  },
  {
   "cell_type": "markdown",
   "metadata": {},
   "source": [
    "## side effect - target association"
   ]
  },
  {
   "cell_type": "code",
   "execution_count": 8,
   "metadata": {},
   "outputs": [
    {
     "data": {
      "text/plain": [
       "0.02084655412288939"
      ]
     },
     "execution_count": 8,
     "metadata": {},
     "output_type": "execute_result"
    }
   ],
   "source": [
    "predictor.find_new_relation(\n",
    "'8499', #EGFR\n",
    "'6791', #Papulopustular rash\n",
    ")\n",
    "#PMID: 18165622"
   ]
  },
  {
   "cell_type": "code",
   "execution_count": 13,
   "metadata": {},
   "outputs": [
    {
     "data": {
      "text/plain": [
       "0.022773732615890885"
      ]
     },
     "execution_count": 13,
     "metadata": {},
     "output_type": "execute_result"
    }
   ],
   "source": [
    "predictor.find_new_relation(\n",
    "'9438', #Histamine receptor H1\n",
    "'331', #Drowsiness\n",
    ")\n",
    "#PMID: 26626077"
   ]
  },
  {
   "cell_type": "markdown",
   "metadata": {},
   "source": [
    "## drug- side effect association"
   ]
  },
  {
   "cell_type": "code",
   "execution_count": 9,
   "metadata": {},
   "outputs": [
    {
     "data": {
      "text/plain": [
       "0.9969995536047346"
      ]
     },
     "execution_count": 9,
     "metadata": {},
     "output_type": "execute_result"
    }
   ],
   "source": [
    "predictor.find_new_relation(\n",
    "'3534', #diazepam\n",
    "'670', #Libido decreased\n",
    ")\n",
    "#PMID: 29888057"
   ]
  },
  {
   "cell_type": "code",
   "execution_count": 11,
   "metadata": {},
   "outputs": [
    {
     "data": {
      "text/plain": [
       "0.0007503847088747362"
      ]
     },
     "execution_count": 11,
     "metadata": {},
     "output_type": "execute_result"
    }
   ],
   "source": [
    "predictor.find_new_relation(\n",
    "'10270', #Cytarabine \n",
    "'1149', #Anaemia megaloblastic\n",
    ")\n",
    "# PMID: 23157436"
   ]
  },
  {
   "cell_type": "markdown",
   "metadata": {},
   "source": [
    "## drug-target association"
   ]
  },
  {
   "cell_type": "code",
   "execution_count": 12,
   "metadata": {},
   "outputs": [
    {
     "data": {
      "text/plain": [
       "0.014544440338331974"
      ]
     },
     "execution_count": 12,
     "metadata": {},
     "output_type": "execute_result"
    }
   ],
   "source": [
    "predictor.find_new_relation(\n",
    "'12765', #Sertindole \n",
    "'9372',  #CHRM1 receptor\n",
    ")\n",
    "# PMID: 29942259 "
   ]
  },
  {
   "cell_type": "markdown",
   "metadata": {},
   "source": [
    "# Example of predicting relations using node2vec model and embeddings"
   ]
  },
  {
   "cell_type": "code",
   "execution_count": null,
   "metadata": {},
   "outputs": [],
   "source": [
    "results = predictor.find_new_relations(\n",
    "    entity_identifier='P00533',\n",
    "    entity_type='phenotype',\n",
    "    k=10,\n",
    ")\n",
    "print(results['query'])\n",
    "results_df = pd.DataFrame(results['predictions'])\n",
    "results_df"
   ]
  },
  {
   "cell_type": "code",
   "execution_count": null,
   "metadata": {},
   "outputs": [],
   "source": []
  }
 ],
 "metadata": {
  "kernelspec": {
   "display_name": "project-env",
   "language": "python",
   "name": "project-env"
  },
  "language_info": {
   "codemirror_mode": {
    "name": "ipython",
    "version": 3
   },
   "file_extension": ".py",
   "mimetype": "text/x-python",
   "name": "python",
   "nbconvert_exporter": "python",
   "pygments_lexer": "ipython3",
   "version": "3.6.5"
  }
 },
 "nbformat": 4,
 "nbformat_minor": 2
}
