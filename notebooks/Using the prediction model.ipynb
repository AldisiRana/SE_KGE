{
 "cells": [
  {
   "cell_type": "code",
   "execution_count": 1,
   "metadata": {},
   "outputs": [],
   "source": [
    "import sklearn\n",
    "from sklearn.externals import joblib\n",
    "from bionev.utils import load_embedding\n",
    "import numpy as np\n",
    "from sklearn.linear_model import LogisticRegression\n",
    "import pandas as pd\n",
    "import networkx as nx\n",
    "import os\n",
    "from se_kge.find_relations import find_new_relations"
   ]
  },
  {
   "cell_type": "markdown",
   "metadata": {},
   "source": [
    "# Predicting with model"
   ]
  },
  {
   "cell_type": "code",
   "execution_count": 2,
   "metadata": {},
   "outputs": [],
   "source": [
    "embedding_filepath = os.path.join(os.pardir, \"resources\", \"240719_node2vec_fullgraph.embeddings\")\n",
    "embeddings_node2vec = load_embedding(embedding_filepath)"
   ]
  },
  {
   "cell_type": "code",
   "execution_count": 3,
   "metadata": {},
   "outputs": [],
   "source": [
    "node2vec_model_filepath = os.path.join(os.pardir, \"resources\", \"prediction_model_node2vec_final.pkl\")\n",
    "node2vec_model = joblib.load(node2vec_model_filepath)"
   ]
  },
  {
   "cell_type": "markdown",
   "metadata": {},
   "source": [
    "# Examples of different kinds of predictions with literature evidence"
   ]
  },
  {
   "cell_type": "markdown",
   "metadata": {},
   "source": [
    "## side effect - target association"
   ]
  },
  {
   "cell_type": "code",
   "execution_count": 4,
   "metadata": {},
   "outputs": [
    {
     "data": {
      "text/plain": [
       "array([0.93904571])"
      ]
     },
     "execution_count": 4,
     "metadata": {},
     "output_type": "execute_result"
    }
   ],
   "source": [
    "x= []\n",
    "node1 = np.array(embeddings_node2vec['8499']) #EGFR\n",
    "node2 = np.array(embeddings_node2vec['7702']) #Papulopustular rash\n",
    "x1 = node1 * node2\n",
    "x.append(x1.tolist())\n",
    "node2vec_model.predict_proba(x)[:,1]\n",
    "#PMID: 18165622"
   ]
  },
  {
   "cell_type": "code",
   "execution_count": 5,
   "metadata": {},
   "outputs": [
    {
     "data": {
      "text/plain": [
       "array([0.96786309])"
      ]
     },
     "execution_count": 5,
     "metadata": {},
     "output_type": "execute_result"
    }
   ],
   "source": [
    "x= []\n",
    "#9713\n",
    "node1 = np.array(embeddings_node2vec['9523']) #Histamine receptor H1\n",
    "node2 = np.array(embeddings_node2vec['394']) #Drowsiness\n",
    "x1 = node1 * node2\n",
    "x.append(x1.tolist())\n",
    "node2vec_model.predict_proba(x)[:,1]\n",
    "#PMID: 26626077"
   ]
  },
  {
   "cell_type": "markdown",
   "metadata": {},
   "source": [
    "## drug- side effect association"
   ]
  },
  {
   "cell_type": "code",
   "execution_count": 6,
   "metadata": {},
   "outputs": [
    {
     "data": {
      "text/plain": [
       "array([0.88557845])"
      ]
     },
     "execution_count": 6,
     "metadata": {},
     "output_type": "execute_result"
    }
   ],
   "source": [
    "x= []\n",
    "node1 = np.array(embeddings_node2vec['4234']) #diazepam \n",
    "node2 = np.array(embeddings_node2vec['827']) #Libido decreased\n",
    "x1 = node1 * node2\n",
    "x.append(x1.tolist())\n",
    "node2vec_model.predict_proba(x)[:,1] \n",
    "#PMID: 29888057"
   ]
  },
  {
   "cell_type": "code",
   "execution_count": 7,
   "metadata": {},
   "outputs": [
    {
     "data": {
      "text/plain": [
       "array([0.87790016])"
      ]
     },
     "execution_count": 7,
     "metadata": {},
     "output_type": "execute_result"
    }
   ],
   "source": [
    "x= []\n",
    "node1 = np.array(embeddings_node2vec['10341']) #Cytarabine \n",
    "node2 = np.array(embeddings_node2vec['224']) #Anaemia megaloblastic\n",
    "x1 = node1 * node2\n",
    "x.append(x1.tolist())\n",
    "node2vec_model.predict_proba(x)[:,1] \n",
    "# PMID: 23157436"
   ]
  },
  {
   "cell_type": "markdown",
   "metadata": {},
   "source": [
    "## drug-target association"
   ]
  },
  {
   "cell_type": "code",
   "execution_count": 8,
   "metadata": {},
   "outputs": [
    {
     "data": {
      "text/plain": [
       "array([0.97239379])"
      ]
     },
     "execution_count": 8,
     "metadata": {},
     "output_type": "execute_result"
    }
   ],
   "source": [
    "x= []\n",
    "node1 = np.array(embeddings_node2vec['12693']) #Sertindole \n",
    "node2 = np.array(embeddings_node2vec['9460']) #CHRM1 receptor\n",
    "x1 = node1 * node2\n",
    "x.append(x1.tolist())\n",
    "node2vec_model.predict_proba(x)[:,1] \n",
    "# PMID: 29942259 "
   ]
  },
  {
   "cell_type": "markdown",
   "metadata": {},
   "source": [
    "# Example of predicting relations using node2vec model and embeddings"
   ]
  },
  {
   "cell_type": "code",
   "execution_count": 9,
   "metadata": {},
   "outputs": [],
   "source": [
    "graph_filepath = os.path.join(os.pardir, \"resources\", \"fullgraph.edgelist\")\n",
    "graph= nx.read_edgelist(graph_filepath)"
   ]
  },
  {
   "cell_type": "code",
   "execution_count": 10,
   "metadata": {},
   "outputs": [],
   "source": [
    "node_mapping_filepath = os.path.join(os.pardir, \"resources\", \"fullgraph_nodes_mapping.tsv\")\n",
    "node_mapping=pd.read_csv(node_mapping_filepath, sep=',')"
   ]
  },
  {
   "cell_type": "code",
   "execution_count": 11,
   "metadata": {},
   "outputs": [
    {
     "name": "stderr",
     "output_type": "stream",
     "text": [
      "creating relations list: 100%|██████████████████████████████████████████████████| 13730/13730 [00:45<00:00, 301.37it/s]\n"
     ]
    },
    {
     "name": "stdout",
     "output_type": "stream",
     "text": [
      "The 30 highest phenotype predictions for 85\n"
     ]
    },
    {
     "data": {
      "text/plain": [
       "{'umls:Myasthenia': 0.9994092570284426,\n",
       " 'umls:Fluid overload': 0.999370077459267,\n",
       " 'umls:Parathyroid disorder': 0.99912533339172,\n",
       " 'umls:Carnitine deficiency': 0.9987993824223084,\n",
       " 'umls:Hypotension': 0.9987104681086778,\n",
       " 'umls:Bronchoconstriction': 0.9986888252702472,\n",
       " 'umls:Abdominal cramps': 0.998663108300242,\n",
       " 'umls:Tachycardia': 0.9985530065574599,\n",
       " 'umls:Bloated feeling': 0.998499177051145,\n",
       " 'umls:Tearing eyes': 0.9984385825411238,\n",
       " 'umls:Urinary incontinence': 0.9981212925863255,\n",
       " 'umls:Micturition urgency': 0.9979719359673718,\n",
       " 'umls:Sputum increased': 0.9979274910169542,\n",
       " 'umls:Feeling cold': 0.997687225989656,\n",
       " 'umls:Salivation': 0.9972371019595818,\n",
       " 'umls:Inborn error of metabolism': 0.9970704256052745,\n",
       " 'umls:Gastrointestinal symptom NOS': 0.9963205354167338,\n",
       " 'umls:Salivary hypersecretion': 0.9963189190875407,\n",
       " 'umls:Cycloplegia': 0.9961189119005688,\n",
       " 'umls:Encephalitis': 0.9960874825190096,\n",
       " 'umls:Airway obstruction NOS': 0.9957899351091318,\n",
       " 'umls:Hypotonia': 0.9957806882899767,\n",
       " 'umls:Corneal oedema': 0.9955584948855122,\n",
       " 'umls:Intestinal obstruction': 0.9952134024137655,\n",
       " 'umls:Urethral pain': 0.9952128908723137,\n",
       " 'umls:Muscle relaxation': 0.9951503965689897,\n",
       " 'umls:Hepatic enzyme increased': 0.995033441817547,\n",
       " 'umls:Fasciculation': 0.9949279898467975,\n",
       " 'umls:Gastritis': 0.9948203409801492,\n",
       " 'umls:Stiffness': 0.9947750149792953}"
      ]
     },
     "execution_count": 11,
     "metadata": {},
     "output_type": "execute_result"
    }
   ],
   "source": [
    "find_new_relations(\n",
    "    entity='85', \n",
    "    embeddings=embeddings_node2vec,\n",
    "    node_mapping=node_mapping,\n",
    "    saved_model=node2vec_model,\n",
    "    graph=graph, \n",
    "    entity_type='phenotype',\n",
    "    k=30)"
   ]
  },
  {
   "cell_type": "code",
   "execution_count": null,
   "metadata": {},
   "outputs": [],
   "source": []
  }
 ],
 "metadata": {
  "kernelspec": {
   "display_name": "project-env",
   "language": "python",
   "name": "project-env"
  },
  "language_info": {
   "codemirror_mode": {
    "name": "ipython",
    "version": 3
   },
   "file_extension": ".py",
   "mimetype": "text/x-python",
   "name": "python",
   "nbconvert_exporter": "python",
   "pygments_lexer": "ipython3",
   "version": "3.6.5"
  }
 },
 "nbformat": 4,
 "nbformat_minor": 2
}
