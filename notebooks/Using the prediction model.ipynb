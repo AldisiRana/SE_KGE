{
 "cells": [
  {
   "cell_type": "code",
   "execution_count": 1,
   "metadata": {},
   "outputs": [],
   "source": [
    "import sklearn\n",
    "from sklearn.externals import joblib\n",
    "from bionev.utils import load_embedding\n",
    "import numpy as np\n",
    "from sklearn.linear_model import LogisticRegression\n",
    "import pandas as pd\n",
    "import networkx as nx\n",
    "import os\n",
    "from se_kge.find_relations import find_new_relations"
   ]
  },
  {
   "cell_type": "markdown",
   "metadata": {},
   "source": [
    "# Predicting with model"
   ]
  },
  {
   "cell_type": "code",
   "execution_count": 2,
   "metadata": {},
   "outputs": [],
   "source": [
    "embedding_filepath = os.path.join(os.pardir, \"resources\", \"240719_node2vec_fullgraph.embeddings\")\n",
    "embeddings_node2vec = load_embedding(embedding_filepath)"
   ]
  },
  {
   "cell_type": "code",
   "execution_count": 3,
   "metadata": {},
   "outputs": [],
   "source": [
    "node2vec_model_filepath = os.path.join(os.pardir, \"resources\", \"prediction_model_node2vec_final.pkl\")\n",
    "node2vec_model = joblib.load(node2vec_model_filepath)"
   ]
  },
  {
   "cell_type": "markdown",
   "metadata": {},
   "source": [
    "# Examples of different kinds of predictions with literature evidence"
   ]
  },
  {
   "cell_type": "markdown",
   "metadata": {},
   "source": [
    "## side effect - target association"
   ]
  },
  {
   "cell_type": "code",
   "execution_count": 4,
   "metadata": {},
   "outputs": [
    {
     "data": {
      "text/plain": [
       "array([0.93904571])"
      ]
     },
     "execution_count": 4,
     "metadata": {},
     "output_type": "execute_result"
    }
   ],
   "source": [
    "x= []\n",
    "node1 = np.array(embeddings_node2vec['8499']) #EGFR\n",
    "node2 = np.array(embeddings_node2vec['7702']) #Papulopustular rash\n",
    "x1 = node1 * node2\n",
    "x.append(x1.tolist())\n",
    "node2vec_model.predict_proba(x)[:,1]\n",
    "#PMID: 18165622"
   ]
  },
  {
   "cell_type": "code",
   "execution_count": 5,
   "metadata": {},
   "outputs": [
    {
     "data": {
      "text/plain": [
       "array([0.96786309])"
      ]
     },
     "execution_count": 5,
     "metadata": {},
     "output_type": "execute_result"
    }
   ],
   "source": [
    "x= []\n",
    "#9713\n",
    "node1 = np.array(embeddings_node2vec['9523']) #Histamine receptor H1\n",
    "node2 = np.array(embeddings_node2vec['394']) #Drowsiness\n",
    "x1 = node1 * node2\n",
    "x.append(x1.tolist())\n",
    "node2vec_model.predict_proba(x)[:,1]\n",
    "#PMID: 26626077"
   ]
  },
  {
   "cell_type": "markdown",
   "metadata": {},
   "source": [
    "## drug- side effect association"
   ]
  },
  {
   "cell_type": "code",
   "execution_count": 6,
   "metadata": {},
   "outputs": [
    {
     "data": {
      "text/plain": [
       "array([0.88557845])"
      ]
     },
     "execution_count": 6,
     "metadata": {},
     "output_type": "execute_result"
    }
   ],
   "source": [
    "x= []\n",
    "node1 = np.array(embeddings_node2vec['4234']) #diazepam \n",
    "node2 = np.array(embeddings_node2vec['827']) #Libido decreased\n",
    "x1 = node1 * node2\n",
    "x.append(x1.tolist())\n",
    "node2vec_model.predict_proba(x)[:,1] \n",
    "#PMID: 29888057"
   ]
  },
  {
   "cell_type": "code",
   "execution_count": 7,
   "metadata": {},
   "outputs": [
    {
     "data": {
      "text/plain": [
       "array([0.87790016])"
      ]
     },
     "execution_count": 7,
     "metadata": {},
     "output_type": "execute_result"
    }
   ],
   "source": [
    "x= []\n",
    "node1 = np.array(embeddings_node2vec['10341']) #Cytarabine \n",
    "node2 = np.array(embeddings_node2vec['224']) #Anaemia megaloblastic\n",
    "x1 = node1 * node2\n",
    "x.append(x1.tolist())\n",
    "node2vec_model.predict_proba(x)[:,1] \n",
    "# PMID: 23157436"
   ]
  },
  {
   "cell_type": "markdown",
   "metadata": {},
   "source": [
    "## drug-target association"
   ]
  },
  {
   "cell_type": "code",
   "execution_count": 8,
   "metadata": {},
   "outputs": [
    {
     "data": {
      "text/plain": [
       "array([0.97239379])"
      ]
     },
     "execution_count": 8,
     "metadata": {},
     "output_type": "execute_result"
    }
   ],
   "source": [
    "x= []\n",
    "node1 = np.array(embeddings_node2vec['12693']) #Sertindole \n",
    "node2 = np.array(embeddings_node2vec['9460']) #CHRM1 receptor\n",
    "x1 = node1 * node2\n",
    "x.append(x1.tolist())\n",
    "node2vec_model.predict_proba(x)[:,1] \n",
    "# PMID: 29942259 "
   ]
  },
  {
   "cell_type": "markdown",
   "metadata": {},
   "source": [
    "# Example of predicting relations using node2vec model and embeddings"
   ]
  },
  {
   "cell_type": "code",
   "execution_count": 9,
   "metadata": {},
   "outputs": [],
   "source": [
    "graph_filepath = os.path.join(os.pardir, \"resources\", \"fullgraph.edgelist\")\n",
    "graph= nx.read_edgelist(graph_filepath)"
   ]
  },
  {
   "cell_type": "code",
   "execution_count": 10,
   "metadata": {},
   "outputs": [],
   "source": [
    "node_mapping_filepath = os.path.join(os.pardir, \"resources\", \"fullgraph_nodes_mapping.tsv\")\n",
    "node_mapping=pd.read_csv(node_mapping_filepath, sep=',')"
   ]
  },
  {
   "cell_type": "code",
   "execution_count": 11,
   "metadata": {},
   "outputs": [
    {
     "name": "stderr",
     "output_type": "stream",
     "text": [
      "creating relations list: 100%|█████████████████████████████████████████████████████████████████████████████████████████████████████████████████| 13730/13730 [01:07<00:00, 203.51it/s]\n"
     ]
    },
    {
     "name": "stdout",
     "output_type": "stream",
     "text": [
      "The 10 highest phenotype predictions for {'node_id': 1, 'namespace': 'pubchem', 'identifier': '85', 'name': '(3-carboxy-2-hydroxypropyl)-trimethylazanium'}\n"
     ]
    },
    {
     "data": {
      "text/plain": [
       "{1: {'node_id': 732,\n",
       "  'namespace': 'umls',\n",
       "  'identifier': 'C0027796',\n",
       "  'name': 'Neuralgia',\n",
       "  'probability': 0.9999851353377665},\n",
       " 2: {'node_id': 7689,\n",
       "  'namespace': 'umls',\n",
       "  'identifier': 'C0007020',\n",
       "  'name': 'Carbon monoxide poisoning',\n",
       "  'probability': 0.9999745568983085},\n",
       " 3: {'node_id': 2333,\n",
       "  'namespace': 'umls',\n",
       "  'identifier': 'C0003873',\n",
       "  'name': 'Rheumatoid arthritis',\n",
       "  'probability': 0.9999717702747399},\n",
       " 4: {'node_id': 8196,\n",
       "  'namespace': 'umls',\n",
       "  'identifier': 'C0524851',\n",
       "  'name': 'Neurodegenerative disorder',\n",
       "  'probability': 0.99995738772176},\n",
       " 5: {'node_id': 7695,\n",
       "  'namespace': 'umls',\n",
       "  'identifier': 'C0025149',\n",
       "  'name': 'Medulloblastoma',\n",
       "  'probability': 0.9999252830537907},\n",
       " 6: {'node_id': 642,\n",
       "  'namespace': 'umls',\n",
       "  'identifier': 'C0233407',\n",
       "  'name': 'Disorientation',\n",
       "  'probability': 0.9999161758764343},\n",
       " 7: {'node_id': 3026,\n",
       "  'namespace': 'umls',\n",
       "  'identifier': 'C1619733',\n",
       "  'name': 'Gout flare',\n",
       "  'probability': 0.9999048399686196},\n",
       " 8: {'node_id': 7972,\n",
       "  'namespace': 'umls',\n",
       "  'identifier': 'C0598784',\n",
       "  'name': 'Dyslipoproteinaemia',\n",
       "  'probability': 0.9998435972353468},\n",
       " 9: {'node_id': 7871,\n",
       "  'namespace': 'umls',\n",
       "  'identifier': 'C0035335',\n",
       "  'name': 'Retinoblastoma',\n",
       "  'probability': 0.999784091643591},\n",
       " 10: {'node_id': 4572,\n",
       "  'namespace': 'umls',\n",
       "  'identifier': 'C0740401',\n",
       "  'name': 'Duodenal ulcer perforation',\n",
       "  'probability': 0.9996936952124702}}"
      ]
     },
     "execution_count": 11,
     "metadata": {},
     "output_type": "execute_result"
    }
   ],
   "source": [
    "find_new_relations(\n",
    "    entity_identifier='85',\n",
    "    embeddings=embeddings_node2vec,\n",
    "    node_mapping=node_mapping,\n",
    "    saved_model=node2vec_model,\n",
    "    graph=graph, \n",
    "    entity_type='phenotype',\n",
    "    k=10)"
   ]
  },
  {
   "cell_type": "code",
   "execution_count": null,
   "metadata": {},
   "outputs": [],
   "source": []
  }
 ],
 "metadata": {
  "kernelspec": {
   "display_name": "project-env",
   "language": "python",
   "name": "project-env"
  },
  "language_info": {
   "codemirror_mode": {
    "name": "ipython",
    "version": 3
   },
   "file_extension": ".py",
   "mimetype": "text/x-python",
   "name": "python",
   "nbconvert_exporter": "python",
   "pygments_lexer": "ipython3",
   "version": "3.6.5"
  }
 },
 "nbformat": 4,
 "nbformat_minor": 2
}
