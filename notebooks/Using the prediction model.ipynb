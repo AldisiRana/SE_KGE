{
 "cells": [
  {
   "cell_type": "markdown",
   "metadata": {},
   "source": [
    "# Using the Prediction Model\n",
    "\n",
    "## Environment"
   ]
  },
  {
   "cell_type": "code",
   "execution_count": 1,
   "metadata": {},
   "outputs": [],
   "source": [
    "import getpass\n",
    "import json\n",
    "import os\n",
    "import sys\n",
    "import time\n",
    "\n",
    "import pandas as pd\n",
    "\n",
    "from se_kge.constants import (\n",
    "    DEFAULT_EMBEDDINGS_PATH, DEFAULT_GRAPH_PATH,\n",
    "    DEFAULT_MAPPING_PATH, DEFAULT_MODEL_PATH,\n",
    ")"
   ]
  },
  {
   "cell_type": "code",
   "execution_count": 2,
   "metadata": {},
   "outputs": [
    {
     "name": "stdout",
     "output_type": "stream",
     "text": [
      "3.7.3 (default, Mar 27 2019, 09:23:15) \n",
      "[Clang 10.0.1 (clang-1001.0.46.3)]\n"
     ]
    }
   ],
   "source": [
    "print(sys.version)"
   ]
  },
  {
   "cell_type": "code",
   "execution_count": 3,
   "metadata": {},
   "outputs": [
    {
     "name": "stdout",
     "output_type": "stream",
     "text": [
      "Fri Aug  9 13:50:05 2019\n"
     ]
    }
   ],
   "source": [
    "print(time.asctime())"
   ]
  },
  {
   "cell_type": "code",
   "execution_count": 4,
   "metadata": {},
   "outputs": [
    {
     "name": "stdout",
     "output_type": "stream",
     "text": [
      "cthoyt\n"
     ]
    }
   ],
   "source": [
    "print(getpass.getuser())"
   ]
  },
  {
   "cell_type": "markdown",
   "metadata": {},
   "source": [
    "# Loading the Data"
   ]
  },
  {
   "cell_type": "code",
   "execution_count": 5,
   "metadata": {},
   "outputs": [],
   "source": [
    "from se_kge.default_predictor import predictor"
   ]
  },
  {
   "cell_type": "code",
   "execution_count": 6,
   "metadata": {},
   "outputs": [
    {
     "name": "stdout",
     "output_type": "stream",
     "text": [
      "Loaded default predictor using paths:\n",
      "\n",
      "embeddings: /Users/cthoyt/dev/SE_KGE/resources/predictive_model/070819_node2vec_embeddings_complete01.embeddings\n",
      "graph:      /Users/cthoyt/dev/SE_KGE/resources/chemsim_50_graphs/fullgraph_with_chemsim_50.edgelist\n",
      "model:      /Users/cthoyt/dev/SE_KGE/resources/predictive_model/070819_node2vec_model_complete01.pkl\n",
      "mapping:    /Users/cthoyt/dev/SE_KGE/resources/mapping/fullgraph_nodes_mapping.tsv\n",
      "\n"
     ]
    }
   ],
   "source": [
    "print(f\"\"\"Loaded default predictor using paths:\n",
    "\n",
    "embeddings: {DEFAULT_EMBEDDINGS_PATH}\n",
    "graph:      {DEFAULT_GRAPH_PATH}\n",
    "model:      {DEFAULT_MODEL_PATH}\n",
    "mapping:    {DEFAULT_MAPPING_PATH}\n",
    "\"\"\")"
   ]
  },
  {
   "cell_type": "markdown",
   "metadata": {},
   "source": [
    "# Examples of different kinds of predictions with literature evidence"
   ]
  },
  {
   "cell_type": "markdown",
   "metadata": {},
   "source": [
    "## side effect - target association"
   ]
  },
  {
   "cell_type": "code",
   "execution_count": 7,
   "metadata": {},
   "outputs": [
    {
     "name": "stdout",
     "output_type": "stream",
     "text": [
      "{\n",
      "  \"entity_1\": {\n",
      "    \"node_id\": 8499,\n",
      "    \"namespace\": \"uniprot\",\n",
      "    \"name\": \"EGFR\",\n",
      "    \"identifier\": \"P00533\"\n",
      "  },\n",
      "  \"entity_2\": {\n",
      "    \"node_id\": 6791,\n",
      "    \"namespace\": \"umls\",\n",
      "    \"name\": \"Papulopustular rash\",\n",
      "    \"identifier\": \"C2609319\"\n",
      "  },\n",
      "  \"probability\": 0.02084655412288938,\n",
      "  \"mlp\": 1.680965722421321\n",
      "}\n"
     ]
    }
   ],
   "source": [
    "r = predictor.find_new_relation(\n",
    "    entity_name_1='EGFR',\n",
    "    entity_name_2='Papulopustular rash',\n",
    ")\n",
    "print(json.dumps(r, indent=2))\n",
    "#PMID: 18165622"
   ]
  },
  {
   "cell_type": "code",
   "execution_count": 8,
   "metadata": {},
   "outputs": [
    {
     "name": "stdout",
     "output_type": "stream",
     "text": [
      "{\n",
      "  \"entity_1\": {\n",
      "    \"node_id\": 9438,\n",
      "    \"namespace\": \"uniprot\",\n",
      "    \"name\": \"HRH1\",\n",
      "    \"identifier\": \"P35367\"\n",
      "  },\n",
      "  \"entity_2\": {\n",
      "    \"node_id\": 331,\n",
      "    \"namespace\": \"umls\",\n",
      "    \"name\": \"Drowsiness\",\n",
      "    \"identifier\": \"C0013144\"\n",
      "  },\n",
      "  \"probability\": 0.022773732615890885,\n",
      "  \"mlp\": 1.6425657826640947\n",
      "}\n"
     ]
    }
   ],
   "source": [
    "r = predictor.find_new_relation(\n",
    "    node_id_1=9438, # Histamine receptor H1\n",
    "    node_id_2=331, # Drowsiness\n",
    ")\n",
    "print(json.dumps(r, indent=2))\n",
    "#PMID: 26626077"
   ]
  },
  {
   "cell_type": "markdown",
   "metadata": {},
   "source": [
    "## drug- side effect association"
   ]
  },
  {
   "cell_type": "code",
   "execution_count": 9,
   "metadata": {},
   "outputs": [
    {
     "name": "stdout",
     "output_type": "stream",
     "text": [
      "{\n",
      "  \"entity_1\": {\n",
      "    \"node_id\": 3534,\n",
      "    \"namespace\": \"pubchem\",\n",
      "    \"name\": \"7-chloro-1-methyl-5-phenyl-3H-1,4-benzodiazepin-2-one\",\n",
      "    \"identifier\": \"3016\"\n",
      "  },\n",
      "  \"entity_2\": {\n",
      "    \"node_id\": 670,\n",
      "    \"namespace\": \"umls\",\n",
      "    \"name\": \"Libido decreased\",\n",
      "    \"identifier\": \"C0011124\"\n",
      "  },\n",
      "  \"probability\": 0.9969995536047346,\n",
      "  \"mlp\": 0.0013050361387393866\n",
      "}\n"
     ]
    }
   ],
   "source": [
    "r = predictor.find_new_relation(\n",
    "    node_id_1='3534',  # diazepam\n",
    "    node_id_2='670',  # Libido decreased\n",
    ")\n",
    "print(json.dumps(r, indent=2))\n",
    "#PMID: 29888057"
   ]
  },
  {
   "cell_type": "code",
   "execution_count": 10,
   "metadata": {},
   "outputs": [
    {
     "name": "stdout",
     "output_type": "stream",
     "text": [
      "{\n",
      "  \"entity_1\": {\n",
      "    \"node_id\": 10270,\n",
      "    \"namespace\": \"pubchem\",\n",
      "    \"name\": \"4-amino-1-[(2R,3S,4S,5R)-3,4-dihydroxy-5-(hydroxymethyl)oxolan-2-yl]pyrimidin-2-one\",\n",
      "    \"identifier\": \"6253\"\n",
      "  },\n",
      "  \"entity_2\": {\n",
      "    \"node_id\": 1149,\n",
      "    \"namespace\": \"umls\",\n",
      "    \"name\": \"Anaemia megaloblastic\",\n",
      "    \"identifier\": \"C0002888\"\n",
      "  },\n",
      "  \"probability\": 0.0007503847088747362,\n",
      "  \"mlp\": 3.1247160244677263\n",
      "}\n"
     ]
    }
   ],
   "source": [
    "r = predictor.find_new_relation(\n",
    "    node_id_1=10270,  # Cytarabine \n",
    "    node_id_2=1149,  # Anaemia megaloblastic\n",
    ")\n",
    "print(json.dumps(r, indent=2))\n",
    "# PMID: 23157436"
   ]
  },
  {
   "cell_type": "markdown",
   "metadata": {},
   "source": [
    "## drug-target association"
   ]
  },
  {
   "cell_type": "code",
   "execution_count": 11,
   "metadata": {},
   "outputs": [
    {
     "name": "stdout",
     "output_type": "stream",
     "text": [
      "{\n",
      "  \"entity_1\": {\n",
      "    \"node_id\": 12765,\n",
      "    \"namespace\": \"pubchem\",\n",
      "    \"name\": \"1-[2-[4-[5-chloro-1-(4-fluorophenyl)indol-3-yl]piperidin-1-yl]ethyl]imidazolidin-2-one\",\n",
      "    \"identifier\": \"60149\"\n",
      "  },\n",
      "  \"entity_2\": {\n",
      "    \"node_id\": 9372,\n",
      "    \"namespace\": \"uniprot\",\n",
      "    \"name\": \"CHRM1\",\n",
      "    \"identifier\": \"P11229\"\n",
      "  },\n",
      "  \"probability\": 0.014544440338331974,\n",
      "  \"mlp\": 1.8373029854963625\n",
      "}\n"
     ]
    }
   ],
   "source": [
    "r = predictor.find_new_relation(\n",
    "    node_id_1=12765,  # Sertindole \n",
    "    node_id_2=9372,   # CHRM1 receptor\n",
    ")\n",
    "print(json.dumps(r, indent=2))\n",
    "# PMID: 29942259 "
   ]
  },
  {
   "cell_type": "markdown",
   "metadata": {},
   "source": [
    "# Example of predicting relations using node2vec model and embeddings"
   ]
  },
  {
   "cell_type": "code",
   "execution_count": 12,
   "metadata": {},
   "outputs": [
    {
     "name": "stderr",
     "output_type": "stream",
     "text": [
      "creating relations list: 100%|██████████| 13730/13730 [00:20<00:00, 657.58it/s] \n"
     ]
    },
    {
     "name": "stdout",
     "output_type": "stream",
     "text": [
      "{\n",
      "  \"entity\": {\n",
      "    \"node_id\": 9310,\n",
      "    \"namespace\": \"pubchem\",\n",
      "    \"identifier\": \"145742\",\n",
      "    \"name\": \"(2S)-pyrrolidine-2-carboxylic acid\"\n",
      "  },\n",
      "  \"k\": 10,\n",
      "  \"type\": \"phenotype\"\n",
      "}\n"
     ]
    },
    {
     "data": {
      "text/html": [
       "<div>\n",
       "<style scoped>\n",
       "    .dataframe tbody tr th:only-of-type {\n",
       "        vertical-align: middle;\n",
       "    }\n",
       "\n",
       "    .dataframe tbody tr th {\n",
       "        vertical-align: top;\n",
       "    }\n",
       "\n",
       "    .dataframe thead th {\n",
       "        text-align: right;\n",
       "    }\n",
       "</style>\n",
       "<table border=\"1\" class=\"dataframe\">\n",
       "  <thead>\n",
       "    <tr style=\"text-align: right;\">\n",
       "      <th></th>\n",
       "      <th>identifier</th>\n",
       "      <th>mlp</th>\n",
       "      <th>name</th>\n",
       "      <th>namespace</th>\n",
       "      <th>node_id</th>\n",
       "      <th>probability</th>\n",
       "    </tr>\n",
       "  </thead>\n",
       "  <tbody>\n",
       "    <tr>\n",
       "      <th>0</th>\n",
       "      <td>C0302859</td>\n",
       "      <td>1.155488</td>\n",
       "      <td>Euthyroid goiter</td>\n",
       "      <td>umls</td>\n",
       "      <td>4479</td>\n",
       "      <td>0.069906</td>\n",
       "    </tr>\n",
       "    <tr>\n",
       "      <th>1</th>\n",
       "      <td>C0024473</td>\n",
       "      <td>1.194602</td>\n",
       "      <td>Magnesium deficiency</td>\n",
       "      <td>umls</td>\n",
       "      <td>7586</td>\n",
       "      <td>0.063885</td>\n",
       "    </tr>\n",
       "    <tr>\n",
       "      <th>2</th>\n",
       "      <td>C0040524</td>\n",
       "      <td>1.214516</td>\n",
       "      <td>Toxemia</td>\n",
       "      <td>umls</td>\n",
       "      <td>7587</td>\n",
       "      <td>0.061022</td>\n",
       "    </tr>\n",
       "    <tr>\n",
       "      <th>3</th>\n",
       "      <td>C0429098</td>\n",
       "      <td>1.230885</td>\n",
       "      <td>Electrocardiogram QRS complex</td>\n",
       "      <td>umls</td>\n",
       "      <td>606</td>\n",
       "      <td>0.058764</td>\n",
       "    </tr>\n",
       "    <tr>\n",
       "      <th>4</th>\n",
       "      <td>C0233718</td>\n",
       "      <td>1.234450</td>\n",
       "      <td>Pressure of speech</td>\n",
       "      <td>umls</td>\n",
       "      <td>6303</td>\n",
       "      <td>0.058284</td>\n",
       "    </tr>\n",
       "    <tr>\n",
       "      <th>5</th>\n",
       "      <td>C0149875</td>\n",
       "      <td>1.235635</td>\n",
       "      <td>Primary dysmenorrhea</td>\n",
       "      <td>umls</td>\n",
       "      <td>7614</td>\n",
       "      <td>0.058125</td>\n",
       "    </tr>\n",
       "    <tr>\n",
       "      <th>6</th>\n",
       "      <td>C0424332</td>\n",
       "      <td>1.241167</td>\n",
       "      <td>Breath holding attack</td>\n",
       "      <td>umls</td>\n",
       "      <td>4339</td>\n",
       "      <td>0.057390</td>\n",
       "    </tr>\n",
       "    <tr>\n",
       "      <th>7</th>\n",
       "      <td>C0220983</td>\n",
       "      <td>1.244772</td>\n",
       "      <td>Metabolic alkalosis</td>\n",
       "      <td>umls</td>\n",
       "      <td>1373</td>\n",
       "      <td>0.056915</td>\n",
       "    </tr>\n",
       "    <tr>\n",
       "      <th>8</th>\n",
       "      <td>C0235575</td>\n",
       "      <td>1.251142</td>\n",
       "      <td>Hemolytic reaction</td>\n",
       "      <td>umls</td>\n",
       "      <td>6040</td>\n",
       "      <td>0.056086</td>\n",
       "    </tr>\n",
       "    <tr>\n",
       "      <th>9</th>\n",
       "      <td>C0079584</td>\n",
       "      <td>1.251759</td>\n",
       "      <td>Ichthyosis vulgaris</td>\n",
       "      <td>umls</td>\n",
       "      <td>7562</td>\n",
       "      <td>0.056007</td>\n",
       "    </tr>\n",
       "  </tbody>\n",
       "</table>\n",
       "</div>"
      ],
      "text/latex": [
       "\\begin{center}{\\begin{tabular}{llrllrr}\n",
       "\\toprule\n",
       "{} & identifier &       mlp &                           name & namespace &  node\\_id &  probability \\\\\n",
       "\\midrule\n",
       "0 &   C0302859 &  1.155488 &               Euthyroid goiter &      umls &     4479 &     0.069906 \\\\\n",
       "1 &   C0024473 &  1.194602 &           Magnesium deficiency &      umls &     7586 &     0.063885 \\\\\n",
       "2 &   C0040524 &  1.214516 &                        Toxemia &      umls &     7587 &     0.061022 \\\\\n",
       "3 &   C0429098 &  1.230885 &  Electrocardiogram QRS complex &      umls &      606 &     0.058764 \\\\\n",
       "4 &   C0233718 &  1.234450 &             Pressure of speech &      umls &     6303 &     0.058284 \\\\\n",
       "5 &   C0149875 &  1.235635 &           Primary dysmenorrhea &      umls &     7614 &     0.058125 \\\\\n",
       "6 &   C0424332 &  1.241167 &          Breath holding attack &      umls &     4339 &     0.057390 \\\\\n",
       "7 &   C0220983 &  1.244772 &            Metabolic alkalosis &      umls &     1373 &     0.056915 \\\\\n",
       "8 &   C0235575 &  1.251142 &             Hemolytic reaction &      umls &     6040 &     0.056086 \\\\\n",
       "9 &   C0079584 &  1.251759 &            Ichthyosis vulgaris &      umls &     7562 &     0.056007 \\\\\n",
       "\\bottomrule\n",
       "\\end{tabular}\n",
       "}\\end{center}"
      ],
      "text/plain": [
       "  identifier       mlp                           name namespace  node_id  \\\n",
       "0   C0302859  1.155488               Euthyroid goiter      umls     4479   \n",
       "1   C0024473  1.194602           Magnesium deficiency      umls     7586   \n",
       "2   C0040524  1.214516                        Toxemia      umls     7587   \n",
       "3   C0429098  1.230885  Electrocardiogram QRS complex      umls      606   \n",
       "4   C0233718  1.234450             Pressure of speech      umls     6303   \n",
       "5   C0149875  1.235635           Primary dysmenorrhea      umls     7614   \n",
       "6   C0424332  1.241167          Breath holding attack      umls     4339   \n",
       "7   C0220983  1.244772            Metabolic alkalosis      umls     1373   \n",
       "8   C0235575  1.251142             Hemolytic reaction      umls     6040   \n",
       "9   C0079584  1.251759            Ichthyosis vulgaris      umls     7562   \n",
       "\n",
       "   probability  \n",
       "0     0.069906  \n",
       "1     0.063885  \n",
       "2     0.061022  \n",
       "3     0.058764  \n",
       "4     0.058284  \n",
       "5     0.058125  \n",
       "6     0.057390  \n",
       "7     0.056915  \n",
       "8     0.056086  \n",
       "9     0.056007  "
      ]
     },
     "execution_count": 12,
     "metadata": {},
     "output_type": "execute_result"
    }
   ],
   "source": [
    "results = predictor.find_new_relations(\n",
    "    entity_identifier='145742',\n",
    "    entity_type='phenotype',\n",
    "    k=10,\n",
    ")\n",
    "print(json.dumps(results['query'], indent=2))\n",
    "\n",
    "results_df = pd.DataFrame(results['predictions'])\n",
    "results_df"
   ]
  }
 ],
 "metadata": {
  "kernelspec": {
   "display_name": "Python 3",
   "language": "python",
   "name": "python3"
  },
  "language_info": {
   "codemirror_mode": {
    "name": "ipython",
    "version": 3
   },
   "file_extension": ".py",
   "mimetype": "text/x-python",
   "name": "python",
   "nbconvert_exporter": "python",
   "pygments_lexer": "ipython3",
   "version": "3.7.3"
  }
 },
 "nbformat": 4,
 "nbformat_minor": 2
}
