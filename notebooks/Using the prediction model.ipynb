{
 "cells": [
  {
   "cell_type": "code",
   "execution_count": 1,
   "metadata": {},
   "outputs": [],
   "source": [
    "import sklearn\n",
    "from sklearn.externals import joblib\n",
    "from bionev.utils import load_embedding\n",
    "import numpy as np\n",
    "from sklearn.linear_model import LogisticRegression\n",
    "import pandas as pd\n",
    "import networkx as nx\n",
    "import os\n",
    "from se_kge.find_relations import find_new_relations"
   ]
  },
  {
   "cell_type": "markdown",
   "metadata": {},
   "source": [
    "# Predicting with model"
   ]
  },
  {
   "cell_type": "code",
   "execution_count": 2,
   "metadata": {},
   "outputs": [],
   "source": [
    "embedding_filepath = os.path.join(os.pardir, \"resources\", \"240719_node2vec_fullgraph.embeddings\")\n",
    "embeddings_node2vec = load_embedding(embedding_filepath)"
   ]
  },
  {
   "cell_type": "code",
   "execution_count": 3,
   "metadata": {},
   "outputs": [],
   "source": [
    "node2vec_model_filepath = os.path.join(os.pardir, \"resources\", \"prediction_model_node2vec_final.pkl\")\n",
    "node2vec_model = joblib.load(node2vec_model_filepath)"
   ]
  },
  {
   "cell_type": "markdown",
   "metadata": {},
   "source": [
    "# Examples of different kinds of predictions with literature evidence"
   ]
  },
  {
   "cell_type": "markdown",
   "metadata": {},
   "source": [
    "## side effect - target association"
   ]
  },
  {
   "cell_type": "code",
   "execution_count": 4,
   "metadata": {},
   "outputs": [
    {
     "data": {
      "text/plain": [
       "array([0.93904571])"
      ]
     },
     "execution_count": 4,
     "metadata": {},
     "output_type": "execute_result"
    }
   ],
   "source": [
    "x= []\n",
    "node1 = np.array(embeddings_node2vec['8499']) #EGFR\n",
    "node2 = np.array(embeddings_node2vec['7702']) #Papulopustular rash\n",
    "x1 = node1 * node2\n",
    "x.append(x1.tolist())\n",
    "node2vec_model.predict_proba(x)[:,1]\n",
    "#PMID: 18165622"
   ]
  },
  {
   "cell_type": "code",
   "execution_count": 5,
   "metadata": {},
   "outputs": [
    {
     "data": {
      "text/plain": [
       "array([0.96786309])"
      ]
     },
     "execution_count": 5,
     "metadata": {},
     "output_type": "execute_result"
    }
   ],
   "source": [
    "x= []\n",
    "#9713\n",
    "node1 = np.array(embeddings_node2vec['9523']) #Histamine receptor H1\n",
    "node2 = np.array(embeddings_node2vec['394']) #Drowsiness\n",
    "x1 = node1 * node2\n",
    "x.append(x1.tolist())\n",
    "node2vec_model.predict_proba(x)[:,1]\n",
    "#PMID: 26626077"
   ]
  },
  {
   "cell_type": "markdown",
   "metadata": {},
   "source": [
    "## drug- side effect association"
   ]
  },
  {
   "cell_type": "code",
   "execution_count": 6,
   "metadata": {},
   "outputs": [
    {
     "data": {
      "text/plain": [
       "array([0.88557845])"
      ]
     },
     "execution_count": 6,
     "metadata": {},
     "output_type": "execute_result"
    }
   ],
   "source": [
    "x= []\n",
    "node1 = np.array(embeddings_node2vec['4234']) #diazepam \n",
    "node2 = np.array(embeddings_node2vec['827']) #Libido decreased\n",
    "x1 = node1 * node2\n",
    "x.append(x1.tolist())\n",
    "node2vec_model.predict_proba(x)[:,1] \n",
    "#PMID: 29888057"
   ]
  },
  {
   "cell_type": "code",
   "execution_count": 7,
   "metadata": {},
   "outputs": [
    {
     "data": {
      "text/plain": [
       "array([0.87790016])"
      ]
     },
     "execution_count": 7,
     "metadata": {},
     "output_type": "execute_result"
    }
   ],
   "source": [
    "x= []\n",
    "node1 = np.array(embeddings_node2vec['10341']) #Cytarabine \n",
    "node2 = np.array(embeddings_node2vec['224']) #Anaemia megaloblastic\n",
    "x1 = node1 * node2\n",
    "x.append(x1.tolist())\n",
    "node2vec_model.predict_proba(x)[:,1] \n",
    "# PMID: 23157436"
   ]
  },
  {
   "cell_type": "markdown",
   "metadata": {},
   "source": [
    "## drug-target association"
   ]
  },
  {
   "cell_type": "code",
   "execution_count": 8,
   "metadata": {},
   "outputs": [
    {
     "data": {
      "text/plain": [
       "array([0.97239379])"
      ]
     },
     "execution_count": 8,
     "metadata": {},
     "output_type": "execute_result"
    }
   ],
   "source": [
    "x= []\n",
    "node1 = np.array(embeddings_node2vec['12693']) #Sertindole \n",
    "node2 = np.array(embeddings_node2vec['9460']) #CHRM1 receptor\n",
    "x1 = node1 * node2\n",
    "x.append(x1.tolist())\n",
    "node2vec_model.predict_proba(x)[:,1] \n",
    "# PMID: 29942259 "
   ]
  },
  {
   "cell_type": "markdown",
   "metadata": {},
   "source": [
    "# Example of predicting relations using node2vec model and embeddings"
   ]
  },
  {
   "cell_type": "code",
   "execution_count": 9,
   "metadata": {},
   "outputs": [],
   "source": [
    "graph_filepath = os.path.join(os.pardir, \"resources\", \"fullgraph.edgelist\")\n",
    "graph= nx.read_edgelist(graph_filepath)"
   ]
  },
  {
   "cell_type": "code",
   "execution_count": 10,
   "metadata": {},
   "outputs": [],
   "source": [
    "node_mapping_filepath = os.path.join(os.pardir, \"resources\", \"fullgraph_nodes_mapping.tsv\")\n",
    "node_mapping=pd.read_csv(node_mapping_filepath, sep=',')"
   ]
  },
  {
   "cell_type": "code",
   "execution_count": 12,
   "metadata": {},
   "outputs": [
    {
     "name": "stderr",
     "output_type": "stream",
     "text": [
      "creating relations list: 100%|█████████████████████████████████████████████████████████████████████████████████████████████████████████████████| 13730/13730 [00:52<00:00, 262.53it/s]\n"
     ]
    },
    {
     "name": "stdout",
     "output_type": "stream",
     "text": [
      "The 10 highest target predictions for {'node_id': 1, 'namespace': 'pubchem', 'identifier': '85', 'name': '(3-carboxy-2-hydroxypropyl)-trimethylazanium'}\n"
     ]
    },
    {
     "data": {
      "text/plain": [
       "{1: {'node_id': 9106,\n",
       "  'namespace': 'uniprot',\n",
       "  'identifier': 'Q7Z2H8',\n",
       "  'name': nan,\n",
       "  'probability': 0.9965008560852598},\n",
       " 2: {'node_id': 8709,\n",
       "  'namespace': 'uniprot',\n",
       "  'identifier': 'P11926',\n",
       "  'name': nan,\n",
       "  'probability': 0.994150213974704},\n",
       " 3: {'node_id': 8732,\n",
       "  'namespace': 'uniprot',\n",
       "  'identifier': 'P54687',\n",
       "  'name': nan,\n",
       "  'probability': 0.9916397174227859},\n",
       " 4: {'node_id': 9026,\n",
       "  'namespace': 'uniprot',\n",
       "  'identifier': 'Q14957',\n",
       "  'name': nan,\n",
       "  'probability': 0.9908048304056905},\n",
       " 5: {'node_id': 8837,\n",
       "  'namespace': 'uniprot',\n",
       "  'identifier': 'Q9GZV3',\n",
       "  'name': nan,\n",
       "  'probability': 0.989876001710522},\n",
       " 6: {'node_id': 8750,\n",
       "  'namespace': 'uniprot',\n",
       "  'identifier': 'Q96GA7',\n",
       "  'name': nan,\n",
       "  'probability': 0.9889918475882788},\n",
       " 7: {'node_id': 8834,\n",
       "  'namespace': 'uniprot',\n",
       "  'identifier': 'Q53GD3',\n",
       "  'name': nan,\n",
       "  'probability': 0.9883143358472062},\n",
       " 8: {'node_id': 8653,\n",
       "  'namespace': 'uniprot',\n",
       "  'identifier': 'P25116',\n",
       "  'name': nan,\n",
       "  'probability': 0.9880429089524897},\n",
       " 9: {'node_id': 8826,\n",
       "  'namespace': 'uniprot',\n",
       "  'identifier': 'P35790',\n",
       "  'name': nan,\n",
       "  'probability': 0.9836515723620812},\n",
       " 10: {'node_id': 8828,\n",
       "  'namespace': 'uniprot',\n",
       "  'identifier': 'O15244',\n",
       "  'name': nan,\n",
       "  'probability': 0.9798445572864255}}"
      ]
     },
     "execution_count": 12,
     "metadata": {},
     "output_type": "execute_result"
    }
   ],
   "source": [
    "find_new_relations(\n",
    "    entity_identifier='85',\n",
    "    embeddings=embeddings_node2vec,\n",
    "    node_mapping=node_mapping,\n",
    "    saved_model=node2vec_model,\n",
    "    graph=graph, \n",
    "    entity_type='target',\n",
    "    k=10)"
   ]
  },
  {
   "cell_type": "code",
   "execution_count": null,
   "metadata": {},
   "outputs": [],
   "source": []
  }
 ],
 "metadata": {
  "kernelspec": {
   "display_name": "project-env",
   "language": "python",
   "name": "project-env"
  },
  "language_info": {
   "codemirror_mode": {
    "name": "ipython",
    "version": 3
   },
   "file_extension": ".py",
   "mimetype": "text/x-python",
   "name": "python",
   "nbconvert_exporter": "python",
   "pygments_lexer": "ipython3",
   "version": "3.6.5"
  }
 },
 "nbformat": 4,
 "nbformat_minor": 2
}
