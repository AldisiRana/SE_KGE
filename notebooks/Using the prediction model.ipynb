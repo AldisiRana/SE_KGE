{
 "cells": [
  {
   "cell_type": "code",
   "execution_count": 2,
   "metadata": {},
   "outputs": [],
   "source": [
    "import pandas as pd\n",
    "import os"
   ]
  },
  {
   "cell_type": "markdown",
   "metadata": {},
   "source": [
    "# Loading the data"
   ]
  },
  {
   "cell_type": "code",
   "execution_count": 3,
   "metadata": {},
   "outputs": [],
   "source": [
    "from se_kge.default_predictor import predictor, embeddings_path, graph_path, model_path, mapping_path"
   ]
  },
  {
   "cell_type": "code",
   "execution_count": 4,
   "metadata": {},
   "outputs": [
    {
     "name": "stdout",
     "output_type": "stream",
     "text": [
      "Loaded default predictor using paths:\n",
      "\n",
      "embeddings: C:\\Users\\Rana Aldisi\\Documents\\GitHub\\SE_KGE\\resources\\predictive_model\\070819_node2vec_embeddings_complete01.embeddings\n",
      "graph: C:\\Users\\Rana Aldisi\\Documents\\GitHub\\SE_KGE\\resources\\chemsim_50_graphs\\fullgraph_with_chemsim_50.edgelist\n",
      "model: C:\\Users\\Rana Aldisi\\Documents\\GitHub\\SE_KGE\\resources\\predictive_model\\070819_node2vec_model_complete01.pkl\n",
      "mapping: C:\\Users\\Rana Aldisi\\Documents\\GitHub\\SE_KGE\\resources\\mapping\\fullgraph_nodes_mapping.tsv\n",
      "\n",
      "\n"
     ]
    }
   ],
   "source": [
    "print(f\"\"\"Loaded default predictor using paths:\n",
    "\n",
    "embeddings: {embeddings_path}\n",
    "graph: {graph_path}\n",
    "model: {model_path}\n",
    "mapping: {mapping_path}\n",
    "\n",
    "\"\"\")"
   ]
  },
  {
   "cell_type": "markdown",
   "metadata": {},
   "source": [
    "# Examples of different kinds of predictions with literature evidence"
   ]
  },
  {
   "cell_type": "markdown",
   "metadata": {},
   "source": [
    "## side effect - target association"
   ]
  },
  {
   "cell_type": "code",
   "execution_count": 5,
   "metadata": {},
   "outputs": [
    {
     "data": {
      "text/plain": [
       "{'entity_1': {'node_id': 8499,\n",
       "  'namespace': 'uniprot',\n",
       "  'name': 'EGFR',\n",
       "  'identifier': 'P00533'},\n",
       " 'entity_2': {'node_id': 6791,\n",
       "  'namespace': 'umls',\n",
       "  'name': 'Papulopustular rash',\n",
       "  'identifier': 'C2609319'},\n",
       " 'probability': 0.02084655412288939}"
      ]
     },
     "execution_count": 5,
     "metadata": {},
     "output_type": "execute_result"
    }
   ],
   "source": [
    "predictor.find_new_relation(\n",
    "    entity_name_1='EGFR',\n",
    "    entity_name_2='Papulopustular rash',\n",
    ")\n",
    "#PMID: 18165622"
   ]
  },
  {
   "cell_type": "code",
   "execution_count": 6,
   "metadata": {},
   "outputs": [
    {
     "data": {
      "text/plain": [
       "{'entity_1': {'node_id': 9438,\n",
       "  'namespace': 'uniprot',\n",
       "  'name': 'HRH1',\n",
       "  'identifier': 'P35367'},\n",
       " 'entity_2': {'node_id': 331,\n",
       "  'namespace': 'umls',\n",
       "  'name': 'Drowsiness',\n",
       "  'identifier': 'C0013144'},\n",
       " 'probability': 0.022773732615890885}"
      ]
     },
     "execution_count": 6,
     "metadata": {},
     "output_type": "execute_result"
    }
   ],
   "source": [
    "predictor.find_new_relation(\n",
    "node_id_1=9438, #Histamine receptor H1\n",
    "node_id_2=331, #Drowsiness\n",
    ")\n",
    "#PMID: 26626077"
   ]
  },
  {
   "cell_type": "markdown",
   "metadata": {},
   "source": [
    "## drug- side effect association"
   ]
  },
  {
   "cell_type": "code",
   "execution_count": 7,
   "metadata": {},
   "outputs": [
    {
     "data": {
      "text/plain": [
       "{'entity_1': {'node_id': '3534',\n",
       "  'namespace': 'pubchem',\n",
       "  'name': '7-chloro-1-methyl-5-phenyl-3H-1,4-benzodiazepin-2-one',\n",
       "  'identifier': '3016'},\n",
       " 'entity_2': {'node_id': '670',\n",
       "  'namespace': 'umls',\n",
       "  'name': 'Libido decreased',\n",
       "  'identifier': 'C0011124'},\n",
       " 'probability': 0.9969995536047346}"
      ]
     },
     "execution_count": 7,
     "metadata": {},
     "output_type": "execute_result"
    }
   ],
   "source": [
    "predictor.find_new_relation(\n",
    "node_id_1='3534', #diazepam\n",
    "node_id_2='670', #Libido decreased\n",
    ")\n",
    "#PMID: 29888057"
   ]
  },
  {
   "cell_type": "code",
   "execution_count": 9,
   "metadata": {},
   "outputs": [
    {
     "data": {
      "text/plain": [
       "{'entity_1': {'node_id': 10270,\n",
       "  'namespace': 'pubchem',\n",
       "  'name': '4-amino-1-[(2R,3S,4S,5R)-3,4-dihydroxy-5-(hydroxymethyl)oxolan-2-yl]pyrimidin-2-one',\n",
       "  'identifier': '6253'},\n",
       " 'entity_2': {'node_id': 1149,\n",
       "  'namespace': 'umls',\n",
       "  'name': 'Anaemia megaloblastic',\n",
       "  'identifier': 'C0002888'},\n",
       " 'probability': 0.0007503847088747362}"
      ]
     },
     "execution_count": 9,
     "metadata": {},
     "output_type": "execute_result"
    }
   ],
   "source": [
    "predictor.find_new_relation(\n",
    "node_id_1=10270, #Cytarabine \n",
    "node_id_2=1149, #Anaemia megaloblastic\n",
    ")\n",
    "# PMID: 23157436"
   ]
  },
  {
   "cell_type": "markdown",
   "metadata": {},
   "source": [
    "## drug-target association"
   ]
  },
  {
   "cell_type": "code",
   "execution_count": 10,
   "metadata": {},
   "outputs": [
    {
     "data": {
      "text/plain": [
       "{'entity_1': {'node_id': 12765,\n",
       "  'namespace': 'pubchem',\n",
       "  'name': '1-[2-[4-[5-chloro-1-(4-fluorophenyl)indol-3-yl]piperidin-1-yl]ethyl]imidazolidin-2-one',\n",
       "  'identifier': '60149'},\n",
       " 'entity_2': {'node_id': 9372,\n",
       "  'namespace': 'uniprot',\n",
       "  'name': 'CHRM1',\n",
       "  'identifier': 'P11229'},\n",
       " 'probability': 0.014544440338331974}"
      ]
     },
     "execution_count": 10,
     "metadata": {},
     "output_type": "execute_result"
    }
   ],
   "source": [
    "predictor.find_new_relation(\n",
    "node_id_1=12765, #Sertindole \n",
    "node_id_2=9372,  #CHRM1 receptor\n",
    ")\n",
    "# PMID: 29942259 "
   ]
  },
  {
   "cell_type": "markdown",
   "metadata": {},
   "source": [
    "# Example of predicting relations using node2vec model and embeddings"
   ]
  },
  {
   "cell_type": "code",
   "execution_count": null,
   "metadata": {},
   "outputs": [
    {
     "name": "stderr",
     "output_type": "stream",
     "text": [
      "creating relations list:  27%|███████████████████████████████▍                                                                                   | 3755/13730 [00:18<02:38, 62.95it/s]"
     ]
    }
   ],
   "source": [
    "results = predictor.find_new_relations(\n",
    "    entity_identifier='145742',\n",
    "    entity_type='phenotype',\n",
    "    k=10,\n",
    ")\n",
    "print(results['query'])\n",
    "results_df = pd.DataFrame(results['predictions'])\n",
    "results_df"
   ]
  },
  {
   "cell_type": "code",
   "execution_count": null,
   "metadata": {},
   "outputs": [],
   "source": []
  }
 ],
 "metadata": {
  "kernelspec": {
   "display_name": "project-env",
   "language": "python",
   "name": "project-env"
  },
  "language_info": {
   "codemirror_mode": {
    "name": "ipython",
    "version": 3
   },
   "file_extension": ".py",
   "mimetype": "text/x-python",
   "name": "python",
   "nbconvert_exporter": "python",
   "pygments_lexer": "ipython3",
   "version": "3.6.5"
  }
 },
 "nbformat": 4,
 "nbformat_minor": 2
}
