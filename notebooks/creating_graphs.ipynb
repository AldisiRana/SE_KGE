{
 "cells": [
  {
   "cell_type": "code",
   "execution_count": 1,
   "metadata": {},
   "outputs": [],
   "source": [
    "import networkx as nx\n",
    "import os\n",
    "import pybel\n",
    "import pandas as pd\n",
    "from tqdm import tqdm_notebook as tqdm\n",
    "from se_kge.get_url_requests import cid_to_synonyms, get_gene_names\n",
    "from se_kge.graph_preprocessing import get_drugbank_graph, get_sider_graph, combine_pubchem_drugbank"
   ]
  },
  {
   "cell_type": "markdown",
   "metadata": {},
   "source": [
    "# Building SIDER and DrugBank graphs"
   ]
  },
  {
   "cell_type": "code",
   "execution_count": 2,
   "metadata": {},
   "outputs": [
    {
     "name": "stderr",
     "output_type": "stream",
     "text": [
      "side effects: 100%|██████████| 308948/308948 [01:45<00:00, 2928.78it/s]\n",
      "indications: 100%|██████████| 30794/30794 [00:43<00:00, 704.49it/s] \n"
     ]
    }
   ],
   "source": [
    "sider_graph = get_sider_graph()"
   ]
  },
  {
   "cell_type": "code",
   "execution_count": 3,
   "metadata": {},
   "outputs": [
    {
     "name": "stderr",
     "output_type": "stream",
     "text": [
      "Mapping drug-protein interactions to BEL: 100%|██████████| 25199/25199 [05:12<00:00, 80.75it/s] \n"
     ]
    }
   ],
   "source": [
    "drugbank_graph = get_drugbank_graph()"
   ]
  },
  {
   "cell_type": "markdown",
   "metadata": {},
   "source": [
    "# Combining both graphs into a complete graph"
   ]
  },
  {
   "cell_type": "code",
   "execution_count": 4,
   "metadata": {},
   "outputs": [],
   "source": [
    "drugbank_pubchem_mapping = os.path.join(os.pardir, \"resources\", \"drugbank_pubchem_mapping.tsv\")"
   ]
  },
  {
   "cell_type": "code",
   "execution_count": 5,
   "metadata": {},
   "outputs": [
    {
     "name": "stderr",
     "output_type": "stream",
     "text": [
      "create pubchem-drugbank mapping dictionary: 6194it [00:00, 9506.94it/s]\n",
      "Removing nodes that were not relabeled: 100%|██████████| 1513/1513 [00:00<00:00, 21825.42it/s]"
     ]
    },
    {
     "name": "stdout",
     "output_type": "stream",
     "text": [
      "Number of nodes that were not relabeled 1513\n"
     ]
    },
    {
     "name": "stderr",
     "output_type": "stream",
     "text": [
      "\n"
     ]
    },
    {
     "name": "stdout",
     "output_type": "stream",
     "text": [
      "The number of nodes in the combined graph is 13669\n"
     ]
    }
   ],
   "source": [
    "full_graph = combine_pubchem_drugbank(drugbank_pubchem_mapping, drugbank_graph, sider_graph)"
   ]
  },
  {
   "cell_type": "code",
   "execution_count": 6,
   "metadata": {},
   "outputs": [
    {
     "name": "stdout",
     "output_type": "stream",
     "text": [
      "SIDER graph has a total of 8497 nodes\n",
      "The number of Side Effects nodes is 6990\n",
      "The number of Drugs nodes is 1507\n"
     ]
    }
   ],
   "source": [
    "sider_side_effects = 0\n",
    "sider_drugs = 0\n",
    "for node in sider_graph.nodes():\n",
    "    if node.namespace == 'umls':\n",
    "        sider_side_effects+=1\n",
    "    else:\n",
    "        sider_drugs+=1\n",
    "print('SIDER graph has a total of %d nodes' % len(sider_graph.nodes()))\n",
    "print('The number of Side Effects nodes is %d' % sider_side_effects)\n",
    "print('The number of Drugs nodes is %d' % sider_drugs)"
   ]
  },
  {
   "cell_type": "code",
   "execution_count": 7,
   "metadata": {},
   "outputs": [
    {
     "name": "stdout",
     "output_type": "stream",
     "text": [
      "DrugBank Graph has a total of 7988 nodes\n",
      "The number of Proteins nodes is 2778\n",
      "The number of drugs nodes is 5210\n"
     ]
    }
   ],
   "source": [
    "drugbank_proteins = 0\n",
    "drugbank_drugs = 0\n",
    "for node in drugbank_graph.nodes():\n",
    "    if node.namespace == 'uniprot':\n",
    "        drugbank_proteins+=1\n",
    "    else:\n",
    "        drugbank_drugs+=1\n",
    "print('DrugBank Graph has a total of %d nodes' % len(drugbank_graph.nodes()))\n",
    "print('The number of Proteins nodes is %d' % drugbank_proteins)\n",
    "print('The number of drugs nodes is %d' % drugbank_drugs)"
   ]
  },
  {
   "cell_type": "code",
   "execution_count": 8,
   "metadata": {},
   "outputs": [
    {
     "name": "stdout",
     "output_type": "stream",
     "text": [
      "The combined graph has a total of 13669 nodes\n",
      "The number of Proteins nodes is 1984\n",
      "The number of Side Effects nodes is 6990\n",
      "The number of Drugs nodes is 4695\n"
     ]
    }
   ],
   "source": [
    "proteins = 0\n",
    "side_effects = 0\n",
    "drugs = 0\n",
    "for node in full_graph.nodes():\n",
    "    if node.namespace == 'uniprot':\n",
    "        proteins+=1\n",
    "    elif node.namespace == 'umls':\n",
    "        side_effects+=1\n",
    "    else:\n",
    "        drugs+=1\n",
    "print('The combined graph has a total of %d nodes' % len(full_graph.nodes()))\n",
    "print('The number of Proteins nodes is %d' % proteins)\n",
    "print('The number of Side Effects nodes is %d' % side_effects)\n",
    "print('The number of Drugs nodes is %d' % drugs)"
   ]
  },
  {
   "cell_type": "code",
   "execution_count": null,
   "metadata": {},
   "outputs": [],
   "source": [
    "pybel.to_pickle(sider_graph, os.path.join(os.pardir, \"resources\", \"sider_graph.pickle\"))"
   ]
  },
  {
   "cell_type": "code",
   "execution_count": null,
   "metadata": {},
   "outputs": [],
   "source": [
    "pybel.to_pickle(drugbank_graph, os.path.join(os.pardir, \"resources\", \"drugbank_graph.pickle\"))"
   ]
  },
  {
   "cell_type": "code",
   "execution_count": null,
   "metadata": {},
   "outputs": [],
   "source": [
    "pybel.to_pickle(full_graph, os.path.join(os.pardir, \"resources\", \"fullgraph_without_sim.pickle\"))"
   ]
  },
  {
   "cell_type": "markdown",
   "metadata": {},
   "source": [
    "# Mapping the nodes and relabeling them"
   ]
  },
  {
   "cell_type": "code",
   "execution_count": null,
   "metadata": {},
   "outputs": [],
   "source": [
    "full_graph = pybel.from_pickle(os.path.join(os.pardir, \"resources\", \"fullgraph_without_sim.pickle\"))"
   ]
  },
  {
   "cell_type": "code",
   "execution_count": null,
   "metadata": {},
   "outputs": [],
   "source": [
    "relabel_fullgraph = {}\n",
    "i = 1\n",
    "for node in full_graph.nodes():\n",
    "    relabel_fullgraph[node] = i\n",
    "    i+=1"
   ]
  },
  {
   "cell_type": "code",
   "execution_count": null,
   "metadata": {},
   "outputs": [
    {
     "data": {
      "application/vnd.jupyter.widget-view+json": {
       "model_id": "4de1d84aa0194b88b49d43186167bb6d",
       "version_major": 2,
       "version_minor": 0
      },
      "text/plain": [
       "HBox(children=(IntProgress(value=0, max=13669), HTML(value='')))"
      ]
     },
     "metadata": {},
     "output_type": "display_data"
    }
   ],
   "source": [
    "node_mapping_list = []\n",
    "protein_list = []\n",
    "for node, node_id in tqdm(relabel_fullgraph.items()):\n",
    "    name = node.name\n",
    "    if node.namespace == 'pubchem':\n",
    "        name = cid_to_synonyms(node.identifier).decode(\"utf-8\")\n",
    "    if node.namespace == 'uniprot':\n",
    "        protein_list.append(node.identifier)\n",
    "    node_mapping_list.append((node_id, node.namespace, node.identifier, name))\n",
    "node_mapping_df = pd.DataFrame(node_mapping_list, columns=['node_id', 'namespace', 'identifier', 'name'])"
   ]
  },
  {
   "cell_type": "code",
   "execution_count": null,
   "metadata": {},
   "outputs": [],
   "source": [
    "protein_to_gene = get_gene_names(protein_list)"
   ]
  },
  {
   "cell_type": "code",
   "execution_count": null,
   "metadata": {},
   "outputs": [],
   "source": [
    "for protein, gene in protein_to_gene.items():\n",
    "    node_mapping_df.loc[node_mapping_df['identifier'] == protein, 'name'] = gene"
   ]
  },
  {
   "cell_type": "code",
   "execution_count": null,
   "metadata": {},
   "outputs": [],
   "source": [
    "node_mapping_df.head()"
   ]
  },
  {
   "cell_type": "code",
   "execution_count": null,
   "metadata": {},
   "outputs": [],
   "source": [
    "node_mapping_df.to_csv(os.path.join(os.pardir, \"resources\", \"fullgraph_nodes_mapping.tsv\"), index=False)"
   ]
  },
  {
   "cell_type": "code",
   "execution_count": null,
   "metadata": {},
   "outputs": [],
   "source": [
    "fullgraph_id = nx.relabel_nodes(full_graph, relabel_fullgraph)"
   ]
  },
  {
   "cell_type": "code",
   "execution_count": null,
   "metadata": {},
   "outputs": [],
   "source": [
    "nx.write_edgelist(fullgraph_id, os.path.join(os.pardir, \"resources\", \"fullgraph_without_sim.edgelist\"), data=False)"
   ]
  },
  {
   "cell_type": "markdown",
   "metadata": {},
   "source": [
    "# Combining the full graph with chemical similarity graph\n",
    "Note: Calculating chemical similarities and creating the graph is done in a different notebook because it needs the RDkit package and environment"
   ]
  },
  {
   "cell_type": "code",
   "execution_count": null,
   "metadata": {},
   "outputs": [],
   "source": [
    "chem_sim_graph = pybel.from_pickle(os.path.join(os.pardir, \"resources\", \"chem_sim_graph_70.pickle\"))"
   ]
  },
  {
   "cell_type": "code",
   "execution_count": null,
   "metadata": {},
   "outputs": [],
   "source": [
    "chem_sim_relabeled = nx.relabel_nodes(chem_sim_graph, relabel_fullgraph)"
   ]
  },
  {
   "cell_type": "code",
   "execution_count": null,
   "metadata": {},
   "outputs": [],
   "source": [
    "nx.write_edgelist(chem_sim_relabeled, os.path.join(os.pardir, \"resources\", \"chem_sim_graph_70.edgelist\"), data=False)"
   ]
  },
  {
   "cell_type": "code",
   "execution_count": null,
   "metadata": {},
   "outputs": [],
   "source": [
    "fullgraph_with_chemsim = fullgraph_id + chem_sim_relabeled"
   ]
  },
  {
   "cell_type": "code",
   "execution_count": null,
   "metadata": {},
   "outputs": [],
   "source": [
    "nx.write_edgelist(fullgraph_with_chemsim, os.path.join(os.pardir, \"resources\", \"fullgraph_with_chemsim.edgelist\"), data=False)"
   ]
  },
  {
   "cell_type": "code",
   "execution_count": null,
   "metadata": {},
   "outputs": [],
   "source": [
    "fullgraph_without_chemsim = pybel.from_pickle(os.path.join(os.pardir, \"resources\", \"fullgraph_without_sim.pickle\"))"
   ]
  },
  {
   "cell_type": "code",
   "execution_count": null,
   "metadata": {},
   "outputs": [],
   "source": [
    "fullgraph_with_chemsim = fullgraph_without_chemsim + chem_sim_graph"
   ]
  },
  {
   "cell_type": "code",
   "execution_count": null,
   "metadata": {},
   "outputs": [],
   "source": [
    "pybel.to_pickle(fullgraph_with_chemsim, os.path.join(os.pardir, \"resources\", \"fullgraph_with_chemsim_70.pickle\"))"
   ]
  }
 ],
 "metadata": {
  "kernelspec": {
   "display_name": "Python 3",
   "language": "python",
   "name": "python3"
  },
  "language_info": {
   "codemirror_mode": {
    "name": "ipython",
    "version": 3
   },
   "file_extension": ".py",
   "mimetype": "text/x-python",
   "name": "python",
   "nbconvert_exporter": "python",
   "pygments_lexer": "ipython3",
   "version": "3.6.5"
  }
 },
 "nbformat": 4,
 "nbformat_minor": 2
}
