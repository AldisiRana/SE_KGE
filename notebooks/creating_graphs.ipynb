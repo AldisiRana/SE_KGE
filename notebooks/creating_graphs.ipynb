{
 "cells": [
  {
   "cell_type": "code",
   "execution_count": 3,
   "metadata": {},
   "outputs": [],
   "source": [
    "import networkx as nx\n",
    "import os\n",
    "import pybel\n",
    "import pandas as pd\n",
    "from tqdm import tqdm_notebook as tqdm\n",
    "from se_kge.get_url_requests import cid_to_synonyms, get_gene_names\n",
    "from se_kge.graph_preprocessing import get_drugbank_graph, get_sider_graph, combine_pubchem_drugbank"
   ]
  },
  {
   "cell_type": "markdown",
   "metadata": {},
   "source": [
    "# Building SIDER and DrugBank graphs"
   ]
  },
  {
   "cell_type": "code",
   "execution_count": 2,
   "metadata": {},
   "outputs": [
    {
     "name": "stderr",
     "output_type": "stream",
     "text": [
      "side effects: 100%|███████████████████████████████████████████████████████████████████████████████████████████████████████████████████████| 1853688/1853688 [16:27<00:00, 1877.51it/s]\n",
      "indications: 100%|██████████████████████████████████████████████████████████████████████████████████████████████████████████████████████████| 184764/184764 [01:58<00:00, 1557.10it/s]\n"
     ]
    }
   ],
   "source": [
    "sider_graph = get_sider_graph()"
   ]
  },
  {
   "cell_type": "code",
   "execution_count": 3,
   "metadata": {},
   "outputs": [
    {
     "name": "stderr",
     "output_type": "stream",
     "text": [
      "Mapping drug-protein interactions to BEL: 100%|██████████████████████████████████████████████████████████████████████████████████████████████| 116911/116911 [06:45<00:00, 288.04it/s]\n"
     ]
    }
   ],
   "source": [
    "drugbank_graph = get_drugbank_graph()"
   ]
  },
  {
   "cell_type": "code",
   "execution_count": 4,
   "metadata": {},
   "outputs": [
    {
     "name": "stdout",
     "output_type": "stream",
     "text": [
      "SIDER graph has a total of 8497 nodes\n",
      "The number of Side Effects nodes is 6990\n",
      "The number of Drugs nodes is 1507\n"
     ]
    }
   ],
   "source": [
    "sider_side_effects = 0\n",
    "sider_drugs = 0\n",
    "for node in sider_graph.nodes():\n",
    "    if node.namespace == 'umls':\n",
    "        sider_side_effects+=1\n",
    "    else:\n",
    "        sider_drugs+=1\n",
    "print('SIDER graph has a total of %d nodes' % len(sider_graph.nodes()))\n",
    "print('The number of Side Effects nodes is %d' % sider_side_effects)\n",
    "print('The number of Drugs nodes is %d' % sider_drugs)"
   ]
  },
  {
   "cell_type": "code",
   "execution_count": 5,
   "metadata": {},
   "outputs": [
    {
     "name": "stdout",
     "output_type": "stream",
     "text": [
      "DrugBank Graph has a total of 8059 nodes\n",
      "The number of Proteins nodes is 2781\n",
      "The number of drugs nodes is 5278\n"
     ]
    }
   ],
   "source": [
    "drugbank_proteins = 0\n",
    "drugbank_drugs = 0\n",
    "for node in drugbank_graph.nodes():\n",
    "    if node.namespace == 'uniprot':\n",
    "        drugbank_proteins+=1\n",
    "    else:\n",
    "        drugbank_drugs+=1\n",
    "print('DrugBank Graph has a total of %d nodes' % len(drugbank_graph.nodes()))\n",
    "print('The number of Proteins nodes is %d' % drugbank_proteins)\n",
    "print('The number of drugs nodes is %d' % drugbank_drugs)"
   ]
  },
  {
   "cell_type": "code",
   "execution_count": 6,
   "metadata": {},
   "outputs": [],
   "source": [
    "pybel.to_pickle(sider_graph, os.path.join(os.pardir, \"resources\", \"basic_graphs\", \"sider_graph.pickle\"))"
   ]
  },
  {
   "cell_type": "code",
   "execution_count": 7,
   "metadata": {},
   "outputs": [],
   "source": [
    "pybel.to_pickle(drugbank_graph, os.path.join(os.pardir, \"resources\", \"basic_graphs\", \"drugbank_graph.pickle\"))"
   ]
  },
  {
   "cell_type": "markdown",
   "metadata": {},
   "source": [
    "# Combining both graphs into a complete graph"
   ]
  },
  {
   "cell_type": "code",
   "execution_count": 4,
   "metadata": {},
   "outputs": [],
   "source": [
    "sider_graph = pybel.from_pickle(os.path.join(os.pardir, \"resources\", \"basic_graphs\", \"sider_graph.pickle\"))"
   ]
  },
  {
   "cell_type": "code",
   "execution_count": 5,
   "metadata": {},
   "outputs": [],
   "source": [
    "drugbank_graph = pybel.from_pickle(os.path.join(os.pardir, \"resources\", \"basic_graphs\", \"drugbank_graph.pickle\"))"
   ]
  },
  {
   "cell_type": "code",
   "execution_count": 6,
   "metadata": {},
   "outputs": [],
   "source": [
    "drugbank_pubchem_mapping = os.path.join(os.pardir, \"resources\", \"mapping\", \"drugbank_pubchem_mapping.tsv\")"
   ]
  },
  {
   "cell_type": "code",
   "execution_count": 7,
   "metadata": {},
   "outputs": [
    {
     "name": "stderr",
     "output_type": "stream",
     "text": [
      "create pubchem-drugbank mapping dictionary: 8540it [00:04, 1888.63it/s]\n",
      "Removing nodes that were not relabeled: 100%|█████████████████████████████████████████████████████████████████████████████████████████████████████| 770/770 [00:00<00:00, 5079.32it/s]\n"
     ]
    }
   ],
   "source": [
    "full_graph = combine_pubchem_drugbank(drugbank_pubchem_mapping, drugbank_graph, sider_graph)"
   ]
  },
  {
   "cell_type": "code",
   "execution_count": 8,
   "metadata": {},
   "outputs": [
    {
     "name": "stdout",
     "output_type": "stream",
     "text": [
      "The combined graph has a total of 15024 nodes\n",
      "The number of Proteins nodes is 2596\n",
      "The number of Side Effects nodes is 6990\n",
      "The number of Drugs nodes is 5438\n"
     ]
    }
   ],
   "source": [
    "proteins = 0\n",
    "side_effects = 0\n",
    "drugs = 0\n",
    "for node in full_graph.nodes():\n",
    "    if node.namespace == 'uniprot':\n",
    "        proteins+=1\n",
    "    elif node.namespace == 'umls':\n",
    "        side_effects+=1\n",
    "    else:\n",
    "        drugs+=1\n",
    "print('The combined graph has a total of %d nodes' % len(full_graph.nodes()))\n",
    "print('The number of Proteins nodes is %d' % proteins)\n",
    "print('The number of Side Effects nodes is %d' % side_effects)\n",
    "print('The number of Drugs nodes is %d' % drugs)"
   ]
  },
  {
   "cell_type": "code",
   "execution_count": 9,
   "metadata": {},
   "outputs": [],
   "source": [
    "pybel.to_pickle(full_graph, os.path.join(os.pardir, \"resources\", \"basic_graphs\", \"fullgraph_without_sim.pickle\"))"
   ]
  },
  {
   "cell_type": "markdown",
   "metadata": {},
   "source": [
    "# Mapping the nodes and relabeling them"
   ]
  },
  {
   "cell_type": "code",
   "execution_count": 18,
   "metadata": {},
   "outputs": [],
   "source": [
    "full_graph = pybel.from_pickle(os.path.join(os.pardir, \"resources\", \"fullgraph_without_sim.pickle\"))"
   ]
  },
  {
   "cell_type": "code",
   "execution_count": 10,
   "metadata": {},
   "outputs": [],
   "source": [
    "relabel_fullgraph = {}\n",
    "i = 1\n",
    "for node in full_graph.nodes():\n",
    "    relabel_fullgraph[node] = i\n",
    "    i+=1"
   ]
  },
  {
   "cell_type": "code",
   "execution_count": 13,
   "metadata": {},
   "outputs": [
    {
     "data": {
      "application/vnd.jupyter.widget-view+json": {
       "model_id": "2f218cd6e11646c9a0bbeaf1389946b2",
       "version_major": 2,
       "version_minor": 0
      },
      "text/plain": [
       "HBox(children=(IntProgress(value=0, max=15024), HTML(value='')))"
      ]
     },
     "metadata": {},
     "output_type": "display_data"
    }
   ],
   "source": [
    "node_mapping_list = []\n",
    "protein_list = []\n",
    "for node, node_id in tqdm(relabel_fullgraph.items()):\n",
    "    name = node.name\n",
    "    if node.namespace == 'pubchem':\n",
    "        name = cid_to_synonyms(node.identifier)\n",
    "        if not isinstance(name, str):\n",
    "            name = name.decode(\"utf-8\")\n",
    "    if node.namespace == 'uniprot':\n",
    "        protein_list.append(node.identifier)\n",
    "    node_mapping_list.append((node_id, node.namespace, node.identifier, name))\n",
    "node_mapping_df = pd.DataFrame(node_mapping_list, columns=['node_id', 'namespace', 'identifier', 'name'])"
   ]
  },
  {
   "cell_type": "code",
   "execution_count": 14,
   "metadata": {},
   "outputs": [],
   "source": [
    "protein_to_gene = get_gene_names(protein_list)"
   ]
  },
  {
   "cell_type": "code",
   "execution_count": 15,
   "metadata": {},
   "outputs": [],
   "source": [
    "for protein, gene in protein_to_gene.items():\n",
    "    node_mapping_df.loc[node_mapping_df['identifier'] == protein, 'name'] = gene"
   ]
  },
  {
   "cell_type": "code",
   "execution_count": 16,
   "metadata": {},
   "outputs": [
    {
     "data": {
      "text/html": [
       "<div>\n",
       "<style scoped>\n",
       "    .dataframe tbody tr th:only-of-type {\n",
       "        vertical-align: middle;\n",
       "    }\n",
       "\n",
       "    .dataframe tbody tr th {\n",
       "        vertical-align: top;\n",
       "    }\n",
       "\n",
       "    .dataframe thead th {\n",
       "        text-align: right;\n",
       "    }\n",
       "</style>\n",
       "<table border=\"1\" class=\"dataframe\">\n",
       "  <thead>\n",
       "    <tr style=\"text-align: right;\">\n",
       "      <th></th>\n",
       "      <th>node_id</th>\n",
       "      <th>namespace</th>\n",
       "      <th>identifier</th>\n",
       "      <th>name</th>\n",
       "    </tr>\n",
       "  </thead>\n",
       "  <tbody>\n",
       "    <tr>\n",
       "      <th>0</th>\n",
       "      <td>1</td>\n",
       "      <td>pubchem</td>\n",
       "      <td>85</td>\n",
       "      <td>(3-carboxy-2-hydroxypropyl)-trimethylazanium</td>\n",
       "    </tr>\n",
       "    <tr>\n",
       "      <th>1</th>\n",
       "      <td>2</td>\n",
       "      <td>umls</td>\n",
       "      <td>C0000729</td>\n",
       "      <td>Abdominal cramps</td>\n",
       "    </tr>\n",
       "    <tr>\n",
       "      <th>2</th>\n",
       "      <td>3</td>\n",
       "      <td>umls</td>\n",
       "      <td>C0000737</td>\n",
       "      <td>Abdominal pain</td>\n",
       "    </tr>\n",
       "    <tr>\n",
       "      <th>3</th>\n",
       "      <td>4</td>\n",
       "      <td>umls</td>\n",
       "      <td>C0687713</td>\n",
       "      <td>Gastrointestinal pain</td>\n",
       "    </tr>\n",
       "    <tr>\n",
       "      <th>4</th>\n",
       "      <td>5</td>\n",
       "      <td>umls</td>\n",
       "      <td>C0002418</td>\n",
       "      <td>Amblyopia</td>\n",
       "    </tr>\n",
       "  </tbody>\n",
       "</table>\n",
       "</div>"
      ],
      "text/plain": [
       "   node_id namespace identifier                                          name\n",
       "0        1   pubchem         85  (3-carboxy-2-hydroxypropyl)-trimethylazanium\n",
       "1        2      umls   C0000729                              Abdominal cramps\n",
       "2        3      umls   C0000737                                Abdominal pain\n",
       "3        4      umls   C0687713                         Gastrointestinal pain\n",
       "4        5      umls   C0002418                                     Amblyopia"
      ]
     },
     "execution_count": 16,
     "metadata": {},
     "output_type": "execute_result"
    }
   ],
   "source": [
    "node_mapping_df.head()"
   ]
  },
  {
   "cell_type": "code",
   "execution_count": 20,
   "metadata": {},
   "outputs": [],
   "source": [
    "node_mapping_df.to_csv(os.path.join(os.pardir, \"resources\", \"mapping\", \"fullgraph_nodes_mapping.tsv\"), index=False, sep='\\t')"
   ]
  },
  {
   "cell_type": "code",
   "execution_count": 18,
   "metadata": {},
   "outputs": [],
   "source": [
    "fullgraph_id = nx.relabel_nodes(full_graph, relabel_fullgraph)"
   ]
  },
  {
   "cell_type": "code",
   "execution_count": 19,
   "metadata": {},
   "outputs": [],
   "source": [
    "nx.write_edgelist(fullgraph_id, os.path.join(os.pardir, \"resources\", \"basic_graphs\", \"fullgraph_without_sim.edgelist\"), data=False)"
   ]
  },
  {
   "cell_type": "markdown",
   "metadata": {},
   "source": [
    "# Combining the full graph with chemical similarity graph\n",
    "Note: Calculating chemical similarities and creating the graph is done in a different notebook because it needs the RDkit package and environment"
   ]
  },
  {
   "cell_type": "code",
   "execution_count": 44,
   "metadata": {},
   "outputs": [],
   "source": [
    "chem_sim_graph = pybel.from_pickle(os.path.join(os.pardir, \"resources\", \"chemsim_50_graphs\",\"chem_sim_graph_50.pickle\"))"
   ]
  },
  {
   "cell_type": "code",
   "execution_count": 45,
   "metadata": {},
   "outputs": [],
   "source": [
    "fullgraph_with_chemsim = full_graph + chem_sim_graph"
   ]
  },
  {
   "cell_type": "code",
   "execution_count": 46,
   "metadata": {},
   "outputs": [],
   "source": [
    "pybel.to_pickle(fullgraph_with_chemsim, os.path.join(os.pardir, \"resources\", \"chemsim_50_graphs\", \"fullgraph_with_chemsim_50.pickle\"))"
   ]
  },
  {
   "cell_type": "code",
   "execution_count": 47,
   "metadata": {},
   "outputs": [],
   "source": [
    "chem_sim_relabeled = nx.relabel_nodes(chem_sim_graph, relabel_fullgraph)"
   ]
  },
  {
   "cell_type": "code",
   "execution_count": 48,
   "metadata": {},
   "outputs": [],
   "source": [
    "nx.write_edgelist(chem_sim_relabeled, os.path.join(os.pardir, \"resources\", \"chemsim_50_graphs\",\"chem_sim_graph_50.edgelist\"), data=False)"
   ]
  },
  {
   "cell_type": "code",
   "execution_count": 49,
   "metadata": {},
   "outputs": [],
   "source": [
    "fullgraph_with_chemsim_relabeled = fullgraph_id + chem_sim_relabeled"
   ]
  },
  {
   "cell_type": "code",
   "execution_count": 50,
   "metadata": {},
   "outputs": [],
   "source": [
    "nx.write_edgelist(fullgraph_with_chemsim_relabeled, os.path.join(os.pardir, \"resources\",\"chemsim_50_graphs\", \"fullgraph_with_chemsim_50.edgelist\"), data=False)"
   ]
  }
 ],
 "metadata": {
  "kernelspec": {
   "display_name": "Python 3",
   "language": "python",
   "name": "python3"
  },
  "language_info": {
   "codemirror_mode": {
    "name": "ipython",
    "version": 3
   },
   "file_extension": ".py",
   "mimetype": "text/x-python",
   "name": "python",
   "nbconvert_exporter": "python",
   "pygments_lexer": "ipython3",
   "version": "3.6.5"
  }
 },
 "nbformat": 4,
 "nbformat_minor": 2
}
