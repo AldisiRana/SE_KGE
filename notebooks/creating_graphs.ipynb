{
 "cells": [
  {
   "cell_type": "code",
   "execution_count": 1,
   "metadata": {},
   "outputs": [],
   "source": [
    "import networkx as nx\n",
    "import os\n",
    "import pybel\n",
    "from se_kge.graph_preprocessing import get_drugbank_graph, get_sider_graph, combine_pubchem_drugbank"
   ]
  },
  {
   "cell_type": "markdown",
   "metadata": {},
   "source": [
    "# Building SIDER and DrugBank graphs"
   ]
  },
  {
   "cell_type": "code",
   "execution_count": 2,
   "metadata": {},
   "outputs": [
    {
     "name": "stderr",
     "output_type": "stream",
     "text": [
      "side effects: 100%|███████████████████████████████████████████████████████████████████████████████████████████████████████████████████████| 1544740/1544740 [16:11<00:00, 1589.79it/s]\n",
      "indications: 100%|██████████████████████████████████████████████████████████████████████████████████████████████████████████████████████████| 153970/153970 [01:33<00:00, 1655.11it/s]\n"
     ]
    }
   ],
   "source": [
    "sider_graph = get_sider_graph()"
   ]
  },
  {
   "cell_type": "code",
   "execution_count": 3,
   "metadata": {},
   "outputs": [
    {
     "name": "stderr",
     "output_type": "stream",
     "text": [
      "Mapping drug-protein interactions to BEL: 100%|████████████████████████████████████████████████████████████████████████████████████████████████| 45856/45856 [02:38<00:00, 289.52it/s]\n"
     ]
    }
   ],
   "source": [
    "drugbank_graph = get_drugbank_graph()"
   ]
  },
  {
   "cell_type": "markdown",
   "metadata": {},
   "source": [
    "# Combining both graphs into a complete graph"
   ]
  },
  {
   "cell_type": "code",
   "execution_count": 4,
   "metadata": {},
   "outputs": [],
   "source": [
    "drugbank_pubchem_mapping = os.path.join(os.pardir, \"resources\", \"drugbank_pubchem_mapping.tsv\")"
   ]
  },
  {
   "cell_type": "code",
   "execution_count": 5,
   "metadata": {},
   "outputs": [
    {
     "name": "stderr",
     "output_type": "stream",
     "text": [
      "create pubchem-drugbank mapping dictionary: 6194it [00:03, 1852.80it/s]\n"
     ]
    },
    {
     "name": "stdout",
     "output_type": "stream",
     "text": [
      "Number of nodes that were not relabeled 1212\n"
     ]
    },
    {
     "name": "stderr",
     "output_type": "stream",
     "text": [
      "Removing nodes that were not relabeled: 100%|███████████████████████████████████████████████████████████████████████████████████████████████████| 1212/1212 [00:00<00:00, 4073.44it/s]\n"
     ]
    },
    {
     "name": "stdout",
     "output_type": "stream",
     "text": [
      "The number of nodes in the combined graph is 14292\n"
     ]
    }
   ],
   "source": [
    "full_graph = combine_pubchem_drugbank(drugbank_pubchem_mapping, drugbank_graph, sider_graph)"
   ]
  },
  {
   "cell_type": "code",
   "execution_count": 6,
   "metadata": {},
   "outputs": [
    {
     "name": "stdout",
     "output_type": "stream",
     "text": [
      "SIDER graph has a total of 8497 nodes\n",
      "The number of Side Effects nodes is 6990\n",
      "The number of Drugs nodes is 1507\n"
     ]
    }
   ],
   "source": [
    "sider_side_effects = 0\n",
    "sider_drugs = 0\n",
    "for node in sider_graph.nodes():\n",
    "    if node.namespace == 'umls':\n",
    "        sider_side_effects+=1\n",
    "    else:\n",
    "        sider_drugs+=1\n",
    "print('SIDER graph has a total of %d nodes' % len(sider_graph.nodes()))\n",
    "print('The number of Side Effects nodes is %d' % sider_side_effects)\n",
    "print('The number of Drugs nodes is %d' % sider_drugs)"
   ]
  },
  {
   "cell_type": "code",
   "execution_count": 7,
   "metadata": {},
   "outputs": [
    {
     "name": "stdout",
     "output_type": "stream",
     "text": [
      "DrugBank Graph has a total of 7517 nodes\n",
      "The number of Proteins nodes is 2559\n",
      "The number of drugs nodes is 4958\n"
     ]
    }
   ],
   "source": [
    "drugbank_proteins = 0\n",
    "drugbank_drugs = 0\n",
    "for node in drugbank_graph.nodes():\n",
    "    if node.namespace == 'uniprot':\n",
    "        drugbank_proteins+=1\n",
    "    else:\n",
    "        drugbank_drugs+=1\n",
    "print('DrugBank Graph has a total of %d nodes' % len(drugbank_graph.nodes()))\n",
    "print('The number of Proteins nodes is %d' % drugbank_proteins)\n",
    "print('The number of drugs nodes is %d' % drugbank_drugs)"
   ]
  },
  {
   "cell_type": "code",
   "execution_count": 8,
   "metadata": {},
   "outputs": [
    {
     "name": "stdout",
     "output_type": "stream",
     "text": [
      "The combined graph has a total of 14292 nodes\n",
      "The number of Proteins nodes is 2559\n",
      "The number of Side Effects nodes is 6990\n",
      "The number of Drugs nodes is 4743\n"
     ]
    }
   ],
   "source": [
    "proteins = 0\n",
    "side_effects = 0\n",
    "drugs = 0\n",
    "\n",
    "for node in full_graph.nodes():\n",
    "    if node.namespace == 'uniprot':\n",
    "        proteins+=1\n",
    "    elif node.namespace == 'umls':\n",
    "        side_effects+=1\n",
    "    else:\n",
    "        drugs+=1\n",
    "\n",
    "print('The combined graph has a total of %d nodes' % len(full_graph.nodes()))\n",
    "print('The number of Proteins nodes is %d' % proteins)\n",
    "print('The number of Side Effects nodes is %d' % side_effects)\n",
    "print('The number of Drugs nodes is %d' % drugs)"
   ]
  },
  {
   "cell_type": "code",
   "execution_count": 9,
   "metadata": {},
   "outputs": [],
   "source": [
    "nx.write_edgelist(sider_graph, os.path.join(os.pardir, \"resources\", \"sider_graph.edgelist\"))\n",
    "pybel.to_pickle(sider_graph, os.path.join(os.pardir, \"resources\", \"sider_graph.pickle\"))"
   ]
  },
  {
   "cell_type": "code",
   "execution_count": 10,
   "metadata": {},
   "outputs": [],
   "source": [
    "nx.write_edgelist(drugbank_graph, os.path.join(os.pardir, \"resources\", \"drugbank_graph.edgelist\"))\n",
    "pybel.to_pickle(drugbank_graph, os.path.join(os.pardir, \"resources\", \"drugbank_graph.pickle\"))"
   ]
  },
  {
   "cell_type": "code",
   "execution_count": 11,
   "metadata": {},
   "outputs": [],
   "source": [
    "nx.write_edgelist(full_graph, os.path.join(os.pardir, \"resources\", \"fullgraph_without_sim.edgelist\"))\n",
    "pybel.to_pickle(full_graph, os.path.join(os.pardir, \"resources\", \"fullgraph_without_sim.pickle\"))"
   ]
  },
  {
   "cell_type": "markdown",
   "metadata": {},
   "source": [
    "# combining the full graph with chemical similarity graph\n",
    "P.S: Calculating chemical similarities and creating the graph is done in a different notebook because it needs the RDkit package and environment"
   ]
  },
  {
   "cell_type": "code",
   "execution_count": 29,
   "metadata": {},
   "outputs": [],
   "source": [
    "chem_sim_graph = pybel.from_pickle(os.path.join(os.pardir, \"resources\", \"chem_sim_graph.pickle\"))"
   ]
  },
  {
   "cell_type": "code",
   "execution_count": 30,
   "metadata": {},
   "outputs": [
    {
     "data": {
      "text/plain": [
       "1488"
      ]
     },
     "execution_count": 30,
     "metadata": {},
     "output_type": "execute_result"
    }
   ],
   "source": [
    "len(chem_sim_graph.nodes())"
   ]
  },
  {
   "cell_type": "code",
   "execution_count": null,
   "metadata": {},
   "outputs": [],
   "source": []
  }
 ],
 "metadata": {
  "kernelspec": {
   "display_name": "project-env",
   "language": "python",
   "name": "project-env"
  },
  "language_info": {
   "codemirror_mode": {
    "name": "ipython",
    "version": 3
   },
   "file_extension": ".py",
   "mimetype": "text/x-python",
   "name": "python",
   "nbconvert_exporter": "python",
   "pygments_lexer": "ipython3",
   "version": "3.6.5"
  }
 },
 "nbformat": 4,
 "nbformat_minor": 2
}
