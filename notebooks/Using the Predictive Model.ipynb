{
 "cells": [
  {
   "cell_type": "markdown",
   "metadata": {},
   "source": [
    "# Using the Prediction Model\n",
    "\n",
    "## Environment"
   ]
  },
  {
   "cell_type": "code",
   "execution_count": 1,
   "metadata": {},
   "outputs": [],
   "source": [
    "import getpass\n",
    "import json\n",
    "import os\n",
    "import sys\n",
    "import time\n",
    "\n",
    "import pandas as pd\n",
    "\n",
    "from se_kge.constants import (\n",
    "    DEFAULT_EMBEDDINGS_PATH, DEFAULT_GRAPH_PATH,\n",
    "    DEFAULT_MAPPING_PATH, DEFAULT_MODEL_PATH,\n",
    ")"
   ]
  },
  {
   "cell_type": "code",
   "execution_count": 2,
   "metadata": {},
   "outputs": [
    {
     "name": "stdout",
     "output_type": "stream",
     "text": [
      "3.7.3 (default, Mar 27 2019, 09:23:15) \n",
      "[Clang 10.0.1 (clang-1001.0.46.3)]\n"
     ]
    }
   ],
   "source": [
    "print(sys.version)"
   ]
  },
  {
   "cell_type": "code",
   "execution_count": 3,
   "metadata": {},
   "outputs": [
    {
     "name": "stdout",
     "output_type": "stream",
     "text": [
      "Fri Aug  9 16:36:15 2019\n"
     ]
    }
   ],
   "source": [
    "print(time.asctime())"
   ]
  },
  {
   "cell_type": "code",
   "execution_count": 4,
   "metadata": {},
   "outputs": [
    {
     "name": "stdout",
     "output_type": "stream",
     "text": [
      "cthoyt\n"
     ]
    }
   ],
   "source": [
    "print(getpass.getuser())"
   ]
  },
  {
   "cell_type": "markdown",
   "metadata": {},
   "source": [
    "# Loading the Data"
   ]
  },
  {
   "cell_type": "code",
   "execution_count": 5,
   "metadata": {},
   "outputs": [],
   "source": [
    "from se_kge.default_predictor import predictor"
   ]
  },
  {
   "cell_type": "code",
   "execution_count": 6,
   "metadata": {},
   "outputs": [
    {
     "name": "stdout",
     "output_type": "stream",
     "text": [
      "Loaded default predictor using paths:\n",
      "\n",
      "embeddings: /Users/cthoyt/dev/SE_KGE/resources/predictive_model/070819_node2vec_embeddings_complete01.embeddings\n",
      "graph:      /Users/cthoyt/dev/SE_KGE/resources/chemsim_50_graphs/fullgraph_with_chemsim_50.edgelist\n",
      "model:      /Users/cthoyt/dev/SE_KGE/resources/predictive_model/070819_node2vec_model_complete01.pkl\n",
      "mapping:    /Users/cthoyt/dev/SE_KGE/resources/mapping/fullgraph_nodes_mapping.tsv\n",
      "\n"
     ]
    }
   ],
   "source": [
    "print(f\"\"\"Loaded default predictor using paths:\n",
    "\n",
    "embeddings: {DEFAULT_EMBEDDINGS_PATH}\n",
    "graph:      {DEFAULT_GRAPH_PATH}\n",
    "model:      {DEFAULT_MODEL_PATH}\n",
    "mapping:    {DEFAULT_MAPPING_PATH}\n",
    "\"\"\")"
   ]
  },
  {
   "cell_type": "markdown",
   "metadata": {},
   "source": [
    "# Examples of different kinds of predictions with literature evidence"
   ]
  },
  {
   "cell_type": "markdown",
   "metadata": {},
   "source": [
    "## side effect - target association"
   ]
  },
  {
   "cell_type": "code",
   "execution_count": 7,
   "metadata": {},
   "outputs": [
    {
     "name": "stdout",
     "output_type": "stream",
     "text": [
      "{\n",
      "  \"source\": {\n",
      "    \"node_id\": \"8499\",\n",
      "    \"namespace\": \"uniprot\",\n",
      "    \"identifier\": \"P00533\",\n",
      "    \"name\": \"EGFR\"\n",
      "  },\n",
      "  \"target\": {\n",
      "    \"node_id\": \"6791\",\n",
      "    \"namespace\": \"umls\",\n",
      "    \"identifier\": \"C2609319\",\n",
      "    \"name\": \"Papulopustular rash\"\n",
      "  },\n",
      "  \"p\": 0.979,\n",
      "  \"mlp\": 0.009\n",
      "}\n"
     ]
    }
   ],
   "source": [
    "r = predictor.find_new_relation(\n",
    "    source_name='EGFR',\n",
    "    target_name='Papulopustular rash',\n",
    ")\n",
    "print(json.dumps(r, indent=2))\n",
    "#PMID: 18165622"
   ]
  },
  {
   "cell_type": "code",
   "execution_count": 8,
   "metadata": {},
   "outputs": [
    {
     "name": "stdout",
     "output_type": "stream",
     "text": [
      "{\n",
      "  \"source\": {\n",
      "    \"node_id\": \"9438\",\n",
      "    \"namespace\": \"uniprot\",\n",
      "    \"identifier\": \"P35367\",\n",
      "    \"name\": \"HRH1\"\n",
      "  },\n",
      "  \"target\": {\n",
      "    \"node_id\": \"331\",\n",
      "    \"namespace\": \"umls\",\n",
      "    \"identifier\": \"C0013144\",\n",
      "    \"name\": \"Drowsiness\"\n",
      "  },\n",
      "  \"p\": 0.977,\n",
      "  \"mlp\": 0.01\n",
      "}\n"
     ]
    }
   ],
   "source": [
    "r = predictor.find_new_relation(\n",
    "    source_id='9438', # Histamine receptor H1\n",
    "    target_id='331', # Drowsiness\n",
    ")\n",
    "print(json.dumps(r, indent=2))\n",
    "#PMID: 26626077"
   ]
  },
  {
   "cell_type": "markdown",
   "metadata": {},
   "source": [
    "## drug- side effect association"
   ]
  },
  {
   "cell_type": "code",
   "execution_count": 9,
   "metadata": {},
   "outputs": [
    {
     "name": "stdout",
     "output_type": "stream",
     "text": [
      "{\n",
      "  \"source\": {\n",
      "    \"node_id\": \"3534\",\n",
      "    \"namespace\": \"pubchem\",\n",
      "    \"identifier\": \"3016\",\n",
      "    \"name\": \"7-chloro-1-methyl-5-phenyl-3H-1,4-benzodiazepin-2-one\"\n",
      "  },\n",
      "  \"target\": {\n",
      "    \"node_id\": \"670\",\n",
      "    \"namespace\": \"umls\",\n",
      "    \"identifier\": \"C0011124\",\n",
      "    \"name\": \"Libido decreased\"\n",
      "  },\n",
      "  \"p\": 0.003,\n",
      "  \"mlp\": 2.523\n",
      "}\n"
     ]
    }
   ],
   "source": [
    "r = predictor.find_new_relation(\n",
    "    source_id='3534',  # diazepam\n",
    "    target_id='670',  # Libido decreased\n",
    ")\n",
    "print(json.dumps(r, indent=2))\n",
    "#PMID: 29888057"
   ]
  },
  {
   "cell_type": "code",
   "execution_count": 10,
   "metadata": {},
   "outputs": [
    {
     "name": "stdout",
     "output_type": "stream",
     "text": [
      "{\n",
      "  \"source\": {\n",
      "    \"node_id\": \"10270\",\n",
      "    \"namespace\": \"pubchem\",\n",
      "    \"identifier\": \"6253\",\n",
      "    \"name\": \"4-amino-1-[(2R,3S,4S,5R)-3,4-dihydroxy-5-(hydroxymethyl)oxolan-2-yl]pyrimidin-2-one\"\n",
      "  },\n",
      "  \"target\": {\n",
      "    \"node_id\": \"1149\",\n",
      "    \"namespace\": \"umls\",\n",
      "    \"identifier\": \"C0002888\",\n",
      "    \"name\": \"Anaemia megaloblastic\"\n",
      "  },\n",
      "  \"p\": 0.999,\n",
      "  \"mlp\": 0.0\n",
      "}\n"
     ]
    }
   ],
   "source": [
    "r = predictor.find_new_relation(\n",
    "    source_id='10270',  # Cytarabine \n",
    "    target_id='1149',  # Anaemia megaloblastic\n",
    ")\n",
    "print(json.dumps(r, indent=2))\n",
    "# PMID: 23157436"
   ]
  },
  {
   "cell_type": "markdown",
   "metadata": {},
   "source": [
    "## drug-target association"
   ]
  },
  {
   "cell_type": "code",
   "execution_count": 11,
   "metadata": {},
   "outputs": [
    {
     "name": "stdout",
     "output_type": "stream",
     "text": [
      "{\n",
      "  \"source\": {\n",
      "    \"node_id\": \"12765\",\n",
      "    \"namespace\": \"pubchem\",\n",
      "    \"identifier\": \"60149\",\n",
      "    \"name\": \"1-[2-[4-[5-chloro-1-(4-fluorophenyl)indol-3-yl]piperidin-1-yl]ethyl]imidazolidin-2-one\"\n",
      "  },\n",
      "  \"target\": {\n",
      "    \"node_id\": \"9372\",\n",
      "    \"namespace\": \"uniprot\",\n",
      "    \"identifier\": \"P11229\",\n",
      "    \"name\": \"CHRM1\"\n",
      "  },\n",
      "  \"p\": 0.985,\n",
      "  \"mlp\": 0.006\n",
      "}\n"
     ]
    }
   ],
   "source": [
    "r = predictor.find_new_relation(\n",
    "    source_id='12765',  # Sertindole \n",
    "    target_id='9372',   # CHRM1 receptor\n",
    ")\n",
    "print(json.dumps(r, indent=2))\n",
    "# PMID: 29942259 "
   ]
  },
  {
   "cell_type": "markdown",
   "metadata": {},
   "source": [
    "# Example of predicting relations using node2vec model and embeddings"
   ]
  },
  {
   "cell_type": "code",
   "execution_count": 12,
   "metadata": {},
   "outputs": [],
   "source": [
    "def get_phenotype_df(curie):\n",
    "    results = predictor.find_new_relations(\n",
    "        node_curie=curie,\n",
    "        result_type='phenotype',\n",
    "        k=10,\n",
    "    )\n",
    "    results_df = pd.DataFrame(results['predictions'])\n",
    "    results_df = results_df[['node_id', 'namespace', 'identifier', 'name', 'p', 'mlp']]\n",
    "    return results['query'], results_df"
   ]
  },
  {
   "cell_type": "code",
   "execution_count": 13,
   "metadata": {},
   "outputs": [
    {
     "name": "stdout",
     "output_type": "stream",
     "text": [
      "{\n",
      "  \"entity\": {\n",
      "    \"node_id\": \"9310\",\n",
      "    \"namespace\": \"pubchem\",\n",
      "    \"identifier\": \"145742\",\n",
      "    \"name\": \"(2S)-pyrrolidine-2-carboxylic acid\"\n",
      "  },\n",
      "  \"k\": 10,\n",
      "  \"type\": \"phenotype\"\n",
      "}\n"
     ]
    },
    {
     "data": {
      "text/html": [
       "<div>\n",
       "<style scoped>\n",
       "    .dataframe tbody tr th:only-of-type {\n",
       "        vertical-align: middle;\n",
       "    }\n",
       "\n",
       "    .dataframe tbody tr th {\n",
       "        vertical-align: top;\n",
       "    }\n",
       "\n",
       "    .dataframe thead th {\n",
       "        text-align: right;\n",
       "    }\n",
       "</style>\n",
       "<table border=\"1\" class=\"dataframe\">\n",
       "  <thead>\n",
       "    <tr style=\"text-align: right;\">\n",
       "      <th></th>\n",
       "      <th>node_id</th>\n",
       "      <th>namespace</th>\n",
       "      <th>identifier</th>\n",
       "      <th>name</th>\n",
       "      <th>p</th>\n",
       "      <th>mlp</th>\n",
       "    </tr>\n",
       "  </thead>\n",
       "  <tbody>\n",
       "    <tr>\n",
       "      <th>0</th>\n",
       "      <td>4479</td>\n",
       "      <td>umls</td>\n",
       "      <td>C0302859</td>\n",
       "      <td>Euthyroid goiter</td>\n",
       "      <td>0.930</td>\n",
       "      <td>0.031</td>\n",
       "    </tr>\n",
       "    <tr>\n",
       "      <th>1</th>\n",
       "      <td>7586</td>\n",
       "      <td>umls</td>\n",
       "      <td>C0024473</td>\n",
       "      <td>Magnesium deficiency</td>\n",
       "      <td>0.936</td>\n",
       "      <td>0.029</td>\n",
       "    </tr>\n",
       "    <tr>\n",
       "      <th>2</th>\n",
       "      <td>7587</td>\n",
       "      <td>umls</td>\n",
       "      <td>C0040524</td>\n",
       "      <td>Toxemia</td>\n",
       "      <td>0.939</td>\n",
       "      <td>0.027</td>\n",
       "    </tr>\n",
       "    <tr>\n",
       "      <th>3</th>\n",
       "      <td>606</td>\n",
       "      <td>umls</td>\n",
       "      <td>C0429098</td>\n",
       "      <td>Electrocardiogram QRS complex</td>\n",
       "      <td>0.941</td>\n",
       "      <td>0.026</td>\n",
       "    </tr>\n",
       "    <tr>\n",
       "      <th>4</th>\n",
       "      <td>7614</td>\n",
       "      <td>umls</td>\n",
       "      <td>C0149875</td>\n",
       "      <td>Primary dysmenorrhea</td>\n",
       "      <td>0.942</td>\n",
       "      <td>0.026</td>\n",
       "    </tr>\n",
       "    <tr>\n",
       "      <th>5</th>\n",
       "      <td>6303</td>\n",
       "      <td>umls</td>\n",
       "      <td>C0233718</td>\n",
       "      <td>Pressure of speech</td>\n",
       "      <td>0.942</td>\n",
       "      <td>0.026</td>\n",
       "    </tr>\n",
       "    <tr>\n",
       "      <th>6</th>\n",
       "      <td>1373</td>\n",
       "      <td>umls</td>\n",
       "      <td>C0220983</td>\n",
       "      <td>Metabolic alkalosis</td>\n",
       "      <td>0.943</td>\n",
       "      <td>0.025</td>\n",
       "    </tr>\n",
       "    <tr>\n",
       "      <th>7</th>\n",
       "      <td>4339</td>\n",
       "      <td>umls</td>\n",
       "      <td>C0424332</td>\n",
       "      <td>Breath holding attack</td>\n",
       "      <td>0.943</td>\n",
       "      <td>0.026</td>\n",
       "    </tr>\n",
       "    <tr>\n",
       "      <th>8</th>\n",
       "      <td>7562</td>\n",
       "      <td>umls</td>\n",
       "      <td>C0079584</td>\n",
       "      <td>Ichthyosis vulgaris</td>\n",
       "      <td>0.944</td>\n",
       "      <td>0.025</td>\n",
       "    </tr>\n",
       "    <tr>\n",
       "      <th>9</th>\n",
       "      <td>6040</td>\n",
       "      <td>umls</td>\n",
       "      <td>C0235575</td>\n",
       "      <td>Hemolytic reaction</td>\n",
       "      <td>0.944</td>\n",
       "      <td>0.025</td>\n",
       "    </tr>\n",
       "  </tbody>\n",
       "</table>\n",
       "</div>"
      ],
      "text/latex": [
       "\\begin{center}{\\begin{tabular}{lllllrr}\n",
       "\\toprule\n",
       "{} & node\\_id & namespace & identifier &                           name &      p &    mlp \\\\\n",
       "\\midrule\n",
       "0 &    4479 &      umls &   C0302859 &               Euthyroid goiter &  0.930 &  0.031 \\\\\n",
       "1 &    7586 &      umls &   C0024473 &           Magnesium deficiency &  0.936 &  0.029 \\\\\n",
       "2 &    7587 &      umls &   C0040524 &                        Toxemia &  0.939 &  0.027 \\\\\n",
       "3 &     606 &      umls &   C0429098 &  Electrocardiogram QRS complex &  0.941 &  0.026 \\\\\n",
       "4 &    7614 &      umls &   C0149875 &           Primary dysmenorrhea &  0.942 &  0.026 \\\\\n",
       "5 &    6303 &      umls &   C0233718 &             Pressure of speech &  0.942 &  0.026 \\\\\n",
       "6 &    1373 &      umls &   C0220983 &            Metabolic alkalosis &  0.943 &  0.025 \\\\\n",
       "7 &    4339 &      umls &   C0424332 &          Breath holding attack &  0.943 &  0.026 \\\\\n",
       "8 &    7562 &      umls &   C0079584 &            Ichthyosis vulgaris &  0.944 &  0.025 \\\\\n",
       "9 &    6040 &      umls &   C0235575 &             Hemolytic reaction &  0.944 &  0.025 \\\\\n",
       "\\bottomrule\n",
       "\\end{tabular}\n",
       "}\\end{center}"
      ],
      "text/plain": [
       "  node_id namespace identifier                           name      p    mlp\n",
       "0    4479      umls   C0302859               Euthyroid goiter  0.930  0.031\n",
       "1    7586      umls   C0024473           Magnesium deficiency  0.936  0.029\n",
       "2    7587      umls   C0040524                        Toxemia  0.939  0.027\n",
       "3     606      umls   C0429098  Electrocardiogram QRS complex  0.941  0.026\n",
       "4    7614      umls   C0149875           Primary dysmenorrhea  0.942  0.026\n",
       "5    6303      umls   C0233718             Pressure of speech  0.942  0.026\n",
       "6    1373      umls   C0220983            Metabolic alkalosis  0.943  0.025\n",
       "7    4339      umls   C0424332          Breath holding attack  0.943  0.026\n",
       "8    7562      umls   C0079584            Ichthyosis vulgaris  0.944  0.025\n",
       "9    6040      umls   C0235575             Hemolytic reaction  0.944  0.025"
      ]
     },
     "execution_count": 13,
     "metadata": {},
     "output_type": "execute_result"
    }
   ],
   "source": [
    "query, df = get_phenotype_df('pubchem:145742')\n",
    "print(json.dumps(query, indent=2))\n",
    "df"
   ]
  },
  {
   "cell_type": "code",
   "execution_count": 14,
   "metadata": {},
   "outputs": [
    {
     "name": "stdout",
     "output_type": "stream",
     "text": [
      "{\n",
      "  \"entity\": {\n",
      "    \"node_id\": \"1887\",\n",
      "    \"namespace\": \"pubchem\",\n",
      "    \"identifier\": \"1983\",\n",
      "    \"name\": \"N-(4-hydroxyphenyl)acetamide\"\n",
      "  },\n",
      "  \"k\": 10,\n",
      "  \"type\": \"phenotype\"\n",
      "}\n"
     ]
    },
    {
     "data": {
      "text/html": [
       "<div>\n",
       "<style scoped>\n",
       "    .dataframe tbody tr th:only-of-type {\n",
       "        vertical-align: middle;\n",
       "    }\n",
       "\n",
       "    .dataframe tbody tr th {\n",
       "        vertical-align: top;\n",
       "    }\n",
       "\n",
       "    .dataframe thead th {\n",
       "        text-align: right;\n",
       "    }\n",
       "</style>\n",
       "<table border=\"1\" class=\"dataframe\">\n",
       "  <thead>\n",
       "    <tr style=\"text-align: right;\">\n",
       "      <th></th>\n",
       "      <th>node_id</th>\n",
       "      <th>namespace</th>\n",
       "      <th>identifier</th>\n",
       "      <th>name</th>\n",
       "      <th>p</th>\n",
       "      <th>mlp</th>\n",
       "    </tr>\n",
       "  </thead>\n",
       "  <tbody>\n",
       "    <tr>\n",
       "      <th>0</th>\n",
       "      <td>649</td>\n",
       "      <td>umls</td>\n",
       "      <td>C0004134</td>\n",
       "      <td>Ataxia</td>\n",
       "      <td>0.005</td>\n",
       "      <td>2.266</td>\n",
       "    </tr>\n",
       "    <tr>\n",
       "      <th>1</th>\n",
       "      <td>23</td>\n",
       "      <td>umls</td>\n",
       "      <td>C0013378</td>\n",
       "      <td>Dysgeusia</td>\n",
       "      <td>0.007</td>\n",
       "      <td>2.142</td>\n",
       "    </tr>\n",
       "    <tr>\n",
       "      <th>2</th>\n",
       "      <td>99</td>\n",
       "      <td>umls</td>\n",
       "      <td>C0020580</td>\n",
       "      <td>Hypoaesthesia</td>\n",
       "      <td>0.008</td>\n",
       "      <td>2.074</td>\n",
       "    </tr>\n",
       "    <tr>\n",
       "      <th>3</th>\n",
       "      <td>10</td>\n",
       "      <td>umls</td>\n",
       "      <td>C0003811</td>\n",
       "      <td>Arrhythmia</td>\n",
       "      <td>0.010</td>\n",
       "      <td>1.990</td>\n",
       "    </tr>\n",
       "    <tr>\n",
       "      <th>4</th>\n",
       "      <td>49</td>\n",
       "      <td>umls</td>\n",
       "      <td>C0030554</td>\n",
       "      <td>Paraesthesia</td>\n",
       "      <td>0.010</td>\n",
       "      <td>1.989</td>\n",
       "    </tr>\n",
       "    <tr>\n",
       "      <th>5</th>\n",
       "      <td>342</td>\n",
       "      <td>umls</td>\n",
       "      <td>C0040264</td>\n",
       "      <td>Tinnitus</td>\n",
       "      <td>0.011</td>\n",
       "      <td>1.960</td>\n",
       "    </tr>\n",
       "    <tr>\n",
       "      <th>6</th>\n",
       "      <td>180</td>\n",
       "      <td>umls</td>\n",
       "      <td>C0041657</td>\n",
       "      <td>Loss of consciousness</td>\n",
       "      <td>0.013</td>\n",
       "      <td>1.897</td>\n",
       "    </tr>\n",
       "    <tr>\n",
       "      <th>7</th>\n",
       "      <td>59</td>\n",
       "      <td>umls</td>\n",
       "      <td>C0042571</td>\n",
       "      <td>Vertigo</td>\n",
       "      <td>0.014</td>\n",
       "      <td>1.845</td>\n",
       "    </tr>\n",
       "    <tr>\n",
       "      <th>8</th>\n",
       "      <td>893</td>\n",
       "      <td>umls</td>\n",
       "      <td>C0542571</td>\n",
       "      <td>Face oedema</td>\n",
       "      <td>0.014</td>\n",
       "      <td>1.854</td>\n",
       "    </tr>\n",
       "    <tr>\n",
       "      <th>9</th>\n",
       "      <td>167</td>\n",
       "      <td>umls</td>\n",
       "      <td>C0038362</td>\n",
       "      <td>Stomatitis</td>\n",
       "      <td>0.018</td>\n",
       "      <td>1.745</td>\n",
       "    </tr>\n",
       "  </tbody>\n",
       "</table>\n",
       "</div>"
      ],
      "text/latex": [
       "\\begin{center}{\\begin{tabular}{lllllrr}\n",
       "\\toprule\n",
       "{} & node\\_id & namespace & identifier &                   name &      p &    mlp \\\\\n",
       "\\midrule\n",
       "0 &     649 &      umls &   C0004134 &                 Ataxia &  0.005 &  2.266 \\\\\n",
       "1 &      23 &      umls &   C0013378 &              Dysgeusia &  0.007 &  2.142 \\\\\n",
       "2 &      99 &      umls &   C0020580 &          Hypoaesthesia &  0.008 &  2.074 \\\\\n",
       "3 &      10 &      umls &   C0003811 &             Arrhythmia &  0.010 &  1.990 \\\\\n",
       "4 &      49 &      umls &   C0030554 &           Paraesthesia &  0.010 &  1.989 \\\\\n",
       "5 &     342 &      umls &   C0040264 &               Tinnitus &  0.011 &  1.960 \\\\\n",
       "6 &     180 &      umls &   C0041657 &  Loss of consciousness &  0.013 &  1.897 \\\\\n",
       "7 &      59 &      umls &   C0042571 &                Vertigo &  0.014 &  1.845 \\\\\n",
       "8 &     893 &      umls &   C0542571 &            Face oedema &  0.014 &  1.854 \\\\\n",
       "9 &     167 &      umls &   C0038362 &             Stomatitis &  0.018 &  1.745 \\\\\n",
       "\\bottomrule\n",
       "\\end{tabular}\n",
       "}\\end{center}"
      ],
      "text/plain": [
       "  node_id namespace identifier                   name      p    mlp\n",
       "0     649      umls   C0004134                 Ataxia  0.005  2.266\n",
       "1      23      umls   C0013378              Dysgeusia  0.007  2.142\n",
       "2      99      umls   C0020580          Hypoaesthesia  0.008  2.074\n",
       "3      10      umls   C0003811             Arrhythmia  0.010  1.990\n",
       "4      49      umls   C0030554           Paraesthesia  0.010  1.989\n",
       "5     342      umls   C0040264               Tinnitus  0.011  1.960\n",
       "6     180      umls   C0041657  Loss of consciousness  0.013  1.897\n",
       "7      59      umls   C0042571                Vertigo  0.014  1.845\n",
       "8     893      umls   C0542571            Face oedema  0.014  1.854\n",
       "9     167      umls   C0038362             Stomatitis  0.018  1.745"
      ]
     },
     "execution_count": 14,
     "metadata": {},
     "output_type": "execute_result"
    }
   ],
   "source": [
    "query, df = get_phenotype_df('pubchem:1983')\n",
    "print(json.dumps(query, indent=2))\n",
    "df"
   ]
  }
 ],
 "metadata": {
  "kernelspec": {
   "display_name": "Python 3",
   "language": "python",
   "name": "python3"
  },
  "language_info": {
   "codemirror_mode": {
    "name": "ipython",
    "version": 3
   },
   "file_extension": ".py",
   "mimetype": "text/x-python",
   "name": "python",
   "nbconvert_exporter": "python",
   "pygments_lexer": "ipython3",
   "version": "3.7.3"
  }
 },
 "nbformat": 4,
 "nbformat_minor": 2
}
