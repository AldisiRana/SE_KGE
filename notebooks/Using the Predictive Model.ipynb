{
 "cells": [
  {
   "cell_type": "markdown",
   "metadata": {},
   "source": [
    "# Using the Prediction Model\n",
    "\n",
    "## Environment"
   ]
  },
  {
   "cell_type": "code",
   "execution_count": 1,
   "metadata": {},
   "outputs": [],
   "source": [
    "import getpass\n",
    "import json\n",
    "import os\n",
    "import sys\n",
    "import time\n",
    "\n",
    "import pandas as pd\n",
    "\n",
    "from se_kge.constants import (\n",
    "    DEFAULT_EMBEDDINGS_PATH, DEFAULT_GRAPH_PATH,\n",
    "    DEFAULT_MAPPING_PATH, DEFAULT_MODEL_PATH,\n",
    ")"
   ]
  },
  {
   "cell_type": "code",
   "execution_count": 2,
   "metadata": {},
   "outputs": [
    {
     "name": "stdout",
     "output_type": "stream",
     "text": [
      "3.7.3 (default, Apr 24 2019, 15:29:51) [MSC v.1915 64 bit (AMD64)]\n"
     ]
    }
   ],
   "source": [
    "print(sys.version)"
   ]
  },
  {
   "cell_type": "code",
   "execution_count": 3,
   "metadata": {},
   "outputs": [
    {
     "name": "stdout",
     "output_type": "stream",
     "text": [
      "Thu Aug 15 12:03:23 2019\n"
     ]
    }
   ],
   "source": [
    "print(time.asctime())"
   ]
  },
  {
   "cell_type": "code",
   "execution_count": 4,
   "metadata": {},
   "outputs": [
    {
     "name": "stdout",
     "output_type": "stream",
     "text": [
      "RanaAldisi\n"
     ]
    }
   ],
   "source": [
    "print(getpass.getuser())"
   ]
  },
  {
   "cell_type": "markdown",
   "metadata": {},
   "source": [
    "# Loading the Data"
   ]
  },
  {
   "cell_type": "code",
   "execution_count": 5,
   "metadata": {},
   "outputs": [],
   "source": [
    "from se_kge.default_predictor import predictor"
   ]
  },
  {
   "cell_type": "code",
   "execution_count": 6,
   "metadata": {},
   "outputs": [
    {
     "name": "stdout",
     "output_type": "stream",
     "text": [
      "Loaded default predictor using paths:\n",
      "\n",
      "embeddings: c:\\users\\rana aldisi\\documents\\github\\se_kge\\resources\\predictive_model\\070819_node2vec_embeddings_complete01.embeddings\n",
      "graph:      c:\\users\\rana aldisi\\documents\\github\\se_kge\\resources\\chemsim_50_graphs\\fullgraph_with_chemsim_50.edgelist\n",
      "model:      c:\\users\\rana aldisi\\documents\\github\\se_kge\\resources\\predictive_model\\070819_node2vec_model_complete01.pkl\n",
      "mapping:    c:\\users\\rana aldisi\\documents\\github\\se_kge\\resources\\mapping\\fullgraph_nodes_mapping.tsv\n",
      "\n"
     ]
    }
   ],
   "source": [
    "print(f\"\"\"Loaded default predictor using paths:\n",
    "\n",
    "embeddings: {DEFAULT_EMBEDDINGS_PATH}\n",
    "graph:      {DEFAULT_GRAPH_PATH}\n",
    "model:      {DEFAULT_MODEL_PATH}\n",
    "mapping:    {DEFAULT_MAPPING_PATH}\n",
    "\"\"\")"
   ]
  },
  {
   "cell_type": "markdown",
   "metadata": {},
   "source": [
    "# Examples of different kinds of predictions with literature evidence"
   ]
  },
  {
   "cell_type": "markdown",
   "metadata": {},
   "source": [
    "## side effect - target association"
   ]
  },
  {
   "cell_type": "code",
   "execution_count": 14,
   "metadata": {},
   "outputs": [
    {
     "name": "stdout",
     "output_type": "stream",
     "text": [
      "{\n",
      "  \"source\": {\n",
      "    \"node_id\": \"9635\",\n",
      "    \"namespace\": \"uniprot\",\n",
      "    \"identifier\": \"P00533\",\n",
      "    \"name\": \"EGFR_HUMAN\"\n",
      "  },\n",
      "  \"target\": {\n",
      "    \"node_id\": \"6791\",\n",
      "    \"namespace\": \"umls\",\n",
      "    \"identifier\": \"C2609319\",\n",
      "    \"name\": \"Papulopustular rash\"\n",
      "  },\n",
      "  \"p\": 0.981,\n",
      "  \"mlp\": 0.008\n",
      "}\n"
     ]
    }
   ],
   "source": [
    "r = predictor.find_new_relation(\n",
    "    source_name='EGFR_HUMAN',\n",
    "    target_name='Papulopustular rash',\n",
    ")\n",
    "print(json.dumps(r, indent=2))\n",
    "#PMID: 18165622"
   ]
  },
  {
   "cell_type": "code",
   "execution_count": 15,
   "metadata": {},
   "outputs": [
    {
     "name": "stdout",
     "output_type": "stream",
     "text": [
      "{\n",
      "  \"source\": {\n",
      "    \"node_id\": \"9438\",\n",
      "    \"namespace\": \"uniprot\",\n",
      "    \"identifier\": \"P51160\",\n",
      "    \"name\": \"PDE6C_HUMAN\"\n",
      "  },\n",
      "  \"target\": {\n",
      "    \"node_id\": \"331\",\n",
      "    \"namespace\": \"umls\",\n",
      "    \"identifier\": \"C0013144\",\n",
      "    \"name\": \"Drowsiness\"\n",
      "  },\n",
      "  \"p\": 0.977,\n",
      "  \"mlp\": 0.01\n",
      "}\n"
     ]
    }
   ],
   "source": [
    "r = predictor.find_new_relation(\n",
    "    source_id='9438', # Histamine receptor H1\n",
    "    target_id='331', # Drowsiness\n",
    ")\n",
    "print(json.dumps(r, indent=2))\n",
    "#PMID: 26626077"
   ]
  },
  {
   "cell_type": "markdown",
   "metadata": {},
   "source": [
    "## drug- side effect association"
   ]
  },
  {
   "cell_type": "code",
   "execution_count": 16,
   "metadata": {},
   "outputs": [
    {
     "name": "stdout",
     "output_type": "stream",
     "text": [
      "{\n",
      "  \"source\": {\n",
      "    \"node_id\": \"3534\",\n",
      "    \"namespace\": \"pubchem.compound\",\n",
      "    \"identifier\": \"3016\",\n",
      "    \"name\": \"Diazepam\"\n",
      "  },\n",
      "  \"target\": {\n",
      "    \"node_id\": \"670\",\n",
      "    \"namespace\": \"umls\",\n",
      "    \"identifier\": \"C0011124\",\n",
      "    \"name\": \"Libido decreased\"\n",
      "  },\n",
      "  \"p\": 0.003,\n",
      "  \"mlp\": 2.523\n",
      "}\n"
     ]
    }
   ],
   "source": [
    "r = predictor.find_new_relation(\n",
    "    source_id='3534',  # diazepam\n",
    "    target_id='670',  # Libido decreased\n",
    ")\n",
    "print(json.dumps(r, indent=2))\n",
    "#PMID: 29888057"
   ]
  },
  {
   "cell_type": "code",
   "execution_count": 17,
   "metadata": {},
   "outputs": [
    {
     "name": "stdout",
     "output_type": "stream",
     "text": [
      "{\n",
      "  \"source\": {\n",
      "    \"node_id\": \"10270\",\n",
      "    \"namespace\": \"uniprot\",\n",
      "    \"identifier\": \"Q9NY56\",\n",
      "    \"name\": \"OBP2A_HUMAN\"\n",
      "  },\n",
      "  \"target\": {\n",
      "    \"node_id\": \"1149\",\n",
      "    \"namespace\": \"umls\",\n",
      "    \"identifier\": \"C0002888\",\n",
      "    \"name\": \"Anaemia megaloblastic\"\n",
      "  },\n",
      "  \"p\": 0.999,\n",
      "  \"mlp\": 0.0\n",
      "}\n"
     ]
    }
   ],
   "source": [
    "r = predictor.find_new_relation(\n",
    "    source_id='10270',  # Cytarabine \n",
    "    target_id='1149',  # Anaemia megaloblastic\n",
    ")\n",
    "print(json.dumps(r, indent=2))\n",
    "# PMID: 23157436"
   ]
  },
  {
   "cell_type": "markdown",
   "metadata": {},
   "source": [
    "## drug-target association"
   ]
  },
  {
   "cell_type": "code",
   "execution_count": 18,
   "metadata": {},
   "outputs": [
    {
     "name": "stdout",
     "output_type": "stream",
     "text": [
      "{\n",
      "  \"source\": {\n",
      "    \"node_id\": \"12765\",\n",
      "    \"namespace\": \"pubchem.compound\",\n",
      "    \"identifier\": \"131704218\",\n",
      "    \"name\": \"2-Amino-3-Oxo-4-Sulfo-Butyric Acid\"\n",
      "  },\n",
      "  \"target\": {\n",
      "    \"node_id\": \"9372\",\n",
      "    \"namespace\": \"uniprot\",\n",
      "    \"identifier\": \"P48169\",\n",
      "    \"name\": \"GBRA4_HUMAN\"\n",
      "  },\n",
      "  \"p\": 0.985,\n",
      "  \"mlp\": 0.006\n",
      "}\n"
     ]
    }
   ],
   "source": [
    "r = predictor.find_new_relation(\n",
    "    source_id='12765',  # Sertindole \n",
    "    target_id='9372',   # CHRM1 receptor\n",
    ")\n",
    "print(json.dumps(r, indent=2))\n",
    "# PMID: 29942259 "
   ]
  },
  {
   "cell_type": "markdown",
   "metadata": {},
   "source": [
    "# Example of predicting relations using node2vec model and embeddings"
   ]
  },
  {
   "cell_type": "code",
   "execution_count": 9,
   "metadata": {},
   "outputs": [],
   "source": [
    "def get_phenotype_df(curie):\n",
    "    results = predictor.find_new_relations(\n",
    "        node_curie=curie,\n",
    "        results_type='phenotype',\n",
    "        k=10,\n",
    "    )\n",
    "    results_df = pd.DataFrame(results['predictions'])\n",
    "    results_df = results_df[['node_id', 'namespace', 'identifier', 'name', 'p', 'mlp']]\n",
    "    return results['query'], results_df"
   ]
  },
  {
   "cell_type": "code",
   "execution_count": 11,
   "metadata": {},
   "outputs": [
    {
     "name": "stdout",
     "output_type": "stream",
     "text": [
      "{\n",
      "  \"entity\": {\n",
      "    \"node_id\": \"9294\",\n",
      "    \"namespace\": \"pubchem.compound\",\n",
      "    \"identifier\": \"145742\",\n",
      "    \"name\": \"Proline\"\n",
      "  },\n",
      "  \"k\": 10,\n",
      "  \"type\": \"chemical\"\n",
      "}\n"
     ]
    },
    {
     "data": {
      "text/html": [
       "<div>\n",
       "<style scoped>\n",
       "    .dataframe tbody tr th:only-of-type {\n",
       "        vertical-align: middle;\n",
       "    }\n",
       "\n",
       "    .dataframe tbody tr th {\n",
       "        vertical-align: top;\n",
       "    }\n",
       "\n",
       "    .dataframe thead th {\n",
       "        text-align: right;\n",
       "    }\n",
       "</style>\n",
       "<table border=\"1\" class=\"dataframe\">\n",
       "  <thead>\n",
       "    <tr style=\"text-align: right;\">\n",
       "      <th></th>\n",
       "      <th>node_id</th>\n",
       "      <th>namespace</th>\n",
       "      <th>identifier</th>\n",
       "      <th>name</th>\n",
       "      <th>p</th>\n",
       "      <th>mlp</th>\n",
       "    </tr>\n",
       "  </thead>\n",
       "  <tbody>\n",
       "    <tr>\n",
       "      <th>0</th>\n",
       "      <td>3042</td>\n",
       "      <td>pubchem.compound</td>\n",
       "      <td>2771</td>\n",
       "      <td>Citalopram</td>\n",
       "      <td>0.010</td>\n",
       "      <td>1.986</td>\n",
       "    </tr>\n",
       "    <tr>\n",
       "      <th>1</th>\n",
       "      <td>3272</td>\n",
       "      <td>pubchem.compound</td>\n",
       "      <td>2801</td>\n",
       "      <td>Clomipramine</td>\n",
       "      <td>0.017</td>\n",
       "      <td>1.759</td>\n",
       "    </tr>\n",
       "    <tr>\n",
       "      <th>2</th>\n",
       "      <td>5346</td>\n",
       "      <td>pubchem.compound</td>\n",
       "      <td>5095</td>\n",
       "      <td>Ropinirole</td>\n",
       "      <td>0.031</td>\n",
       "      <td>1.503</td>\n",
       "    </tr>\n",
       "    <tr>\n",
       "      <th>3</th>\n",
       "      <td>5191</td>\n",
       "      <td>pubchem.compound</td>\n",
       "      <td>4917</td>\n",
       "      <td>Prochlorperazine</td>\n",
       "      <td>0.031</td>\n",
       "      <td>1.509</td>\n",
       "    </tr>\n",
       "    <tr>\n",
       "      <th>4</th>\n",
       "      <td>4712</td>\n",
       "      <td>pubchem.compound</td>\n",
       "      <td>4205</td>\n",
       "      <td>Mirtazapine</td>\n",
       "      <td>0.038</td>\n",
       "      <td>1.420</td>\n",
       "    </tr>\n",
       "    <tr>\n",
       "      <th>5</th>\n",
       "      <td>4915</td>\n",
       "      <td>pubchem.compound</td>\n",
       "      <td>4585</td>\n",
       "      <td>Olanzapine</td>\n",
       "      <td>0.041</td>\n",
       "      <td>1.391</td>\n",
       "    </tr>\n",
       "    <tr>\n",
       "      <th>6</th>\n",
       "      <td>4514</td>\n",
       "      <td>pubchem.compound</td>\n",
       "      <td>4034</td>\n",
       "      <td>Meclizine</td>\n",
       "      <td>0.042</td>\n",
       "      <td>1.377</td>\n",
       "    </tr>\n",
       "    <tr>\n",
       "      <th>7</th>\n",
       "      <td>7235</td>\n",
       "      <td>pubchem.compound</td>\n",
       "      <td>9966051</td>\n",
       "      <td>VORTIOXETINE</td>\n",
       "      <td>0.047</td>\n",
       "      <td>1.327</td>\n",
       "    </tr>\n",
       "    <tr>\n",
       "      <th>8</th>\n",
       "      <td>3359</td>\n",
       "      <td>pubchem.compound</td>\n",
       "      <td>2818</td>\n",
       "      <td>Clozapine</td>\n",
       "      <td>0.048</td>\n",
       "      <td>1.315</td>\n",
       "    </tr>\n",
       "    <tr>\n",
       "      <th>9</th>\n",
       "      <td>4137</td>\n",
       "      <td>pubchem.compound</td>\n",
       "      <td>3559</td>\n",
       "      <td>Haloperidol</td>\n",
       "      <td>0.049</td>\n",
       "      <td>1.312</td>\n",
       "    </tr>\n",
       "  </tbody>\n",
       "</table>\n",
       "</div>"
      ],
      "text/plain": [
       "  node_id         namespace identifier              name      p    mlp\n",
       "0    3042  pubchem.compound       2771        Citalopram  0.010  1.986\n",
       "1    3272  pubchem.compound       2801      Clomipramine  0.017  1.759\n",
       "2    5346  pubchem.compound       5095        Ropinirole  0.031  1.503\n",
       "3    5191  pubchem.compound       4917  Prochlorperazine  0.031  1.509\n",
       "4    4712  pubchem.compound       4205       Mirtazapine  0.038  1.420\n",
       "5    4915  pubchem.compound       4585        Olanzapine  0.041  1.391\n",
       "6    4514  pubchem.compound       4034         Meclizine  0.042  1.377\n",
       "7    7235  pubchem.compound    9966051      VORTIOXETINE  0.047  1.327\n",
       "8    3359  pubchem.compound       2818         Clozapine  0.048  1.315\n",
       "9    4137  pubchem.compound       3559       Haloperidol  0.049  1.312"
      ]
     },
     "execution_count": 11,
     "metadata": {},
     "output_type": "execute_result"
    }
   ],
   "source": [
    "query, df = get_phenotype_df('pubchem.compound:145742')\n",
    "print(json.dumps(query, indent=2))\n",
    "df"
   ]
  },
  {
   "cell_type": "code",
   "execution_count": 12,
   "metadata": {},
   "outputs": [
    {
     "name": "stdout",
     "output_type": "stream",
     "text": [
      "{\n",
      "  \"entity\": {\n",
      "    \"node_id\": \"1887\",\n",
      "    \"namespace\": \"pubchem.compound\",\n",
      "    \"identifier\": \"1983\",\n",
      "    \"name\": \"Acetaminophen\"\n",
      "  },\n",
      "  \"k\": 10,\n",
      "  \"type\": \"chemical\"\n",
      "}\n"
     ]
    },
    {
     "data": {
      "text/html": [
       "<div>\n",
       "<style scoped>\n",
       "    .dataframe tbody tr th:only-of-type {\n",
       "        vertical-align: middle;\n",
       "    }\n",
       "\n",
       "    .dataframe tbody tr th {\n",
       "        vertical-align: top;\n",
       "    }\n",
       "\n",
       "    .dataframe thead th {\n",
       "        text-align: right;\n",
       "    }\n",
       "</style>\n",
       "<table border=\"1\" class=\"dataframe\">\n",
       "  <thead>\n",
       "    <tr style=\"text-align: right;\">\n",
       "      <th></th>\n",
       "      <th>node_id</th>\n",
       "      <th>namespace</th>\n",
       "      <th>identifier</th>\n",
       "      <th>name</th>\n",
       "      <th>p</th>\n",
       "      <th>mlp</th>\n",
       "    </tr>\n",
       "  </thead>\n",
       "  <tbody>\n",
       "    <tr>\n",
       "      <th>0</th>\n",
       "      <td>12602</td>\n",
       "      <td>pubchem.compound</td>\n",
       "      <td>447701</td>\n",
       "      <td>N-Alpha-Acetyl-3,5-Diiodotyrosylglycine</td>\n",
       "      <td>0.003</td>\n",
       "      <td>2.535</td>\n",
       "    </tr>\n",
       "    <tr>\n",
       "      <th>1</th>\n",
       "      <td>11824</td>\n",
       "      <td>pubchem.compound</td>\n",
       "      <td>448006</td>\n",
       "      <td>2-(1,1'-Biphenyl-4-Yl)Propanoic Acid</td>\n",
       "      <td>0.003</td>\n",
       "      <td>2.508</td>\n",
       "    </tr>\n",
       "    <tr>\n",
       "      <th>2</th>\n",
       "      <td>9863</td>\n",
       "      <td>pubchem.compound</td>\n",
       "      <td>636405</td>\n",
       "      <td>Cefpiramide</td>\n",
       "      <td>0.004</td>\n",
       "      <td>2.382</td>\n",
       "    </tr>\n",
       "    <tr>\n",
       "      <th>3</th>\n",
       "      <td>13015</td>\n",
       "      <td>pubchem.compound</td>\n",
       "      <td>9543429</td>\n",
       "      <td>Ndelta-(N'-Sulphodiaminophosphinyl)-L-Ornithine</td>\n",
       "      <td>0.004</td>\n",
       "      <td>2.406</td>\n",
       "    </tr>\n",
       "    <tr>\n",
       "      <th>4</th>\n",
       "      <td>13013</td>\n",
       "      <td>pubchem.compound</td>\n",
       "      <td>5287989</td>\n",
       "      <td>(5-Chloropyrazolo[1,5-a]Pyrimidin-7-Yl)-(4-Met...</td>\n",
       "      <td>0.006</td>\n",
       "      <td>2.201</td>\n",
       "    </tr>\n",
       "    <tr>\n",
       "      <th>5</th>\n",
       "      <td>12118</td>\n",
       "      <td>pubchem.compound</td>\n",
       "      <td>3371</td>\n",
       "      <td>Flufenamic Acid</td>\n",
       "      <td>0.007</td>\n",
       "      <td>2.175</td>\n",
       "    </tr>\n",
       "    <tr>\n",
       "      <th>6</th>\n",
       "      <td>13277</td>\n",
       "      <td>pubchem.compound</td>\n",
       "      <td>448108</td>\n",
       "      <td>U-Pi-a-Pi</td>\n",
       "      <td>0.007</td>\n",
       "      <td>2.151</td>\n",
       "    </tr>\n",
       "    <tr>\n",
       "      <th>7</th>\n",
       "      <td>12091</td>\n",
       "      <td>pubchem.compound</td>\n",
       "      <td>8076</td>\n",
       "      <td>2-Ethoxyethanol</td>\n",
       "      <td>0.009</td>\n",
       "      <td>2.040</td>\n",
       "    </tr>\n",
       "    <tr>\n",
       "      <th>8</th>\n",
       "      <td>11854</td>\n",
       "      <td>pubchem.compound</td>\n",
       "      <td>4290</td>\n",
       "      <td>N-(2-Flouro-Benzyl)-4-Sulfamoyl-Benzamide</td>\n",
       "      <td>0.009</td>\n",
       "      <td>2.028</td>\n",
       "    </tr>\n",
       "    <tr>\n",
       "      <th>9</th>\n",
       "      <td>12880</td>\n",
       "      <td>pubchem.compound</td>\n",
       "      <td>65533</td>\n",
       "      <td>alpha-D-glucose-1-phosphate</td>\n",
       "      <td>0.013</td>\n",
       "      <td>1.879</td>\n",
       "    </tr>\n",
       "  </tbody>\n",
       "</table>\n",
       "</div>"
      ],
      "text/plain": [
       "  node_id         namespace identifier  \\\n",
       "0   12602  pubchem.compound     447701   \n",
       "1   11824  pubchem.compound     448006   \n",
       "2    9863  pubchem.compound     636405   \n",
       "3   13015  pubchem.compound    9543429   \n",
       "4   13013  pubchem.compound    5287989   \n",
       "5   12118  pubchem.compound       3371   \n",
       "6   13277  pubchem.compound     448108   \n",
       "7   12091  pubchem.compound       8076   \n",
       "8   11854  pubchem.compound       4290   \n",
       "9   12880  pubchem.compound      65533   \n",
       "\n",
       "                                                name      p    mlp  \n",
       "0            N-Alpha-Acetyl-3,5-Diiodotyrosylglycine  0.003  2.535  \n",
       "1               2-(1,1'-Biphenyl-4-Yl)Propanoic Acid  0.003  2.508  \n",
       "2                                        Cefpiramide  0.004  2.382  \n",
       "3    Ndelta-(N'-Sulphodiaminophosphinyl)-L-Ornithine  0.004  2.406  \n",
       "4  (5-Chloropyrazolo[1,5-a]Pyrimidin-7-Yl)-(4-Met...  0.006  2.201  \n",
       "5                                    Flufenamic Acid  0.007  2.175  \n",
       "6                                          U-Pi-a-Pi  0.007  2.151  \n",
       "7                                    2-Ethoxyethanol  0.009  2.040  \n",
       "8          N-(2-Flouro-Benzyl)-4-Sulfamoyl-Benzamide  0.009  2.028  \n",
       "9                        alpha-D-glucose-1-phosphate  0.013  1.879  "
      ]
     },
     "execution_count": 12,
     "metadata": {},
     "output_type": "execute_result"
    }
   ],
   "source": [
    "query, df = get_phenotype_df('pubchem.compound:1983')\n",
    "print(json.dumps(query, indent=2))\n",
    "df"
   ]
  },
  {
   "cell_type": "code",
   "execution_count": null,
   "metadata": {},
   "outputs": [],
   "source": []
  }
 ],
 "metadata": {
  "kernelspec": {
   "display_name": "Python 3",
   "language": "python",
   "name": "python3"
  },
  "language_info": {
   "codemirror_mode": {
    "name": "ipython",
    "version": 3
   },
   "file_extension": ".py",
   "mimetype": "text/x-python",
   "name": "python",
   "nbconvert_exporter": "python",
   "pygments_lexer": "ipython3",
   "version": "3.7.3"
  }
 },
 "nbformat": 4,
 "nbformat_minor": 2
}
