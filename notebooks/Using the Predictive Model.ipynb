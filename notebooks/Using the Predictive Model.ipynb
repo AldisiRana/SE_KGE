{
 "cells": [
  {
   "cell_type": "markdown",
   "metadata": {},
   "source": [
    "# Using the Prediction Model\n",
    "\n",
    "## Environment"
   ]
  },
  {
   "cell_type": "code",
   "execution_count": 1,
   "metadata": {},
   "outputs": [],
   "source": [
    "import getpass\n",
    "import json\n",
    "import os\n",
    "import sys\n",
    "import time\n",
    "\n",
    "import pandas as pd\n",
    "\n",
    "from se_kge.constants import (\n",
    "    DEFAULT_EMBEDDINGS_PATH, DEFAULT_GRAPH_PATH,\n",
    "    DEFAULT_MAPPING_PATH, DEFAULT_MODEL_PATH,\n",
    ")"
   ]
  },
  {
   "cell_type": "code",
   "execution_count": 2,
   "metadata": {},
   "outputs": [
    {
     "name": "stdout",
     "output_type": "stream",
     "text": [
      "3.7.3 (default, Apr 24 2019, 15:29:51) [MSC v.1915 64 bit (AMD64)]\n"
     ]
    }
   ],
   "source": [
    "print(sys.version)"
   ]
  },
  {
   "cell_type": "code",
   "execution_count": 3,
   "metadata": {},
   "outputs": [
    {
     "name": "stdout",
     "output_type": "stream",
     "text": [
      "Thu Aug 15 12:03:23 2019\n"
     ]
    }
   ],
   "source": [
    "print(time.asctime())"
   ]
  },
  {
   "cell_type": "code",
   "execution_count": 4,
   "metadata": {},
   "outputs": [
    {
     "name": "stdout",
     "output_type": "stream",
     "text": [
      "RanaAldisi\n"
     ]
    }
   ],
   "source": [
    "print(getpass.getuser())"
   ]
  },
  {
   "cell_type": "markdown",
   "metadata": {},
   "source": [
    "# Loading the Data"
   ]
  },
  {
   "cell_type": "code",
   "execution_count": 5,
   "metadata": {},
   "outputs": [],
   "source": [
    "from se_kge.default_predictor import predictor"
   ]
  },
  {
   "cell_type": "code",
   "execution_count": 6,
   "metadata": {},
   "outputs": [
    {
     "name": "stdout",
     "output_type": "stream",
     "text": [
      "Loaded default predictor using paths:\n",
      "\n",
      "embeddings: c:\\users\\rana aldisi\\documents\\github\\se_kge\\resources\\predictive_model\\070819_node2vec_embeddings_complete01.embeddings\n",
      "graph:      c:\\users\\rana aldisi\\documents\\github\\se_kge\\resources\\chemsim_50_graphs\\fullgraph_with_chemsim_50.edgelist\n",
      "model:      c:\\users\\rana aldisi\\documents\\github\\se_kge\\resources\\predictive_model\\070819_node2vec_model_complete01.pkl\n",
      "mapping:    c:\\users\\rana aldisi\\documents\\github\\se_kge\\resources\\mapping\\fullgraph_nodes_mapping.tsv\n",
      "\n"
     ]
    }
   ],
   "source": [
    "print(f\"\"\"Loaded default predictor using paths:\n",
    "\n",
    "embeddings: {DEFAULT_EMBEDDINGS_PATH}\n",
    "graph:      {DEFAULT_GRAPH_PATH}\n",
    "model:      {DEFAULT_MODEL_PATH}\n",
    "mapping:    {DEFAULT_MAPPING_PATH}\n",
    "\"\"\")"
   ]
  },
  {
   "cell_type": "markdown",
   "metadata": {},
   "source": [
    "# Examples of different kinds of predictions with literature evidence"
   ]
  },
  {
   "cell_type": "markdown",
   "metadata": {},
   "source": [
    "## side effect - target association"
   ]
  },
  {
   "cell_type": "code",
   "execution_count": 14,
   "metadata": {},
   "outputs": [
    {
     "name": "stdout",
     "output_type": "stream",
     "text": [
      "{\n",
      "  \"source\": {\n",
      "    \"node_id\": \"9635\",\n",
      "    \"namespace\": \"uniprot\",\n",
      "    \"identifier\": \"P00533\",\n",
      "    \"name\": \"EGFR_HUMAN\"\n",
      "  },\n",
      "  \"target\": {\n",
      "    \"node_id\": \"6791\",\n",
      "    \"namespace\": \"umls\",\n",
      "    \"identifier\": \"C2609319\",\n",
      "    \"name\": \"Papulopustular rash\"\n",
      "  },\n",
      "  \"p\": 0.981,\n",
      "  \"mlp\": 0.008\n",
      "}\n"
     ]
    }
   ],
   "source": [
    "r = predictor.find_new_relation(\n",
    "    source_name='EGFR_HUMAN',\n",
    "    target_name='Papulopustular rash',\n",
    ")\n",
    "print(json.dumps(r, indent=2))\n",
    "#PMID: 18165622"
   ]
  },
  {
   "cell_type": "code",
   "execution_count": 15,
   "metadata": {},
   "outputs": [
    {
     "name": "stdout",
     "output_type": "stream",
     "text": [
      "{\n",
      "  \"source\": {\n",
      "    \"node_id\": \"9438\",\n",
      "    \"namespace\": \"uniprot\",\n",
      "    \"identifier\": \"P51160\",\n",
      "    \"name\": \"PDE6C_HUMAN\"\n",
      "  },\n",
      "  \"target\": {\n",
      "    \"node_id\": \"331\",\n",
      "    \"namespace\": \"umls\",\n",
      "    \"identifier\": \"C0013144\",\n",
      "    \"name\": \"Drowsiness\"\n",
      "  },\n",
      "  \"p\": 0.977,\n",
      "  \"mlp\": 0.01\n",
      "}\n"
     ]
    }
   ],
   "source": [
    "r = predictor.find_new_relation(\n",
    "    source_id='9438', # Histamine receptor H1\n",
    "    target_id='331', # Drowsiness\n",
    ")\n",
    "print(json.dumps(r, indent=2))\n",
    "#PMID: 26626077"
   ]
  },
  {
   "cell_type": "markdown",
   "metadata": {},
   "source": [
    "## drug- side effect association"
   ]
  },
  {
   "cell_type": "code",
   "execution_count": 16,
   "metadata": {},
   "outputs": [
    {
     "name": "stdout",
     "output_type": "stream",
     "text": [
      "{\n",
      "  \"source\": {\n",
      "    \"node_id\": \"3534\",\n",
      "    \"namespace\": \"pubchem.compound\",\n",
      "    \"identifier\": \"3016\",\n",
      "    \"name\": \"Diazepam\"\n",
      "  },\n",
      "  \"target\": {\n",
      "    \"node_id\": \"670\",\n",
      "    \"namespace\": \"umls\",\n",
      "    \"identifier\": \"C0011124\",\n",
      "    \"name\": \"Libido decreased\"\n",
      "  },\n",
      "  \"p\": 0.003,\n",
      "  \"mlp\": 2.523\n",
      "}\n"
     ]
    }
   ],
   "source": [
    "r = predictor.find_new_relation(\n",
    "    source_id='3534',  # diazepam\n",
    "    target_id='670',  # Libido decreased\n",
    ")\n",
    "print(json.dumps(r, indent=2))\n",
    "#PMID: 29888057"
   ]
  },
  {
   "cell_type": "code",
   "execution_count": 17,
   "metadata": {},
   "outputs": [
    {
     "name": "stdout",
     "output_type": "stream",
     "text": [
      "{\n",
      "  \"source\": {\n",
      "    \"node_id\": \"10270\",\n",
      "    \"namespace\": \"uniprot\",\n",
      "    \"identifier\": \"Q9NY56\",\n",
      "    \"name\": \"OBP2A_HUMAN\"\n",
      "  },\n",
      "  \"target\": {\n",
      "    \"node_id\": \"1149\",\n",
      "    \"namespace\": \"umls\",\n",
      "    \"identifier\": \"C0002888\",\n",
      "    \"name\": \"Anaemia megaloblastic\"\n",
      "  },\n",
      "  \"p\": 0.999,\n",
      "  \"mlp\": 0.0\n",
      "}\n"
     ]
    }
   ],
   "source": [
    "r = predictor.find_new_relation(\n",
    "    source_id='10270',  # Cytarabine \n",
    "    target_id='1149',  # Anaemia megaloblastic\n",
    ")\n",
    "print(json.dumps(r, indent=2))\n",
    "# PMID: 23157436"
   ]
  },
  {
   "cell_type": "markdown",
   "metadata": {},
   "source": [
    "## drug-target association"
   ]
  },
  {
   "cell_type": "code",
   "execution_count": 18,
   "metadata": {},
   "outputs": [
    {
     "name": "stdout",
     "output_type": "stream",
     "text": [
      "{\n",
      "  \"source\": {\n",
      "    \"node_id\": \"12765\",\n",
      "    \"namespace\": \"pubchem.compound\",\n",
      "    \"identifier\": \"131704218\",\n",
      "    \"name\": \"2-Amino-3-Oxo-4-Sulfo-Butyric Acid\"\n",
      "  },\n",
      "  \"target\": {\n",
      "    \"node_id\": \"9372\",\n",
      "    \"namespace\": \"uniprot\",\n",
      "    \"identifier\": \"P48169\",\n",
      "    \"name\": \"GBRA4_HUMAN\"\n",
      "  },\n",
      "  \"p\": 0.985,\n",
      "  \"mlp\": 0.006\n",
      "}\n"
     ]
    }
   ],
   "source": [
    "r = predictor.find_new_relation(\n",
    "    source_id='12765',  # Sertindole \n",
    "    target_id='9372',   # CHRM1 receptor\n",
    ")\n",
    "print(json.dumps(r, indent=2))\n",
    "# PMID: 29942259 "
   ]
  },
  {
   "cell_type": "markdown",
   "metadata": {},
   "source": [
    "# Example of predicting relations using node2vec model and embeddings"
   ]
  },
  {
   "cell_type": "code",
   "execution_count": 19,
   "metadata": {},
   "outputs": [],
   "source": [
    "def get_phenotype_df(curie):\n",
    "    results = predictor.find_new_relations(\n",
    "        node_curie=curie,\n",
    "        results_type='phenotype',\n",
    "        k=10,\n",
    "    )\n",
    "    results_df = pd.DataFrame(results['predictions'])\n",
    "    results_df = results_df[['node_id', 'namespace', 'identifier', 'name', 'p', 'mlp']]\n",
    "    return results['query'], results_df"
   ]
  },
  {
   "cell_type": "code",
   "execution_count": 20,
   "metadata": {},
   "outputs": [
    {
     "name": "stdout",
     "output_type": "stream",
     "text": [
      "{\n",
      "  \"entity\": {\n",
      "    \"node_id\": \"9294\",\n",
      "    \"namespace\": \"pubchem.compound\",\n",
      "    \"identifier\": \"145742\",\n",
      "    \"name\": \"Proline\"\n",
      "  },\n",
      "  \"k\": 10,\n",
      "  \"type\": \"phenotype\"\n",
      "}\n"
     ]
    },
    {
     "data": {
      "text/html": [
       "<div>\n",
       "<style scoped>\n",
       "    .dataframe tbody tr th:only-of-type {\n",
       "        vertical-align: middle;\n",
       "    }\n",
       "\n",
       "    .dataframe tbody tr th {\n",
       "        vertical-align: top;\n",
       "    }\n",
       "\n",
       "    .dataframe thead th {\n",
       "        text-align: right;\n",
       "    }\n",
       "</style>\n",
       "<table border=\"1\" class=\"dataframe\">\n",
       "  <thead>\n",
       "    <tr style=\"text-align: right;\">\n",
       "      <th></th>\n",
       "      <th>node_id</th>\n",
       "      <th>namespace</th>\n",
       "      <th>identifier</th>\n",
       "      <th>name</th>\n",
       "      <th>p</th>\n",
       "      <th>mlp</th>\n",
       "    </tr>\n",
       "  </thead>\n",
       "  <tbody>\n",
       "    <tr>\n",
       "      <th>0</th>\n",
       "      <td>2146</td>\n",
       "      <td>umls</td>\n",
       "      <td>C0234133</td>\n",
       "      <td>Extrapyramidal symptoms</td>\n",
       "      <td>0.791</td>\n",
       "      <td>0.102</td>\n",
       "    </tr>\n",
       "    <tr>\n",
       "      <th>1</th>\n",
       "      <td>908</td>\n",
       "      <td>umls</td>\n",
       "      <td>C0686347</td>\n",
       "      <td>Tardive dyskinesia</td>\n",
       "      <td>0.807</td>\n",
       "      <td>0.093</td>\n",
       "    </tr>\n",
       "    <tr>\n",
       "      <th>2</th>\n",
       "      <td>728</td>\n",
       "      <td>umls</td>\n",
       "      <td>C0026837</td>\n",
       "      <td>Muscle rigidity</td>\n",
       "      <td>0.821</td>\n",
       "      <td>0.086</td>\n",
       "    </tr>\n",
       "    <tr>\n",
       "      <th>3</th>\n",
       "      <td>2930</td>\n",
       "      <td>umls</td>\n",
       "      <td>C0241442</td>\n",
       "      <td>Protrusion tongue</td>\n",
       "      <td>0.823</td>\n",
       "      <td>0.084</td>\n",
       "    </tr>\n",
       "    <tr>\n",
       "      <th>4</th>\n",
       "      <td>862</td>\n",
       "      <td>umls</td>\n",
       "      <td>C0392156</td>\n",
       "      <td>Akathisia</td>\n",
       "      <td>0.832</td>\n",
       "      <td>0.080</td>\n",
       "    </tr>\n",
       "    <tr>\n",
       "      <th>5</th>\n",
       "      <td>777</td>\n",
       "      <td>umls</td>\n",
       "      <td>C0085623</td>\n",
       "      <td>Akinesia</td>\n",
       "      <td>0.842</td>\n",
       "      <td>0.075</td>\n",
       "    </tr>\n",
       "    <tr>\n",
       "      <th>6</th>\n",
       "      <td>687</td>\n",
       "      <td>umls</td>\n",
       "      <td>C0015371</td>\n",
       "      <td>Extrapyramidal disorder</td>\n",
       "      <td>0.843</td>\n",
       "      <td>0.074</td>\n",
       "    </tr>\n",
       "    <tr>\n",
       "      <th>7</th>\n",
       "      <td>1036</td>\n",
       "      <td>umls</td>\n",
       "      <td>C0235660</td>\n",
       "      <td>Galactorrhoea</td>\n",
       "      <td>0.844</td>\n",
       "      <td>0.074</td>\n",
       "    </tr>\n",
       "    <tr>\n",
       "      <th>8</th>\n",
       "      <td>2074</td>\n",
       "      <td>umls</td>\n",
       "      <td>C0085637</td>\n",
       "      <td>Oculogyric crisis</td>\n",
       "      <td>0.850</td>\n",
       "      <td>0.071</td>\n",
       "    </tr>\n",
       "    <tr>\n",
       "      <th>9</th>\n",
       "      <td>2371</td>\n",
       "      <td>umls</td>\n",
       "      <td>C0151818</td>\n",
       "      <td>Opisthotonus</td>\n",
       "      <td>0.856</td>\n",
       "      <td>0.068</td>\n",
       "    </tr>\n",
       "  </tbody>\n",
       "</table>\n",
       "</div>"
      ],
      "text/plain": [
       "  node_id namespace identifier                     name      p    mlp\n",
       "0    2146      umls   C0234133  Extrapyramidal symptoms  0.791  0.102\n",
       "1     908      umls   C0686347       Tardive dyskinesia  0.807  0.093\n",
       "2     728      umls   C0026837          Muscle rigidity  0.821  0.086\n",
       "3    2930      umls   C0241442        Protrusion tongue  0.823  0.084\n",
       "4     862      umls   C0392156                Akathisia  0.832  0.080\n",
       "5     777      umls   C0085623                 Akinesia  0.842  0.075\n",
       "6     687      umls   C0015371  Extrapyramidal disorder  0.843  0.074\n",
       "7    1036      umls   C0235660            Galactorrhoea  0.844  0.074\n",
       "8    2074      umls   C0085637        Oculogyric crisis  0.850  0.071\n",
       "9    2371      umls   C0151818             Opisthotonus  0.856  0.068"
      ]
     },
     "execution_count": 20,
     "metadata": {},
     "output_type": "execute_result"
    }
   ],
   "source": [
    "query, df = get_phenotype_df('pubchem.compound:145742')\n",
    "print(json.dumps(query, indent=2))\n",
    "df"
   ]
  },
  {
   "cell_type": "code",
   "execution_count": 21,
   "metadata": {},
   "outputs": [
    {
     "name": "stdout",
     "output_type": "stream",
     "text": [
      "{\n",
      "  \"entity\": {\n",
      "    \"node_id\": \"1887\",\n",
      "    \"namespace\": \"pubchem.compound\",\n",
      "    \"identifier\": \"1983\",\n",
      "    \"name\": \"Acetaminophen\"\n",
      "  },\n",
      "  \"k\": 10,\n",
      "  \"type\": \"phenotype\"\n",
      "}\n"
     ]
    },
    {
     "data": {
      "text/html": [
       "<div>\n",
       "<style scoped>\n",
       "    .dataframe tbody tr th:only-of-type {\n",
       "        vertical-align: middle;\n",
       "    }\n",
       "\n",
       "    .dataframe tbody tr th {\n",
       "        vertical-align: top;\n",
       "    }\n",
       "\n",
       "    .dataframe thead th {\n",
       "        text-align: right;\n",
       "    }\n",
       "</style>\n",
       "<table border=\"1\" class=\"dataframe\">\n",
       "  <thead>\n",
       "    <tr style=\"text-align: right;\">\n",
       "      <th></th>\n",
       "      <th>node_id</th>\n",
       "      <th>namespace</th>\n",
       "      <th>identifier</th>\n",
       "      <th>name</th>\n",
       "      <th>p</th>\n",
       "      <th>mlp</th>\n",
       "    </tr>\n",
       "  </thead>\n",
       "  <tbody>\n",
       "    <tr>\n",
       "      <th>0</th>\n",
       "      <td>649</td>\n",
       "      <td>umls</td>\n",
       "      <td>C0004134</td>\n",
       "      <td>Ataxia</td>\n",
       "      <td>0.005</td>\n",
       "      <td>2.266</td>\n",
       "    </tr>\n",
       "    <tr>\n",
       "      <th>1</th>\n",
       "      <td>23</td>\n",
       "      <td>umls</td>\n",
       "      <td>C0013378</td>\n",
       "      <td>Dysgeusia</td>\n",
       "      <td>0.007</td>\n",
       "      <td>2.142</td>\n",
       "    </tr>\n",
       "    <tr>\n",
       "      <th>2</th>\n",
       "      <td>99</td>\n",
       "      <td>umls</td>\n",
       "      <td>C0020580</td>\n",
       "      <td>Hypoaesthesia</td>\n",
       "      <td>0.008</td>\n",
       "      <td>2.074</td>\n",
       "    </tr>\n",
       "    <tr>\n",
       "      <th>3</th>\n",
       "      <td>10</td>\n",
       "      <td>umls</td>\n",
       "      <td>C0003811</td>\n",
       "      <td>Arrhythmia</td>\n",
       "      <td>0.010</td>\n",
       "      <td>1.990</td>\n",
       "    </tr>\n",
       "    <tr>\n",
       "      <th>4</th>\n",
       "      <td>49</td>\n",
       "      <td>umls</td>\n",
       "      <td>C0030554</td>\n",
       "      <td>Paraesthesia</td>\n",
       "      <td>0.010</td>\n",
       "      <td>1.989</td>\n",
       "    </tr>\n",
       "    <tr>\n",
       "      <th>5</th>\n",
       "      <td>342</td>\n",
       "      <td>umls</td>\n",
       "      <td>C0040264</td>\n",
       "      <td>Tinnitus</td>\n",
       "      <td>0.011</td>\n",
       "      <td>1.960</td>\n",
       "    </tr>\n",
       "    <tr>\n",
       "      <th>6</th>\n",
       "      <td>180</td>\n",
       "      <td>umls</td>\n",
       "      <td>C0041657</td>\n",
       "      <td>Loss of consciousness</td>\n",
       "      <td>0.013</td>\n",
       "      <td>1.897</td>\n",
       "    </tr>\n",
       "    <tr>\n",
       "      <th>7</th>\n",
       "      <td>59</td>\n",
       "      <td>umls</td>\n",
       "      <td>C0042571</td>\n",
       "      <td>Vertigo</td>\n",
       "      <td>0.014</td>\n",
       "      <td>1.845</td>\n",
       "    </tr>\n",
       "    <tr>\n",
       "      <th>8</th>\n",
       "      <td>893</td>\n",
       "      <td>umls</td>\n",
       "      <td>C0542571</td>\n",
       "      <td>Face oedema</td>\n",
       "      <td>0.014</td>\n",
       "      <td>1.854</td>\n",
       "    </tr>\n",
       "    <tr>\n",
       "      <th>9</th>\n",
       "      <td>167</td>\n",
       "      <td>umls</td>\n",
       "      <td>C0038362</td>\n",
       "      <td>Stomatitis</td>\n",
       "      <td>0.018</td>\n",
       "      <td>1.745</td>\n",
       "    </tr>\n",
       "  </tbody>\n",
       "</table>\n",
       "</div>"
      ],
      "text/plain": [
       "  node_id namespace identifier                   name      p    mlp\n",
       "0     649      umls   C0004134                 Ataxia  0.005  2.266\n",
       "1      23      umls   C0013378              Dysgeusia  0.007  2.142\n",
       "2      99      umls   C0020580          Hypoaesthesia  0.008  2.074\n",
       "3      10      umls   C0003811             Arrhythmia  0.010  1.990\n",
       "4      49      umls   C0030554           Paraesthesia  0.010  1.989\n",
       "5     342      umls   C0040264               Tinnitus  0.011  1.960\n",
       "6     180      umls   C0041657  Loss of consciousness  0.013  1.897\n",
       "7      59      umls   C0042571                Vertigo  0.014  1.845\n",
       "8     893      umls   C0542571            Face oedema  0.014  1.854\n",
       "9     167      umls   C0038362             Stomatitis  0.018  1.745"
      ]
     },
     "execution_count": 21,
     "metadata": {},
     "output_type": "execute_result"
    }
   ],
   "source": [
    "query, df = get_phenotype_df('pubchem.compound:1983')\n",
    "print(json.dumps(query, indent=2))\n",
    "df"
   ]
  }
 ],
 "metadata": {
  "kernelspec": {
   "display_name": "Python 3",
   "language": "python",
   "name": "python3"
  },
  "language_info": {
   "codemirror_mode": {
    "name": "ipython",
    "version": 3
   },
   "file_extension": ".py",
   "mimetype": "text/x-python",
   "name": "python",
   "nbconvert_exporter": "python",
   "pygments_lexer": "ipython3",
   "version": "3.7.3"
  }
 },
 "nbformat": 4,
 "nbformat_minor": 2
}
