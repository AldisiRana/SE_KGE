{
 "cells": [
  {
   "cell_type": "markdown",
   "metadata": {},
   "source": [
    "# Using the Prediction Model\n",
    "\n",
    "## Environment"
   ]
  },
  {
   "cell_type": "code",
   "execution_count": 1,
   "metadata": {},
   "outputs": [],
   "source": [
    "import getpass\n",
    "import json\n",
    "import os\n",
    "import sys\n",
    "import time\n",
    "\n",
    "import pandas as pd\n",
    "\n",
    "from se_kge.constants import (\n",
    "    DEFAULT_EMBEDDINGS_PATH, DEFAULT_GRAPH_PATH,\n",
    "    DEFAULT_MAPPING_PATH, DEFAULT_MODEL_PATH,\n",
    ")"
   ]
  },
  {
   "cell_type": "code",
   "execution_count": 2,
   "metadata": {},
   "outputs": [
    {
     "name": "stdout",
     "output_type": "stream",
     "text": [
      "3.7.2 (tags/v3.7.2:9a3ffc0492, Dec 23 2018, 23:09:28) [MSC v.1916 64 bit (AMD64)]\n"
     ]
    }
   ],
   "source": [
    "print(sys.version)"
   ]
  },
  {
   "cell_type": "code",
   "execution_count": 3,
   "metadata": {},
   "outputs": [
    {
     "name": "stdout",
     "output_type": "stream",
     "text": [
      "Thu Sep 12 16:25:24 2019\n"
     ]
    }
   ],
   "source": [
    "print(time.asctime())"
   ]
  },
  {
   "cell_type": "code",
   "execution_count": 4,
   "metadata": {},
   "outputs": [
    {
     "name": "stdout",
     "output_type": "stream",
     "text": [
      "RanaAldisi\n"
     ]
    }
   ],
   "source": [
    "print(getpass.getuser())"
   ]
  },
  {
   "cell_type": "markdown",
   "metadata": {},
   "source": [
    "# Loading the Data"
   ]
  },
  {
   "cell_type": "code",
   "execution_count": null,
   "metadata": {},
   "outputs": [],
   "source": [
    "from se_kge.default_predictor import predictor"
   ]
  },
  {
   "cell_type": "code",
   "execution_count": null,
   "metadata": {},
   "outputs": [],
   "source": [
    "print(f\"\"\"Loaded default predictor using paths:\n",
    "\n",
    "embeddings: {DEFAULT_EMBEDDINGS_PATH}\n",
    "graph:      {DEFAULT_GRAPH_PATH}\n",
    "model:      {DEFAULT_MODEL_PATH}\n",
    "mapping:    {DEFAULT_MAPPING_PATH}\n",
    "\"\"\")"
   ]
  },
  {
   "cell_type": "markdown",
   "metadata": {},
   "source": [
    "# Examples of different kinds of predictions with literature evidence"
   ]
  },
  {
   "cell_type": "markdown",
   "metadata": {},
   "source": [
    "## side effect - target association"
   ]
  },
  {
   "cell_type": "code",
   "execution_count": null,
   "metadata": {},
   "outputs": [],
   "source": [
    "r = predictor.find_new_relation(\n",
    "    source_name='EGFR_HUMAN',\n",
    "    target_name='Papulopustular rash',\n",
    ")\n",
    "print(json.dumps(r, indent=2))\n",
    "#PMID: 18165622"
   ]
  },
  {
   "cell_type": "code",
   "execution_count": null,
   "metadata": {
    "scrolled": true
   },
   "outputs": [],
   "source": [
    "r = predictor.find_new_relation(\n",
    "    source_id='9451', # Histamine receptor H1\n",
    "    target_id='331', # Drowsiness\n",
    ")\n",
    "print(json.dumps(r, indent=2))\n",
    "#PMID: 26626077"
   ]
  },
  {
   "cell_type": "code",
   "execution_count": null,
   "metadata": {},
   "outputs": [],
   "source": [
    "r = predictor.find_new_relation(\n",
    "    source_id='9325', # SC6A2\n",
    "    target_id='56', # Tachycardia\n",
    ")\n",
    "print(json.dumps(r, indent=2))\n",
    "#PMID: 30952858"
   ]
  },
  {
   "cell_type": "code",
   "execution_count": null,
   "metadata": {},
   "outputs": [],
   "source": [
    "r = predictor.find_new_relation(\n",
    "    source_id='8670', # ACES_HUMAN\n",
    "    target_id='309', # Bradycardia\n",
    ")\n",
    "print(json.dumps(r, indent=2))\n",
    "#PMID: 30952858"
   ]
  },
  {
   "cell_type": "markdown",
   "metadata": {},
   "source": [
    "## drug- side effect association"
   ]
  },
  {
   "cell_type": "code",
   "execution_count": null,
   "metadata": {},
   "outputs": [],
   "source": [
    "r = predictor.find_new_relation(\n",
    "    source_id='3534',  # diazepam\n",
    "    target_id='670',  # Libido decreased\n",
    ")\n",
    "print(json.dumps(r, indent=2))\n",
    "#PMID: 29888057"
   ]
  },
  {
   "cell_type": "code",
   "execution_count": null,
   "metadata": {},
   "outputs": [],
   "source": [
    "r = predictor.find_new_relation(\n",
    "    source_id='1148',  # Cytarabine \n",
    "    target_id='1149',  # Anaemia megaloblastic\n",
    ")\n",
    "print(json.dumps(r, indent=2))\n",
    "# PMID: 23157436"
   ]
  },
  {
   "cell_type": "markdown",
   "metadata": {},
   "source": [
    "## drug-target association"
   ]
  },
  {
   "cell_type": "code",
   "execution_count": null,
   "metadata": {},
   "outputs": [],
   "source": [
    "r = predictor.find_new_relation(\n",
    "    source_id='14672',  # Sertindole \n",
    "    target_id='9350',   # CHRM1 receptor\n",
    ")\n",
    "print(json.dumps(r, indent=2))\n",
    "# PMID: 29942259 "
   ]
  },
  {
   "cell_type": "markdown",
   "metadata": {},
   "source": [
    "# Example of predicting relations using node2vec model and embeddings"
   ]
  },
  {
   "cell_type": "code",
   "execution_count": null,
   "metadata": {},
   "outputs": [],
   "source": [
    "def get_predictions_df(curie, results_type=None):\n",
    "    results = predictor.find_new_relations(\n",
    "        node_curie=curie,\n",
    "        results_type=results_type,\n",
    "        k=30,\n",
    "    )\n",
    "    results_df = pd.DataFrame(results['predictions'])\n",
    "    results_df = results_df[['node_id', 'namespace', 'identifier', 'name', 'p', 'mlp', 'novel']]\n",
    "    return results['query'], results_df"
   ]
  },
  {
   "cell_type": "code",
   "execution_count": null,
   "metadata": {},
   "outputs": [],
   "source": [
    "query, df = get_predictions_df('pubchem.compound:2159', 'phenotype')\n",
    "print(json.dumps(query, indent=2))\n",
    "df"
   ]
  },
  {
   "cell_type": "code",
   "execution_count": null,
   "metadata": {},
   "outputs": [],
   "source": [
    "query, df = get_predictions_df('pubchem.compound:4585', 'phenotype')\n",
    "print(json.dumps(query, indent=2))\n",
    "df"
   ]
  },
  {
   "cell_type": "code",
   "execution_count": null,
   "metadata": {},
   "outputs": [],
   "source": [
    "query, df = get_predictions_df('uniprot:P11229', 'phenotype')\n",
    "print(json.dumps(query, indent=2))\n",
    "df"
   ]
  },
  {
   "cell_type": "code",
   "execution_count": null,
   "metadata": {},
   "outputs": [],
   "source": [
    "query, df = get_predictions_df('uniprot:P08588', 'phenotype')\n",
    "print(json.dumps(query, indent=2))\n",
    "df"
   ]
  },
  {
   "cell_type": "code",
   "execution_count": null,
   "metadata": {},
   "outputs": [],
   "source": [
    "query, df = get_predictions_df('uniprot:P22303', 'phenotype')\n",
    "print(json.dumps(query, indent=2))\n",
    "df"
   ]
  },
  {
   "cell_type": "code",
   "execution_count": null,
   "metadata": {
    "scrolled": false
   },
   "outputs": [],
   "source": [
    "query, df = get_predictions_df('uniprot:Q9UBN7', 'chemical')\n",
    "print(json.dumps(query, indent=2))\n",
    "df"
   ]
  },
  {
   "cell_type": "code",
   "execution_count": null,
   "metadata": {},
   "outputs": [],
   "source": [
    "query, df = get_predictions_df(\"umls:C0030567\", 'chemical')\n",
    "print(json.dumps(query, indent=2))\n",
    "df"
   ]
  },
  {
   "cell_type": "code",
   "execution_count": null,
   "metadata": {},
   "outputs": [],
   "source": [
    "query, df = get_predictions_df('pubchem.compound:5095', 'phenotype')\n",
    "print(json.dumps(query, indent=2))\n",
    "df\n",
    "#PMID: 29241812"
   ]
  },
  {
   "cell_type": "code",
   "execution_count": null,
   "metadata": {},
   "outputs": [],
   "source": [
    "r = predictor.find_new_relation(\n",
    "    source_id='2071', #Amantadine\n",
    "    target_id='2248', #Parkinson's disease\n",
    ")\n",
    "print(json.dumps(r, indent=2))\n",
    "#PMID: 21654146"
   ]
  },
  {
   "cell_type": "code",
   "execution_count": null,
   "metadata": {},
   "outputs": [],
   "source": [
    "r = predictor.find_new_relation(\n",
    "    source_id='5346', #Ropinirole\n",
    "    target_id='1348', #Restless legs syndrome\n",
    ")\n",
    "print(json.dumps(r, indent=2))\n",
    "#PMID: 21654146"
   ]
  },
  {
   "cell_type": "code",
   "execution_count": null,
   "metadata": {},
   "outputs": [],
   "source": [
    "r = predictor.find_new_relation(\n",
    "    source_id='3627', #Disulfiram\n",
    "    target_id='2318', #Malignant melanoma\n",
    ")\n",
    "print(json.dumps(r, indent=2))\n",
    "#PMID: 21654146"
   ]
  },
  {
   "cell_type": "code",
   "execution_count": null,
   "metadata": {},
   "outputs": [],
   "source": [
    "r = predictor.find_new_relation(\n",
    "    source_id='17528', #Brigatinib\n",
    "    target_id='5148', #Colorectal cancer\n",
    ")\n",
    "print(json.dumps(r, indent=2))\n",
    "#PMID: 31410188"
   ]
  },
  {
   "cell_type": "code",
   "execution_count": null,
   "metadata": {},
   "outputs": [],
   "source": [
    "r = predictor.find_new_relation(\n",
    "    source_id='6995', #dasatinib\n",
    "    target_id='1179', #Diffuse large B-cell lymphoma\n",
    ")\n",
    "print(json.dumps(r, indent=2))\n",
    "#PMID: 31383760"
   ]
  },
  {
   "cell_type": "code",
   "execution_count": null,
   "metadata": {},
   "outputs": [],
   "source": [
    "r = predictor.find_new_relation(\n",
    "    source_id='5265', #ribavirin\n",
    "    target_id='947', #Candida infection\n",
    ")\n",
    "print(json.dumps(r, indent=2))\n",
    "#PMID: 31307986"
   ]
  }
 ],
 "metadata": {
  "kernelspec": {
   "display_name": "Python 3",
   "language": "python",
   "name": "python3"
  },
  "language_info": {
   "codemirror_mode": {
    "name": "ipython",
    "version": 3
   },
   "file_extension": ".py",
   "mimetype": "text/x-python",
   "name": "python",
   "nbconvert_exporter": "python",
   "pygments_lexer": "ipython3",
   "version": "3.7.2"
  }
 },
 "nbformat": 4,
 "nbformat_minor": 2
}
