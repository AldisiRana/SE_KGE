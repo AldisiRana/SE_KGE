{
 "cells": [
  {
   "cell_type": "code",
   "execution_count": 108,
   "metadata": {},
   "outputs": [],
   "source": [
    "from defusedxml import ElementTree\n",
    "from seffnet.get_url_requests import cid_to_inchikey, cid_to_smiles, cid_to_synonyms, get_gene_names, inchikey_to_cid\n",
    "from tqdm import tqdm_notebook as tqdm\n",
    "import pandas as pd\n",
    "import numpy as np\n",
    "import joblib\n",
    "from seffnet.constants import DEFAULT_EMBEDDINGS_PATH, DEFAULT_PREDICTIVE_MODEL_PATH"
   ]
  },
  {
   "cell_type": "code",
   "execution_count": 10,
   "metadata": {},
   "outputs": [
    {
     "data": {
      "application/vnd.jupyter.widget-view+json": {
       "model_id": "24f83829eb51424abd1c3d85a5910823",
       "version_major": 2,
       "version_minor": 0
      },
      "text/plain": [
       "HBox(children=(IntProgress(value=1, bar_style='info', description='Getting DrugBank info', max=1, style=Progre…"
      ]
     },
     "metadata": {},
     "output_type": "display_data"
    },
    {
     "name": "stdout",
     "output_type": "stream",
     "text": [
      "\n"
     ]
    }
   ],
   "source": [
    "tree = ElementTree.parse(\"C:\\\\Users\\\\aldis\\\\Downloads\\\\full database.xml\")\n",
    "root = tree.getroot()\n",
    "ns = '{http://www.drugbank.ca}'\n",
    "drug_group_template = \"{ns}groups/{ns}group\"\n",
    "approval_template = \"{ns}patents/{ns}patent/{ns}approved\"\n",
    "mapping_list = []\n",
    "for i, drug in tqdm(enumerate(root), desc=\"Getting DrugBank info\"):\n",
    "    assert drug.tag == ns + 'drug'\n",
    "    if drug.attrib['type'] == \"biotech\":\n",
    "        continue\n",
    "    drug_group = drug.findtext(drug_group_template.format(ns=ns))\n",
    "    if drug_group != 'approved':\n",
    "        continue\n",
    "    drug_approval = drug.findtext(approval_template.format(ns=ns))\n",
    "    if drug_approval is None:\n",
    "        continue\n",
    "    if int(drug_approval[:4]) < 2015:\n",
    "        continue\n",
    "    name = drug.findtext(ns + \"name\")\n",
    "    drugbank_id = drug.findtext(ns + \"drugbank-id\")\n",
    "    indication = drug.findtext(ns + \"indication\")\n",
    "    mapping_list.append((drugbank_id, name, drug_approval, indication))\n",
    "mapping_df = pd.DataFrame(\n",
    "    mapping_list,\n",
    "    columns=['drugbank_id', 'name', 'approval year','indication']\n",
    ")"
   ]
  },
  {
   "cell_type": "code",
   "execution_count": 43,
   "metadata": {
    "scrolled": true
   },
   "outputs": [
    {
     "data": {
      "text/html": [
       "<div>\n",
       "<style scoped>\n",
       "    .dataframe tbody tr th:only-of-type {\n",
       "        vertical-align: middle;\n",
       "    }\n",
       "\n",
       "    .dataframe tbody tr th {\n",
       "        vertical-align: top;\n",
       "    }\n",
       "\n",
       "    .dataframe thead th {\n",
       "        text-align: right;\n",
       "    }\n",
       "</style>\n",
       "<table border=\"1\" class=\"dataframe\">\n",
       "  <thead>\n",
       "    <tr style=\"text-align: right;\">\n",
       "      <th></th>\n",
       "      <th>drugbank_id</th>\n",
       "      <th>name</th>\n",
       "      <th>approval year</th>\n",
       "      <th>indication</th>\n",
       "    </tr>\n",
       "  </thead>\n",
       "  <tbody>\n",
       "    <tr>\n",
       "      <th>0</th>\n",
       "      <td>DB00067</td>\n",
       "      <td>Vasopressin</td>\n",
       "      <td>2017-06-27</td>\n",
       "      <td>For the treatment of enuresis, polyuria, diabe...</td>\n",
       "    </tr>\n",
       "    <tr>\n",
       "      <th>1</th>\n",
       "      <td>DB00264</td>\n",
       "      <td>Metoprolol</td>\n",
       "      <td>2017-07-11</td>\n",
       "      <td>Metoprolol is indicated for the treatment of a...</td>\n",
       "    </tr>\n",
       "    <tr>\n",
       "      <th>2</th>\n",
       "      <td>DB00310</td>\n",
       "      <td>Chlorthalidone</td>\n",
       "      <td>2015-10-27</td>\n",
       "      <td>Chlorthalidone is indicated in the management ...</td>\n",
       "    </tr>\n",
       "    <tr>\n",
       "      <th>3</th>\n",
       "      <td>DB00328</td>\n",
       "      <td>Indometacin</td>\n",
       "      <td>2015-07-28</td>\n",
       "      <td>Oral indometacin is indicated for symptomatic ...</td>\n",
       "    </tr>\n",
       "    <tr>\n",
       "      <th>4</th>\n",
       "      <td>DB00377</td>\n",
       "      <td>Palonosetron</td>\n",
       "      <td>2015-09-08</td>\n",
       "      <td>For the prevention of acute and delayed nausea...</td>\n",
       "    </tr>\n",
       "    <tr>\n",
       "      <th>...</th>\n",
       "      <td>...</td>\n",
       "      <td>...</td>\n",
       "      <td>...</td>\n",
       "      <td>...</td>\n",
       "    </tr>\n",
       "    <tr>\n",
       "      <th>62</th>\n",
       "      <td>DB14048</td>\n",
       "      <td>Sodium zirconium cyclosilicate</td>\n",
       "      <td>2017-03-14</td>\n",
       "      <td>Sodium zirconium cyclosilicate is a potassium ...</td>\n",
       "    </tr>\n",
       "    <tr>\n",
       "      <th>63</th>\n",
       "      <td>DB14185</td>\n",
       "      <td>Aripiprazole lauroxil</td>\n",
       "      <td>2015-11-24</td>\n",
       "      <td>Aripiprazole lauroxil is indicated for the tre...</td>\n",
       "    </tr>\n",
       "    <tr>\n",
       "      <th>64</th>\n",
       "      <td>DB14554</td>\n",
       "      <td>Dotatate</td>\n",
       "      <td>2016-06-28</td>\n",
       "      <td></td>\n",
       "    </tr>\n",
       "    <tr>\n",
       "      <th>65</th>\n",
       "      <td>DB14568</td>\n",
       "      <td>Ivosidenib</td>\n",
       "      <td>2016-10-25</td>\n",
       "      <td>Ivosidenib is approved for use in the treatmen...</td>\n",
       "    </tr>\n",
       "    <tr>\n",
       "      <th>66</th>\n",
       "      <td>DB14723</td>\n",
       "      <td>Larotrectinib</td>\n",
       "      <td>2018-08-14</td>\n",
       "      <td>Larotrectinib is a tyrosine kinase inhibitor t...</td>\n",
       "    </tr>\n",
       "  </tbody>\n",
       "</table>\n",
       "<p>67 rows × 4 columns</p>\n",
       "</div>"
      ],
      "text/plain": [
       "   drugbank_id                            name approval year  \\\n",
       "0      DB00067                     Vasopressin    2017-06-27   \n",
       "1      DB00264                      Metoprolol    2017-07-11   \n",
       "2      DB00310                  Chlorthalidone    2015-10-27   \n",
       "3      DB00328                     Indometacin    2015-07-28   \n",
       "4      DB00377                    Palonosetron    2015-09-08   \n",
       "..         ...                             ...           ...   \n",
       "62     DB14048  Sodium zirconium cyclosilicate    2017-03-14   \n",
       "63     DB14185           Aripiprazole lauroxil    2015-11-24   \n",
       "64     DB14554                        Dotatate    2016-06-28   \n",
       "65     DB14568                      Ivosidenib    2016-10-25   \n",
       "66     DB14723                   Larotrectinib    2018-08-14   \n",
       "\n",
       "                                           indication  \n",
       "0   For the treatment of enuresis, polyuria, diabe...  \n",
       "1   Metoprolol is indicated for the treatment of a...  \n",
       "2   Chlorthalidone is indicated in the management ...  \n",
       "3   Oral indometacin is indicated for symptomatic ...  \n",
       "4   For the prevention of acute and delayed nausea...  \n",
       "..                                                ...  \n",
       "62  Sodium zirconium cyclosilicate is a potassium ...  \n",
       "63  Aripiprazole lauroxil is indicated for the tre...  \n",
       "64                                                     \n",
       "65  Ivosidenib is approved for use in the treatmen...  \n",
       "66  Larotrectinib is a tyrosine kinase inhibitor t...  \n",
       "\n",
       "[67 rows x 4 columns]"
      ]
     },
     "execution_count": 43,
     "metadata": {},
     "output_type": "execute_result"
    }
   ],
   "source": [
    "mapping_df"
   ]
  },
  {
   "cell_type": "code",
   "execution_count": 52,
   "metadata": {},
   "outputs": [],
   "source": [
    "fullgraph_df = pd.read_csv('C:\\\\Users\\\\aldis\\\\Documents\\\\GitHub\\\\seffnet\\\\resources\\\\mapping\\\\fullgraph_nodes_mapping.tsv', sep='\\t')"
   ]
  },
  {
   "cell_type": "code",
   "execution_count": 53,
   "metadata": {},
   "outputs": [],
   "source": [
    "phenotypes = []\n",
    "for node_id, namespace, iden, name, typ in fullgraph_df.values:\n",
    "    if typ == 'phenotype':\n",
    "        phenotypes.append((name, iden))"
   ]
  },
  {
   "cell_type": "code",
   "execution_count": 54,
   "metadata": {},
   "outputs": [],
   "source": [
    "indications_list = []\n",
    "for iden, name, approval, indication in mapping_df.values:\n",
    "    for pheno in phenotypes:\n",
    "        if pheno[0].lower() in indication.lower():\n",
    "            indications_list.append((iden, name, pheno[1], pheno[0], indication))\n",
    "edgelist_df = pd.DataFrame(\n",
    "    indications_list,\n",
    "    columns=['drugbank_id', 'drug_name', 'phenotype_id', 'phenotype_name','indication']\n",
    ")"
   ]
  },
  {
   "cell_type": "code",
   "execution_count": 57,
   "metadata": {},
   "outputs": [],
   "source": [
    "edgelist_df.to_csv('C:\\\\Users\\\\aldis\\\\Documents\\\\GitHub\\\\seffnet\\\\resources\\\\evaluate_new_drug_indications.tsv', sep='\\t', index=False)"
   ]
  },
  {
   "cell_type": "code",
   "execution_count": 62,
   "metadata": {},
   "outputs": [],
   "source": [
    "testing_df = pd.read_csv('C:\\\\Users\\\\aldis\\\\Documents\\\\GitHub\\\\seffnet\\\\resources\\\\evaluate_new_drug_indications_checked.tsv', sep='\\t')"
   ]
  },
  {
   "cell_type": "code",
   "execution_count": 80,
   "metadata": {},
   "outputs": [],
   "source": [
    "graph_df = pd.read_csv('C:\\\\Users\\\\aldis\\\\Documents\\\\GitHub\\\\seffnet\\\\resources\\\\mapping\\\\fullgraph_nodes_mapping.tsv', sep='\\t')"
   ]
  },
  {
   "cell_type": "code",
   "execution_count": 81,
   "metadata": {},
   "outputs": [],
   "source": [
    "chemicals_df = pd.read_csv('C:\\\\Users\\\\aldis\\\\Documents\\\\GitHub\\\\seffnet\\\\resources\\\\mapping\\\\chemicals_mapping.tsv', sep='\\t')"
   ]
  },
  {
   "cell_type": "code",
   "execution_count": 101,
   "metadata": {},
   "outputs": [],
   "source": [
    "l = []\n",
    "for _, name, pheno_id, _, _,_ in testing_df.values:\n",
    "    if not graph_df.loc[graph_df['name'] == name, 'node_id'].any():\n",
    "        continue\n",
    "    source = graph_df.loc[graph_df['name'] == name, 'node_id'].iloc[0]\n",
    "    target = graph_df.loc[graph_df['identifier'] == pheno_id, 'node_id'].iloc[0]\n",
    "    l.append((source, target))"
   ]
  },
  {
   "cell_type": "code",
   "execution_count": 93,
   "metadata": {},
   "outputs": [
    {
     "data": {
      "text/html": [
       "<div>\n",
       "<style scoped>\n",
       "    .dataframe tbody tr th:only-of-type {\n",
       "        vertical-align: middle;\n",
       "    }\n",
       "\n",
       "    .dataframe tbody tr th {\n",
       "        vertical-align: top;\n",
       "    }\n",
       "\n",
       "    .dataframe thead th {\n",
       "        text-align: right;\n",
       "    }\n",
       "</style>\n",
       "<table border=\"1\" class=\"dataframe\">\n",
       "  <thead>\n",
       "    <tr style=\"text-align: right;\">\n",
       "      <th></th>\n",
       "      <th>node_id</th>\n",
       "      <th>namespace</th>\n",
       "      <th>identifier</th>\n",
       "      <th>name</th>\n",
       "      <th>type</th>\n",
       "    </tr>\n",
       "  </thead>\n",
       "  <tbody>\n",
       "    <tr>\n",
       "      <th>0</th>\n",
       "      <td>1</td>\n",
       "      <td>pubchem.compound</td>\n",
       "      <td>10918</td>\n",
       "      <td>(3-Carboxy-2-(R)-Hydroxy-Propyl)-Trimethyl-Amm...</td>\n",
       "      <td>experimental drug</td>\n",
       "    </tr>\n",
       "    <tr>\n",
       "      <th>1</th>\n",
       "      <td>2</td>\n",
       "      <td>umls</td>\n",
       "      <td>C0000729</td>\n",
       "      <td>Abdominal cramps</td>\n",
       "      <td>phenotype</td>\n",
       "    </tr>\n",
       "    <tr>\n",
       "      <th>2</th>\n",
       "      <td>3</td>\n",
       "      <td>umls</td>\n",
       "      <td>C0000737</td>\n",
       "      <td>Abdominal pain</td>\n",
       "      <td>phenotype</td>\n",
       "    </tr>\n",
       "    <tr>\n",
       "      <th>3</th>\n",
       "      <td>4</td>\n",
       "      <td>umls</td>\n",
       "      <td>C0687713</td>\n",
       "      <td>Gastrointestinal pain</td>\n",
       "      <td>phenotype</td>\n",
       "    </tr>\n",
       "    <tr>\n",
       "      <th>4</th>\n",
       "      <td>5</td>\n",
       "      <td>umls</td>\n",
       "      <td>C0002418</td>\n",
       "      <td>Amblyopia</td>\n",
       "      <td>phenotype</td>\n",
       "    </tr>\n",
       "    <tr>\n",
       "      <th>...</th>\n",
       "      <td>...</td>\n",
       "      <td>...</td>\n",
       "      <td>...</td>\n",
       "      <td>...</td>\n",
       "      <td>...</td>\n",
       "    </tr>\n",
       "    <tr>\n",
       "      <th>17715</th>\n",
       "      <td>17716</td>\n",
       "      <td>pubchem.compound</td>\n",
       "      <td>6433164</td>\n",
       "      <td>Ferrous fumarate</td>\n",
       "      <td>approved drug</td>\n",
       "    </tr>\n",
       "    <tr>\n",
       "      <th>17716</th>\n",
       "      <td>17717</td>\n",
       "      <td>pubchem.compound</td>\n",
       "      <td>167159</td>\n",
       "      <td>Ferrous glycine sulfate</td>\n",
       "      <td>approved drug</td>\n",
       "    </tr>\n",
       "    <tr>\n",
       "      <th>17717</th>\n",
       "      <td>17718</td>\n",
       "      <td>pubchem.compound</td>\n",
       "      <td>636398</td>\n",
       "      <td>Hydrocortisone probutate</td>\n",
       "      <td>approved drug</td>\n",
       "    </tr>\n",
       "    <tr>\n",
       "      <th>17718</th>\n",
       "      <td>17719</td>\n",
       "      <td>pubchem.compound</td>\n",
       "      <td>8759</td>\n",
       "      <td>Edetate disodium anhydrous</td>\n",
       "      <td>approved drug</td>\n",
       "    </tr>\n",
       "    <tr>\n",
       "      <th>17719</th>\n",
       "      <td>17720</td>\n",
       "      <td>pubchem.compound</td>\n",
       "      <td>102232</td>\n",
       "      <td>Estriol tripropionate</td>\n",
       "      <td>experimental drug</td>\n",
       "    </tr>\n",
       "  </tbody>\n",
       "</table>\n",
       "<p>17720 rows × 5 columns</p>\n",
       "</div>"
      ],
      "text/plain": [
       "       node_id         namespace identifier  \\\n",
       "0            1  pubchem.compound      10918   \n",
       "1            2              umls   C0000729   \n",
       "2            3              umls   C0000737   \n",
       "3            4              umls   C0687713   \n",
       "4            5              umls   C0002418   \n",
       "...        ...               ...        ...   \n",
       "17715    17716  pubchem.compound    6433164   \n",
       "17716    17717  pubchem.compound     167159   \n",
       "17717    17718  pubchem.compound     636398   \n",
       "17718    17719  pubchem.compound       8759   \n",
       "17719    17720  pubchem.compound     102232   \n",
       "\n",
       "                                                    name               type  \n",
       "0      (3-Carboxy-2-(R)-Hydroxy-Propyl)-Trimethyl-Amm...  experimental drug  \n",
       "1                                       Abdominal cramps          phenotype  \n",
       "2                                         Abdominal pain          phenotype  \n",
       "3                                  Gastrointestinal pain          phenotype  \n",
       "4                                              Amblyopia          phenotype  \n",
       "...                                                  ...                ...  \n",
       "17715                                   Ferrous fumarate      approved drug  \n",
       "17716                            Ferrous glycine sulfate      approved drug  \n",
       "17717                           Hydrocortisone probutate      approved drug  \n",
       "17718                         Edetate disodium anhydrous      approved drug  \n",
       "17719                              Estriol tripropionate  experimental drug  \n",
       "\n",
       "[17720 rows x 5 columns]"
      ]
     },
     "execution_count": 93,
     "metadata": {},
     "output_type": "execute_result"
    }
   ],
   "source": [
    "graph_df"
   ]
  },
  {
   "cell_type": "markdown",
   "metadata": {},
   "source": [
    "Next:\n",
    "- load model and embeddings\n",
    "- create the testing set from the embeddings\n",
    "- get the true positive rate"
   ]
  },
  {
   "cell_type": "code",
   "execution_count": 107,
   "metadata": {},
   "outputs": [],
   "source": [
    "from bionev.utils import load_embedding"
   ]
  },
  {
   "cell_type": "code",
   "execution_count": 109,
   "metadata": {},
   "outputs": [],
   "source": [
    "embeddings = load_embedding(DEFAULT_EMBEDDINGS_PATH)"
   ]
  },
  {
   "cell_type": "code",
   "execution_count": 110,
   "metadata": {},
   "outputs": [],
   "source": [
    "model = joblib.load(DEFAULT_PREDICTIVE_MODEL_PATH)"
   ]
  },
  {
   "cell_type": "code",
   "execution_count": 115,
   "metadata": {},
   "outputs": [],
   "source": [
    "x = []\n",
    "y = []\n",
    "for edge in l:\n",
    "    node_u_emb = np.array(embeddings[str(edge[0])])\n",
    "    node_v_emb = np.array(embeddings[str(edge[1])])\n",
    "    feature_vector = node_u_emb * node_v_emb\n",
    "    x.append(feature_vector.tolist())\n",
    "    y.append(1)"
   ]
  },
  {
   "cell_type": "code",
   "execution_count": 118,
   "metadata": {},
   "outputs": [],
   "source": [
    "from sklearn.metrics import recall_score"
   ]
  },
  {
   "cell_type": "code",
   "execution_count": 124,
   "metadata": {},
   "outputs": [],
   "source": [
    "y_pred = model.predict(x)"
   ]
  },
  {
   "cell_type": "code",
   "execution_count": 126,
   "metadata": {},
   "outputs": [
    {
     "data": {
      "text/plain": [
       "0.7419354838709677"
      ]
     },
     "execution_count": 126,
     "metadata": {},
     "output_type": "execute_result"
    }
   ],
   "source": [
    "recall_score(y, y_pred)"
   ]
  },
  {
   "cell_type": "code",
   "execution_count": null,
   "metadata": {},
   "outputs": [],
   "source": []
  }
 ],
 "metadata": {
  "kernelspec": {
   "display_name": "Python 3",
   "language": "python",
   "name": "python3"
  },
  "language_info": {
   "codemirror_mode": {
    "name": "ipython",
    "version": 3
   },
   "file_extension": ".py",
   "mimetype": "text/x-python",
   "name": "python",
   "nbconvert_exporter": "python",
   "pygments_lexer": "ipython3",
   "version": "3.7.4"
  }
 },
 "nbformat": 4,
 "nbformat_minor": 2
}
