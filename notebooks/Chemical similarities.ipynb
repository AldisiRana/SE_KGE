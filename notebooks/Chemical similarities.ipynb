{
 "cells": [
  {
   "cell_type": "markdown",
   "metadata": {},
   "source": [
    "# Create chemical similarity graph\n",
    "Note: You need to have the RDkit package and environment to run this notebook"
   ]
  },
  {
   "cell_type": "code",
   "execution_count": 1,
   "metadata": {},
   "outputs": [],
   "source": [
    "import pybel\n",
    "import os\n",
    "import networkx as nx\n",
    "import pandas as pd\n",
    "from se_kge.chemical_similarities import create_similarity_graph"
   ]
  },
  {
   "cell_type": "code",
   "execution_count": 2,
   "metadata": {},
   "outputs": [],
   "source": [
    "fullgraph = pybel.from_pickle(os.path.join(os.pardir, \"resources\", \"basic_graphs\", \"fullgraph_without_sim.pickle\"))"
   ]
  },
  {
   "cell_type": "code",
   "execution_count": 3,
   "metadata": {},
   "outputs": [],
   "source": [
    "chemicals_list = []\n",
    "for node in fullgraph.nodes():\n",
    "    if node.namespace != 'pubchem':\n",
    "        continue\n",
    "    chemicals_list.append(node.identifier)\n",
    "chemicals_mapping = os.path.join(os.pardir, \"resources\", \"mapping\", \"drugbank_pubchem_mapping.tsv\")"
   ]
  },
  {
   "cell_type": "code",
   "execution_count": 25,
   "metadata": {},
   "outputs": [
    {
     "name": "stderr",
     "output_type": "stream",
     "text": [
      "Getting SMILES: 100%|██████████████████████████████████████████████████████████████| 5438/5438 [11:33<00:00,  7.84it/s]\n",
      "Getting fingerprints: 100%|████████████████████████████████████████████████████████| 5438/5438 [01:21<00:00, 66.72it/s]\n",
      "Calculating Similarities: 14761461it [04:02, 60844.58it/s]\n",
      "Creating BELGraph: 100%|████████████████████████████████████████████████| 14761461/14761461 [08:41<00:00, 28292.46it/s]\n"
     ]
    }
   ],
   "source": [
    "chem_sim_graph = create_similarity_graph(chemicals_list, chemicals_mapping, 0.5)"
   ]
  },
  {
   "cell_type": "code",
   "execution_count": 26,
   "metadata": {},
   "outputs": [],
   "source": [
    "pybel.to_pickle(chem_sim_graph, os.path.join(os.pardir, \"resources\",\"chemsim_50_graphs\", \"chem_sim_graph_50.pickle\"))"
   ]
  }
 ],
 "metadata": {
  "kernelspec": {
   "display_name": "Python 3",
   "language": "python",
   "name": "python3"
  },
  "language_info": {
   "codemirror_mode": {
    "name": "ipython",
    "version": 3
   },
   "file_extension": ".py",
   "mimetype": "text/x-python",
   "name": "python",
   "nbconvert_exporter": "python",
   "pygments_lexer": "ipython3",
   "version": "3.6.7"
  }
 },
 "nbformat": 4,
 "nbformat_minor": 2
}
