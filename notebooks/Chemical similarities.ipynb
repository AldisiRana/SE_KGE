{
 "cells": [
  {
   "cell_type": "markdown",
   "metadata": {},
   "source": [
    "# Create chemical similarity graph\n",
    "Note: You need to have the RDkit package and environment to run this notebook"
   ]
  },
  {
   "cell_type": "code",
   "execution_count": 1,
   "metadata": {},
   "outputs": [],
   "source": [
    "import pybel\n",
    "import os\n",
    "import networkx as nx\n",
    "from se_kge.chemical_similarities import create_similarity_graph"
   ]
  },
  {
   "cell_type": "code",
   "execution_count": 2,
   "metadata": {},
   "outputs": [],
   "source": [
    "fullgraph = pybel.from_pickle(os.path.join(os.pardir, \"resources\", \"fullgraph_without_sim.pickle\"))"
   ]
  },
  {
   "cell_type": "code",
   "execution_count": 3,
   "metadata": {},
   "outputs": [],
   "source": [
    "chemicals_list = []\n",
    "for node in fullgraph.nodes():\n",
    "    if node.namespace != 'pubchem':\n",
    "        continue\n",
    "    chemicals_list.append(node.identifier)"
   ]
  },
  {
   "cell_type": "code",
   "execution_count": 4,
   "metadata": {},
   "outputs": [
    {
     "name": "stderr",
     "output_type": "stream",
     "text": [
      "Getting SMILES: 100%|████████████████████████████████████████████████████████████| 4695/4695 [1:00:37<00:00,  1.53s/it]\n",
      "Getting fingerprints: 100%|████████████████████████████████████████████████████████| 4695/4695 [01:16<00:00, 61.27it/s]\n",
      "Calculating Similarities: 11014471it [02:54, 63127.33it/s]\n",
      "Creating BELGraph: 100%|███████████████████████████████████████████████| 11014471/11014471 [00:31<00:00, 353640.57it/s]\n"
     ]
    }
   ],
   "source": [
    "chem_sim_graph = create_similarity_graph(chemicals_list)"
   ]
  },
  {
   "cell_type": "code",
   "execution_count": 7,
   "metadata": {},
   "outputs": [],
   "source": [
    "pybel.to_pickle(chem_sim_graph, os.path.join(os.pardir, \"resources\", \"chem_sim_graph.pickle\"))"
   ]
  },
  {
   "cell_type": "code",
   "execution_count": null,
   "metadata": {},
   "outputs": [],
   "source": []
  }
 ],
 "metadata": {
  "kernelspec": {
   "display_name": "Python 3",
   "language": "python",
   "name": "python3"
  },
  "language_info": {
   "codemirror_mode": {
    "name": "ipython",
    "version": 3
   },
   "file_extension": ".py",
   "mimetype": "text/x-python",
   "name": "python",
   "nbconvert_exporter": "python",
   "pygments_lexer": "ipython3",
   "version": "3.6.7"
  }
 },
 "nbformat": 4,
 "nbformat_minor": 2
}
