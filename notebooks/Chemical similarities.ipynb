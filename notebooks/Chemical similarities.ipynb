{
 "cells": [
  {
   "cell_type": "markdown",
   "metadata": {},
   "source": [
    "# Create chemical similarity graph\n",
    "Note: You need to have the RDkit package and environment to run this notebook"
   ]
  },
  {
   "cell_type": "code",
   "execution_count": 11,
   "metadata": {},
   "outputs": [],
   "source": [
    "import pybel\n",
    "import os\n",
    "import networkx as nx\n",
    "import pandas as pd\n",
    "from se_kge.chemical_similarities import create_similarity_graph"
   ]
  },
  {
   "cell_type": "code",
   "execution_count": 2,
   "metadata": {},
   "outputs": [],
   "source": [
    "fullgraph = pybel.from_pickle(os.path.join(os.pardir, \"resources\", \"fullgraph_without_sim.pickle\"))"
   ]
  },
  {
   "cell_type": "code",
   "execution_count": 3,
   "metadata": {},
   "outputs": [],
   "source": [
    "chemicals_list = []\n",
    "for node in fullgraph.nodes():\n",
    "    if node.namespace != 'pubchem':\n",
    "        continue\n",
    "    chemicals_list.append(node.identifier)\n",
    "chemicals_mapping = os.path.join(os.pardir, \"resources\", \"drugbank_pubchem_mapping.tsv\")"
   ]
  },
  {
   "cell_type": "code",
   "execution_count": 4,
   "metadata": {},
   "outputs": [
    {
     "name": "stderr",
     "output_type": "stream",
     "text": [
      "Getting SMILES: 100%|██████████████████████████████████████████████████████████████| 4695/4695 [12:37<00:00,  6.20it/s]\n",
      "Getting fingerprints: 100%|████████████████████████████████████████████████████████| 4695/4695 [01:08<00:00, 74.87it/s]\n",
      "Calculating Similarities: 10790335it [02:51, 62775.59it/s]\n",
      "Creating BELGraph: 100%|████████████████████████████████████████████████| 10790335/10790335 [06:41<00:00, 26871.73it/s]\n"
     ]
    }
   ],
   "source": [
    "chem_sim_graph = create_similarity_graph(chemicals_list, chemicals_mapping)"
   ]
  },
  {
   "cell_type": "code",
   "execution_count": 5,
   "metadata": {},
   "outputs": [],
   "source": [
    "pybel.to_pickle(chem_sim_graph, os.path.join(os.pardir, \"resources\", \"chem_sim_graph_50.pickle\"))"
   ]
  },
  {
   "cell_type": "code",
   "execution_count": 6,
   "metadata": {},
   "outputs": [],
   "source": [
    "fullgraph_with_chemsim_50 = fullgraph + chem_sim_graph"
   ]
  },
  {
   "cell_type": "code",
   "execution_count": 7,
   "metadata": {},
   "outputs": [],
   "source": [
    "pybel.to_pickle(fullgraph_with_chemsim_50, os.path.join(os.pardir, \"resources\", \"fullgraph_with_chemsim_50.pickle\"))"
   ]
  },
  {
   "cell_type": "code",
   "execution_count": 15,
   "metadata": {},
   "outputs": [],
   "source": [
    "relabel_fullgraph = {}\n",
    "i = 1\n",
    "for node in fullgraph_with_chemsim_50.nodes():\n",
    "    relabel_fullgraph[node] = i\n",
    "    i+=1"
   ]
  },
  {
   "cell_type": "code",
   "execution_count": 28,
   "metadata": {},
   "outputs": [],
   "source": [
    "fullgraph_id = nx.relabel_nodes(fullgraph_with_chemsim_50, relabel_fullgraph)"
   ]
  },
  {
   "cell_type": "code",
   "execution_count": 29,
   "metadata": {},
   "outputs": [],
   "source": [
    "nx.write_edgelist(fullgraph_id, os.path.join(os.pardir, \"resources\", \"fullgraph_with_chemsim_50.edgelist\"), data=False)"
   ]
  },
  {
   "cell_type": "code",
   "execution_count": 31,
   "metadata": {},
   "outputs": [
    {
     "data": {
      "text/plain": [
       "4630"
      ]
     },
     "execution_count": 31,
     "metadata": {},
     "output_type": "execute_result"
    }
   ],
   "source": [
    "len(chem_sim_graph.nodes())"
   ]
  },
  {
   "cell_type": "code",
   "execution_count": null,
   "metadata": {},
   "outputs": [],
   "source": []
  }
 ],
 "metadata": {
  "kernelspec": {
   "display_name": "Python 3",
   "language": "python",
   "name": "python3"
  },
  "language_info": {
   "codemirror_mode": {
    "name": "ipython",
    "version": 3
   },
   "file_extension": ".py",
   "mimetype": "text/x-python",
   "name": "python",
   "nbconvert_exporter": "python",
   "pygments_lexer": "ipython3",
   "version": "3.6.7"
  }
 },
 "nbformat": 4,
 "nbformat_minor": 2
}
