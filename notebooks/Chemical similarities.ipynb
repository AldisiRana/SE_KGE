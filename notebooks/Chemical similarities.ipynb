{
 "cells": [
  {
   "cell_type": "markdown",
   "metadata": {},
   "source": [
    "# Create chemical similarity graph\n",
    "Note: You need to have the RDkit package and environment to run this notebook"
   ]
  },
  {
   "cell_type": "code",
   "execution_count": 13,
   "metadata": {},
   "outputs": [],
   "source": [
    "import pybel\n",
    "import os\n",
    "import networkx as nx\n",
    "import pandas as pd\n",
    "from se_kge.chemical_similarities import create_similarity_graph"
   ]
  },
  {
   "cell_type": "code",
   "execution_count": 14,
   "metadata": {},
   "outputs": [],
   "source": [
    "fullgraph = pybel.from_pickle(os.path.join(os.pardir, \"resources\", \"fullgraph_without_sim.pickle\"))"
   ]
  },
  {
   "cell_type": "code",
   "execution_count": 15,
   "metadata": {},
   "outputs": [],
   "source": [
    "chemicals_list = []\n",
    "for node in fullgraph.nodes():\n",
    "    if node.namespace != 'pubchem':\n",
    "        continue\n",
    "    chemicals_list.append(node.identifier)\n",
    "chemicals_mapping = os.path.join(os.pardir, \"resources\", \"drugbank_pubchem_mapping.tsv\")"
   ]
  },
  {
   "cell_type": "code",
   "execution_count": 16,
   "metadata": {},
   "outputs": [
    {
     "name": "stderr",
     "output_type": "stream",
     "text": [
      "Getting SMILES: 100%|██████████████████████████████████████████████████████████████| 4743/4743 [11:54<00:00,  6.64it/s]\n",
      "Getting fingerprints: 100%|████████████████████████████████████████████████████████| 4743/4743 [01:13<00:00, 64.23it/s]\n",
      "Calculating Similarities: 11009778it [02:47, 65778.09it/s]\n",
      "Creating BELGraph: 100%|███████████████████████████████████████████████| 11009778/11009778 [01:39<00:00, 110229.49it/s]\n"
     ]
    }
   ],
   "source": [
    "chem_sim_graph = create_similarity_graph(chemicals_list, chemicals_mapping, 0.55)"
   ]
  },
  {
   "cell_type": "code",
   "execution_count": 17,
   "metadata": {},
   "outputs": [],
   "source": [
    "pybel.to_pickle(chem_sim_graph, os.path.join(os.pardir, \"resources\", \"chem_sim_graph_55.pickle\"))"
   ]
  },
  {
   "cell_type": "code",
   "execution_count": 18,
   "metadata": {},
   "outputs": [],
   "source": [
    "fullgraph_with_chemsim_60 = fullgraph + chem_sim_graph"
   ]
  },
  {
   "cell_type": "code",
   "execution_count": 19,
   "metadata": {},
   "outputs": [],
   "source": [
    "pybel.to_pickle(fullgraph_with_chemsim_60, os.path.join(os.pardir, \"resources\", \"fullgraph_with_chemsim_55.pickle\"))"
   ]
  },
  {
   "cell_type": "code",
   "execution_count": 20,
   "metadata": {},
   "outputs": [],
   "source": [
    "relabel_fullgraph = {}\n",
    "i = 1\n",
    "for node in fullgraph_with_chemsim_60.nodes():\n",
    "    relabel_fullgraph[node] = i\n",
    "    i+=1"
   ]
  },
  {
   "cell_type": "code",
   "execution_count": 21,
   "metadata": {},
   "outputs": [],
   "source": [
    "fullgraph_id = nx.relabel_nodes(fullgraph_with_chemsim_60, relabel_fullgraph)"
   ]
  },
  {
   "cell_type": "code",
   "execution_count": 22,
   "metadata": {},
   "outputs": [],
   "source": [
    "nx.write_edgelist(fullgraph_id, os.path.join(os.pardir, \"resources\", \"fullgraph_with_chemsim_55.edgelist\"), data=False)"
   ]
  },
  {
   "cell_type": "code",
   "execution_count": 23,
   "metadata": {},
   "outputs": [
    {
     "data": {
      "text/plain": [
       "224733"
      ]
     },
     "execution_count": 23,
     "metadata": {},
     "output_type": "execute_result"
    }
   ],
   "source": [
    "len(chem_sim_graph.edges())"
   ]
  },
  {
   "cell_type": "code",
   "execution_count": null,
   "metadata": {},
   "outputs": [],
   "source": []
  }
 ],
 "metadata": {
  "kernelspec": {
   "display_name": "Python 3",
   "language": "python",
   "name": "python3"
  },
  "language_info": {
   "codemirror_mode": {
    "name": "ipython",
    "version": 3
   },
   "file_extension": ".py",
   "mimetype": "text/x-python",
   "name": "python",
   "nbconvert_exporter": "python",
   "pygments_lexer": "ipython3",
   "version": "3.6.7"
  }
 },
 "nbformat": 4,
 "nbformat_minor": 2
}
