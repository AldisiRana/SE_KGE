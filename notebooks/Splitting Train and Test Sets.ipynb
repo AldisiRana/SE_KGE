{
 "cells": [
  {
   "cell_type": "markdown",
   "metadata": {},
   "source": [
    "# Splitting Train and Test Sets based on clusters"
   ]
  },
  {
   "cell_type": "markdown",
   "metadata": {},
   "source": [
    "### Create dataframe from csv file"
   ]
  },
  {
   "cell_type": "code",
   "execution_count": 3,
   "metadata": {},
   "outputs": [],
   "source": [
    "import pandas as pd\n",
    "from sklearn.model_selection import GroupShuffleSplit"
   ]
  },
  {
   "cell_type": "code",
   "execution_count": 4,
   "metadata": {},
   "outputs": [],
   "source": [
    "clustered_chemicals = pd.read_csv(\"/home/raldisi/Desktop/Clustered_chemicals.csv\")"
   ]
  },
  {
   "cell_type": "markdown",
   "metadata": {},
   "source": [
    "### Splitting training and testing sets based on clusters"
   ]
  },
  {
   "cell_type": "code",
   "execution_count": 6,
   "metadata": {},
   "outputs": [],
   "source": [
    "train_inds, test_inds = next(GroupShuffleSplit(test_size=.20, n_splits=2, random_state = 7).split(clustered_chemicals, groups=clustered_chemicals['Cluster']))\n",
    "\n",
    "train = clustered_chemicals.iloc[train_inds]\n",
    "test = clustered_chemicals.iloc[test_inds]"
   ]
  },
  {
   "cell_type": "markdown",
   "metadata": {},
   "source": [
    "### Splitting training and testing sets based on weighted clusters"
   ]
  },
  {
   "cell_type": "code",
   "execution_count": 1,
   "metadata": {},
   "outputs": [],
   "source": [
    "import pandas as pd\n",
    "import pybel\n",
    "import networkx as nx"
   ]
  },
  {
   "cell_type": "code",
   "execution_count": 2,
   "metadata": {},
   "outputs": [],
   "source": [
    "full_graph = pybel.from_pickle(\"/home/raldisi/Desktop/full_graph.pickle\")"
   ]
  },
  {
   "cell_type": "code",
   "execution_count": null,
   "metadata": {},
   "outputs": [],
   "source": [
    "clusters_dict = {i : clustered_chemicals['PubchemID'].loc[clustered_chemicals['Cluster'] == i].tolist()\n",
    "                for i in range(1,clustered_chemicals.Cluster.nunique()+1)}"
   ]
  },
  {
   "cell_type": "code",
   "execution_count": null,
   "metadata": {},
   "outputs": [],
   "source": [
    "subgraphs_dict = {}\n",
    "for cluster, chemicals in clusters_dict.items():\n",
    "    chemicals_subgraph = []\n",
    "    for chemical in chemicals:\n",
    "        chemical = pybel.dsl.Abundance(namespace='pubchem', name=str(chemical))\n",
    "        if chemical not in full_graph.nodes():\n",
    "            continue\n",
    "        for neighbor in full_graph.neighbors(chemical):\n",
    "            chemicals_subgraph.append(neighbor)\n",
    "    subgraphs_dict[cluster] = list(dict.fromkeys(chemicals_subgraph)) # to remove duplicates"
   ]
  },
  {
   "cell_type": "code",
   "execution_count": null,
   "metadata": {},
   "outputs": [],
   "source": [
    "fullgraph_edges = len(full_graph.edges())\n",
    "cluster_weights = {}\n",
    "for cluster, nodes in tqdm(subgraphs_dict.items()):\n",
    "    subgraph = full_graph.subgraph(nodes)\n",
    "    edges = len(subgraph.edges())\n",
    "    cluster_weights[cluster] = edges/fullgraph_edges"
   ]
  },
  {
   "cell_type": "code",
   "execution_count": null,
   "metadata": {},
   "outputs": [],
   "source": [
    "# next steps:\n",
    "## counting total number of edges in each cluster\n",
    "## creating weight calculation based on the edge count in each cluster\n",
    "## split sets based on weights"
   ]
  }
 ],
 "metadata": {
  "kernelspec": {
   "display_name": "Python 3",
   "language": "python",
   "name": "python3"
  },
  "language_info": {
   "codemirror_mode": {
    "name": "ipython",
    "version": 3
   },
   "file_extension": ".py",
   "mimetype": "text/x-python",
   "name": "python",
   "nbconvert_exporter": "python",
   "pygments_lexer": "ipython3",
   "version": "3.6.5"
  }
 },
 "nbformat": 4,
 "nbformat_minor": 2
}
